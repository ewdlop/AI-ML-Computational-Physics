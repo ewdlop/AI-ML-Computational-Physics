{
 "cells": [
  {
   "cell_type": "code",
   "execution_count": 42,
   "metadata": {
    "dotnet_interactive": {
     "language": "csharp"
    },
    "polyglot_notebook": {
     "kernelName": "csharp"
    }
   },
   "outputs": [
    {
     "data": {
      "text/html": [
       "<div><div></div><div></div><div><strong>Installed Packages</strong><ul><li><span>Microsoft.ML, 2.0.1</span></li></ul></div></div>"
      ]
     },
     "metadata": {},
     "output_type": "display_data"
    }
   ],
   "source": [
    "#r \"nuget:Microsoft.ML\""
   ]
  },
  {
   "cell_type": "code",
   "execution_count": 43,
   "metadata": {
    "dotnet_interactive": {
     "language": "csharp"
    },
    "polyglot_notebook": {
     "kernelName": "csharp"
    }
   },
   "outputs": [],
   "source": [
    "using Microsoft.ML.Transforms.Text;\n",
    "using Microsoft.ML;\n",
    "using Microsoft.ML.Data;"
   ]
  },
  {
   "cell_type": "code",
   "execution_count": 44,
   "metadata": {
    "dotnet_interactive": {
     "language": "csharp"
    },
    "polyglot_notebook": {
     "kernelName": "csharp"
    }
   },
   "outputs": [],
   "source": [
    "var featurizeTextOptions = new TextFeaturizingEstimator.Options()\n",
    "{\n",
    "    // Produce cleaned up tokens for possible input to the word embedding transform\n",
    "    OutputTokensColumnName = \"OutputTokens\",\n",
    "\n",
    "    KeepDiacritics = false, // diarcitic is a mark added to a letter to indicate a special pronunciation\n",
    "    KeepPunctuations = false, \n",
    "    KeepNumbers = true,\n",
    "    CaseMode  = TextNormalizingEstimator.CaseMode.Lower,\n",
    "\n",
    "    StopWordsRemoverOptions = new StopWordsRemovingEstimator.Options()\n",
    "    {\n",
    "        Language = TextFeaturizingEstimator.Language.English\n",
    "    },\n",
    "\n",
    "     // Row-wise normalization (see: NormalizeLpNorm)\n",
    "    Norm = TextFeaturizingEstimator. NormFunction.L2,\n",
    "\n",
    "    // ngram options\n",
    "    WordFeatureExtractor = new WordBagEstimator.Options()\n",
    "    {\n",
    "        NgramLength = 2,\n",
    "        UseAllLengths = true, // Produce both unigrams and bigrams\n",
    "        Weighting = NgramExtractingEstimator.WeightingCriteria.TfIdf, // TF-IDF\n",
    "    },\n",
    "\n",
    "    // chargram options\n",
    "    CharFeatureExtractor = new WordBagEstimator.Options()\n",
    "    {\n",
    "        NgramLength = 3,\n",
    "        UseAllLengths = false, // Produce only tri-chargrams and not single/double characters\n",
    "        Weighting = NgramExtractingEstimator.WeightingCriteria.TfIdf, // TF-IDF\n",
    "    },\n",
    "};"
   ]
  },
  {
   "cell_type": "code",
   "execution_count": 45,
   "metadata": {
    "dotnet_interactive": {
     "language": "csharp"
    },
    "polyglot_notebook": {
     "kernelName": "csharp"
    }
   },
   "outputs": [],
   "source": [
    "MLContext mlContext = new MLContext();\n",
    "\n",
    "// Featurization pipeline\n",
    "//var pipeline = mlContext.Transforms.Conversion.MapValueToKey(\"Label\", \"Label\") // Needed for multi-class to convert string labels to the Key type\n",
    "            //.Append(mlContext.Transforms.Text.FeaturizeText(\"Features\", featurizeTextOptions, new[] { \"SentimentText\" })) // Use above options object\n",
    "            //.Append(mlContext.Transforms.Concatenate(\"Features\", new[] { \"FeaturesText\" })) // Concat is incase there are additional columns\n",
    "            //.Append(mlContext.Transforms.NormalizeMinMax(\"Features\", \"Features\")) // Generally unneeded if only using the output from FeaturizeText as it's row-wise normalized w/ a L2-norm\n",
    "            //.AppendCacheCheckpoint(mlContext); // Cache the featurized dataset in memory for added speed"
   ]
  },
  {
   "cell_type": "code",
   "execution_count": 46,
   "metadata": {
    "dotnet_interactive": {
     "language": "csharp"
    },
    "polyglot_notebook": {
     "kernelName": "csharp"
    }
   },
   "outputs": [],
   "source": [
    "private class TextData\n",
    "{\n",
    "    public string Text { get; set; }\n",
    "}\n",
    "\n",
    "private class TransformedTextData : TextData\n",
    "{\n",
    "    public float[] Features { get; set; }\n",
    "    public string[] OutputTokens { get; set; }\n",
    "}"
   ]
  },
  {
   "cell_type": "code",
   "execution_count": 47,
   "metadata": {
    "dotnet_interactive": {
     "language": "csharp"
    },
    "polyglot_notebook": {
     "kernelName": "csharp"
    }
   },
   "outputs": [],
   "source": [
    "var samples = new List<TextData>()\n",
    "{\n",
    "    new TextData(){ Text = \"ML.NET's FeaturizeText API uses a \" +\n",
    "    \"composition of several basic transforms to convert text into \" +\n",
    "    \"numeric features.\" },\n",
    "\n",
    "    new TextData(){ Text = \"This API can be used as a featurizer to \" +\n",
    "    \"perform text classification.\" },\n",
    "\n",
    "    new TextData(){ Text = \"There are a number of approaches to text \" +\n",
    "    \"classification.\" },\n",
    "\n",
    "    new TextData(){ Text = \"One of the simplest and most common \" +\n",
    "    \"approaches is called “Bag of Words”.\" },\n",
    "\n",
    "    new TextData(){ Text = \"Text classification can be used for a \" +\n",
    "    \"wide variety of tasks\" },\n",
    "\n",
    "    new TextData(){ Text = \"such as sentiment analysis, topic \" +\n",
    "    \"detection, intent identification etc.\" },\n",
    "};"
   ]
  },
  {
   "cell_type": "code",
   "execution_count": 48,
   "metadata": {
    "dotnet_interactive": {
     "language": "csharp"
    },
    "polyglot_notebook": {
     "kernelName": "csharp"
    }
   },
   "outputs": [],
   "source": [
    " var options = new TextFeaturizingEstimator.Options()\n",
    "{\n",
    "    // Also output tokenized words\n",
    "    OutputTokensColumnName = \"OutputTokens\",\n",
    "    CaseMode = TextNormalizingEstimator.CaseMode.Lower,\n",
    "    // Use ML.NET's built-in stop word remover\n",
    "    StopWordsRemoverOptions = new StopWordsRemovingEstimator.Options()\n",
    "    {\n",
    "        Language = TextFeaturizingEstimator.Language.English\n",
    "    },\n",
    "\n",
    "    WordFeatureExtractor = new WordBagEstimator.Options()\n",
    "    {\n",
    "        NgramLength\n",
    "        = 2,\n",
    "        UseAllLengths = true\n",
    "    },\n",
    "\n",
    "    CharFeatureExtractor = new WordBagEstimator.Options()\n",
    "    {\n",
    "        NgramLength\n",
    "        = 3,\n",
    "        UseAllLengths = false\n",
    "    },\n",
    "};"
   ]
  },
  {
   "cell_type": "code",
   "execution_count": 49,
   "metadata": {
    "dotnet_interactive": {
     "language": "csharp"
    },
    "polyglot_notebook": {
     "kernelName": "csharp"
    }
   },
   "outputs": [],
   "source": [
    "IDataView dataview = mlContext.Data.LoadFromEnumerable(samples);\n",
    "TextFeaturizingEstimator textPipeline = mlContext.Transforms.Text.FeaturizeText(\"Features\",\n",
    "    options, \"Text\");\n",
    "// Create the prediction engine to get the features extracted from the\n",
    "// text.\n",
    "// Fit to data.\n",
    "ITransformer textTransformer = textPipeline.Fit(dataview);\n",
    "var predictionEngine = mlContext.Model.CreatePredictionEngine<TextData,\n",
    "    TransformedTextData>(textTransformer);"
   ]
  },
  {
   "cell_type": "code",
   "execution_count": 50,
   "metadata": {
    "dotnet_interactive": {
     "language": "csharp"
    },
    "polyglot_notebook": {
     "kernelName": "csharp"
    }
   },
   "outputs": [],
   "source": [
    "// Trainer \n",
    "//var trainer = mlContext.MulticlassClassification.Trainers.OneVersusAll(mlContext.BinaryClassification.Trainers.AveragedPerceptron(labelColumnName: \"Label\", numberOfIterations: 10, featureColumnName: \"Features\"), labelColumnName: \"Label\")\n",
    "            //.Append(mlContext.Transforms.Conversion.MapKeyToValue(\"PredictedLabel\", \"PredictedLabel\"));\n",
    "//var trainingPipeline = pipeline.Append(trainer);"
   ]
  },
  {
   "cell_type": "code",
   "execution_count": 51,
   "metadata": {
    "dotnet_interactive": {
     "language": "csharp"
    },
    "polyglot_notebook": {
     "kernelName": "csharp"
    }
   },
   "outputs": [],
   "source": [
    "public class SentimentData\n",
    "{\n",
    "    [LoadColumn(0)]\n",
    "    public string SentimentText;\n",
    "\n",
    "    [LoadColumn(1), ColumnName(\"Label\")]\n",
    "    public bool Sentiment;\n",
    "}\n",
    "\n",
    "public class SentimentPrediction : SentimentData\n",
    "{\n",
    "\n",
    "    [ColumnName(\"PredictedLabel\")]\n",
    "    public bool Prediction { get; set; }\n",
    "\n",
    "    public float Probability { get; set; }\n",
    "\n",
    "    public float Score { get; set; }\n",
    "}\n"
   ]
  },
  {
   "cell_type": "code",
   "execution_count": 52,
   "metadata": {
    "dotnet_interactive": {
     "language": "csharp"
    },
    "polyglot_notebook": {
     "kernelName": "csharp"
    }
   },
   "outputs": [],
   "source": [
    "//IDataView dataview = mlContext.Data.LoadFromTextFile<SentimentData>(\"yelp_labelled.txt\", hasHeader: false);\n",
    "//DataOperationsCatalog.TrainTestData splitDataView = mlContext.Data.TrainTestSplit(dataview, testFraction: 0.2);"
   ]
  },
  {
   "cell_type": "code",
   "execution_count": 59,
   "metadata": {
    "dotnet_interactive": {
     "language": "csharp"
    },
    "polyglot_notebook": {
     "kernelName": "csharp"
    }
   },
   "outputs": [
    {
     "name": "stdout",
     "output_type": "stream",
     "text": [
      "Number of Features: 282\n",
      "Features: 0.0941  0.0941  0.0941  0.0941  0.0941  0.0941  0.0941  0.0941  0.0941  0.1881  \n",
      "[ml.net's][featurizetext][api][uses][composition][basic][transforms][convert][text][numeric][features.]\n",
      "Number of Features: 282\n",
      "Features: 0.0000  0.0000  0.0000  0.0000  0.0000  0.0000  0.0000  0.0000  0.0000  0.1443  \n",
      "[api][used][featurizer][perform][text][classification.]\n",
      "Number of Features: 282\n",
      "Features: 0.0000  0.0000  0.0000  0.0000  0.0000  0.0000  0.0000  0.0000  0.0000  0.0000  \n",
      "[number][approaches][text][classification.]\n",
      "Number of Features: 282\n",
      "Features: 0.0000  0.0000  0.0000  0.0000  0.0000  0.0000  0.0000  0.0000  0.0000  0.0000  \n",
      "[simplest][common][approaches][called][“bag][words”.]\n",
      "Number of Features: 282\n",
      "Features: 0.0000  0.0000  0.0000  0.0000  0.0000  0.0000  0.0000  0.0000  0.0000  0.0000  \n",
      "[text][classification][used][wide][variety][tasks]\n",
      "Number of Features: 282\n",
      "Features: 0.0000  0.0000  0.0000  0.0000  0.0000  0.0000  0.0000  0.0000  0.0000  0.0000  \n",
      "[sentiment][analysis,][topic][detection,][intent][identification][etc.]\n"
     ]
    }
   ],
   "source": [
    "for(int j = 0; j < samples.Count; j++)\n",
    "{\n",
    "    // Convert the text into numeric features.\n",
    "    var prediction = predictionEngine.Predict(samples[j]);\n",
    "\n",
    "    // Print the length of the feature vector.\n",
    "    Console.WriteLine($\"Number of Features: {prediction.Features.Length}\");\n",
    "\n",
    "    // Print feature values and tokens.\n",
    "    Console.Write(\"Features: \");\n",
    "    for (int i = 0; i < 10; i++)\n",
    "        Console.Write($\"{prediction.Features[i]:F4}  \");\n",
    "    Console.WriteLine();\n",
    "    for (int k = 0; k < prediction.OutputTokens.Length; k++)\n",
    "    {\n",
    "        Console.Write($\"[{prediction.OutputTokens[k]}]\");\n",
    "    }\n",
    "    Console.WriteLine();\n",
    "}\n",
    "\n"
   ]
  }
 ],
 "metadata": {
  "kernelspec": {
   "display_name": ".NET (C#)",
   "language": "C#",
   "name": ".net-csharp"
  },
  "polyglot_notebook": {
   "kernelInfo": {
    "defaultKernelName": "csharp",
    "items": [
     {
      "aliases": [
       "c#",
       "C#"
      ],
      "languageName": "C#",
      "name": "csharp"
     },
     {
      "aliases": [
       "frontend"
      ],
      "name": "vscode"
     },
     {
      "aliases": [],
      "name": ".NET"
     },
     {
      "aliases": [
       "f#",
       "F#"
      ],
      "languageName": "F#",
      "name": "fsharp"
     },
     {
      "aliases": [],
      "languageName": "HTML",
      "name": "html"
     },
     {
      "aliases": [
       "js"
      ],
      "languageName": "JavaScript",
      "name": "javascript"
     },
     {
      "aliases": [],
      "languageName": "KQL",
      "name": "kql"
     },
     {
      "aliases": [],
      "languageName": "Mermaid",
      "name": "mermaid"
     },
     {
      "aliases": [
       "powershell"
      ],
      "languageName": "PowerShell",
      "name": "pwsh"
     },
     {
      "aliases": [],
      "languageName": "SQL",
      "name": "sql"
     },
     {
      "aliases": [],
      "name": "value"
     },
     {
      "aliases": [],
      "name": "webview"
     }
    ]
   }
  }
 },
 "nbformat": 4,
 "nbformat_minor": 2
}
