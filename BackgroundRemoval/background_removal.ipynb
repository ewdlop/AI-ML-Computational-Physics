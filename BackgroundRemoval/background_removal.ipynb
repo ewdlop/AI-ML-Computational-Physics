{
 "cells": [
  {
   "cell_type": "code",
   "execution_count": 1,
   "metadata": {},
   "outputs": [],
   "source": [
    "from rembg import remove\n",
    "from PIL import Image"
   ]
  },
  {
   "cell_type": "code",
   "execution_count": 5,
   "metadata": {},
   "outputs": [
    {
     "ename": "RuntimeError",
     "evalue": "D:\\a\\_work\\1\\s\\onnxruntime\\python\\onnxruntime_pybind_state.cc:531 onnxruntime::python::CreateExecutionProviderInstance CUDA_PATH is set but CUDA wasn't able to be loaded. Please install the correct version of CUDA and cuDNN as mentioned in the GPU requirements page (https://onnxruntime.ai/docs/reference/execution-providers/CUDA-ExecutionProvider.html#requirements), make sure they're in the PATH, and that your GPU is supported.\n",
     "output_type": "error",
     "traceback": [
      "\u001b[1;31m---------------------------------------------------------------------------\u001b[0m",
      "\u001b[1;31mRuntimeError\u001b[0m                              Traceback (most recent call last)",
      "\u001b[1;32mf:\\Code\\AI-Machine-Learning\\BackgroundRemoval\\background_removal.ipynb Cell 2\u001b[0m in \u001b[0;36m<cell line: 5>\u001b[1;34m()\u001b[0m\n\u001b[0;32m      <a href='vscode-notebook-cell:/f%3A/Code/AI-Machine-Learning/BackgroundRemoval/background_removal.ipynb#ch0000001?line=1'>2</a>\u001b[0m output_path \u001b[39m=\u001b[39m \u001b[39m'\u001b[39m\u001b[39moutput.jpg\u001b[39m\u001b[39m'\u001b[39m\n\u001b[0;32m      <a href='vscode-notebook-cell:/f%3A/Code/AI-Machine-Learning/BackgroundRemoval/background_removal.ipynb#ch0000001?line=3'>4</a>\u001b[0m \u001b[39minput\u001b[39m \u001b[39m=\u001b[39m Image\u001b[39m.\u001b[39mopen(input_path)\n\u001b[1;32m----> <a href='vscode-notebook-cell:/f%3A/Code/AI-Machine-Learning/BackgroundRemoval/background_removal.ipynb#ch0000001?line=4'>5</a>\u001b[0m output \u001b[39m=\u001b[39m remove(\u001b[39minput\u001b[39;49m)\n\u001b[0;32m      <a href='vscode-notebook-cell:/f%3A/Code/AI-Machine-Learning/BackgroundRemoval/background_removal.ipynb#ch0000001?line=5'>6</a>\u001b[0m output\u001b[39m.\u001b[39msave(output_path)\n",
      "File \u001b[1;32mf:\\Users\\Ray\\anaconda3\\lib\\site-packages\\rembg\\bg.py:123\u001b[0m, in \u001b[0;36mremove\u001b[1;34m(data, alpha_matting, alpha_matting_foreground_threshold, alpha_matting_background_threshold, alpha_matting_erode_size, session, only_mask, post_process_mask)\u001b[0m\n\u001b[0;32m    120\u001b[0m     \u001b[39mraise\u001b[39;00m \u001b[39mValueError\u001b[39;00m(\u001b[39m\"\u001b[39m\u001b[39mInput type \u001b[39m\u001b[39m{}\u001b[39;00m\u001b[39m is not supported.\u001b[39m\u001b[39m\"\u001b[39m\u001b[39m.\u001b[39mformat(\u001b[39mtype\u001b[39m(data)))\n\u001b[0;32m    122\u001b[0m \u001b[39mif\u001b[39;00m session \u001b[39mis\u001b[39;00m \u001b[39mNone\u001b[39;00m:\n\u001b[1;32m--> 123\u001b[0m     session \u001b[39m=\u001b[39m new_session(\u001b[39m\"\u001b[39;49m\u001b[39mu2net\u001b[39;49m\u001b[39m\"\u001b[39;49m)\n\u001b[0;32m    125\u001b[0m masks \u001b[39m=\u001b[39m session\u001b[39m.\u001b[39mpredict(img)\n\u001b[0;32m    126\u001b[0m cutouts \u001b[39m=\u001b[39m []\n",
      "File \u001b[1;32mf:\\Users\\Ray\\anaconda3\\lib\\site-packages\\rembg\\session_factory.py:60\u001b[0m, in \u001b[0;36mnew_session\u001b[1;34m(model_name)\u001b[0m\n\u001b[0;32m     55\u001b[0m \u001b[39mif\u001b[39;00m \u001b[39m\"\u001b[39m\u001b[39mOMP_NUM_THREADS\u001b[39m\u001b[39m\"\u001b[39m \u001b[39min\u001b[39;00m os\u001b[39m.\u001b[39menviron:\n\u001b[0;32m     56\u001b[0m     sess_opts\u001b[39m.\u001b[39minter_op_num_threads \u001b[39m=\u001b[39m \u001b[39mint\u001b[39m(os\u001b[39m.\u001b[39menviron[\u001b[39m\"\u001b[39m\u001b[39mOMP_NUM_THREADS\u001b[39m\u001b[39m\"\u001b[39m])\n\u001b[0;32m     58\u001b[0m \u001b[39mreturn\u001b[39;00m session_class(\n\u001b[0;32m     59\u001b[0m     model_name,\n\u001b[1;32m---> 60\u001b[0m     ort\u001b[39m.\u001b[39;49mInferenceSession(\n\u001b[0;32m     61\u001b[0m         \u001b[39mstr\u001b[39;49m(path), providers\u001b[39m=\u001b[39;49mort\u001b[39m.\u001b[39;49mget_available_providers(), sess_options\u001b[39m=\u001b[39;49msess_opts\n\u001b[0;32m     62\u001b[0m     ),\n\u001b[0;32m     63\u001b[0m )\n",
      "File \u001b[1;32mf:\\Users\\Ray\\anaconda3\\lib\\site-packages\\onnxruntime\\capi\\onnxruntime_inference_collection.py:335\u001b[0m, in \u001b[0;36mInferenceSession.__init__\u001b[1;34m(self, path_or_bytes, sess_options, providers, provider_options, **kwargs)\u001b[0m\n\u001b[0;32m    332\u001b[0m disabled_optimizers \u001b[39m=\u001b[39m kwargs[\u001b[39m'\u001b[39m\u001b[39mdisabled_optimizers\u001b[39m\u001b[39m'\u001b[39m] \u001b[39mif\u001b[39;00m \u001b[39m'\u001b[39m\u001b[39mdisabled_optimizers\u001b[39m\u001b[39m'\u001b[39m \u001b[39min\u001b[39;00m kwargs \u001b[39melse\u001b[39;00m \u001b[39mNone\u001b[39;00m\n\u001b[0;32m    334\u001b[0m \u001b[39mtry\u001b[39;00m:\n\u001b[1;32m--> 335\u001b[0m     \u001b[39mself\u001b[39;49m\u001b[39m.\u001b[39;49m_create_inference_session(providers, provider_options, disabled_optimizers)\n\u001b[0;32m    336\u001b[0m \u001b[39mexcept\u001b[39;00m \u001b[39mValueError\u001b[39;00m:\n\u001b[0;32m    337\u001b[0m     \u001b[39mif\u001b[39;00m \u001b[39mself\u001b[39m\u001b[39m.\u001b[39m_enable_fallback:\n",
      "File \u001b[1;32mf:\\Users\\Ray\\anaconda3\\lib\\site-packages\\onnxruntime\\capi\\onnxruntime_inference_collection.py:379\u001b[0m, in \u001b[0;36mInferenceSession._create_inference_session\u001b[1;34m(self, providers, provider_options, disabled_optimizers)\u001b[0m\n\u001b[0;32m    376\u001b[0m     disabled_optimizers \u001b[39m=\u001b[39m \u001b[39mset\u001b[39m(disabled_optimizers)\n\u001b[0;32m    378\u001b[0m \u001b[39m# initialize the C++ InferenceSession\u001b[39;00m\n\u001b[1;32m--> 379\u001b[0m sess\u001b[39m.\u001b[39;49minitialize_session(providers, provider_options, disabled_optimizers)\n\u001b[0;32m    381\u001b[0m \u001b[39mself\u001b[39m\u001b[39m.\u001b[39m_sess \u001b[39m=\u001b[39m sess\n\u001b[0;32m    382\u001b[0m \u001b[39mself\u001b[39m\u001b[39m.\u001b[39m_sess_options \u001b[39m=\u001b[39m \u001b[39mself\u001b[39m\u001b[39m.\u001b[39m_sess\u001b[39m.\u001b[39msession_options\n",
      "\u001b[1;31mRuntimeError\u001b[0m: D:\\a\\_work\\1\\s\\onnxruntime\\python\\onnxruntime_pybind_state.cc:531 onnxruntime::python::CreateExecutionProviderInstance CUDA_PATH is set but CUDA wasn't able to be loaded. Please install the correct version of CUDA and cuDNN as mentioned in the GPU requirements page (https://onnxruntime.ai/docs/reference/execution-providers/CUDA-ExecutionProvider.html#requirements), make sure they're in the PATH, and that your GPU is supported.\n"
     ]
    }
   ],
   "source": [
    "##https://onnxruntime.ai/docs/execution-providers/CUDA-ExecutionProvider.html#install\n",
    "#version issue?...\n",
    "input_path = 'input.jpg'\n",
    "output_path = 'output.jpg'\n",
    "\n",
    "input = Image.open(input_path)\n",
    "output = remove(input)\n",
    "output.save(output_path)"
   ]
  }
 ],
 "metadata": {
  "kernelspec": {
   "display_name": "Python 3.9.12 ('base')",
   "language": "python",
   "name": "python3"
  },
  "language_info": {
   "codemirror_mode": {
    "name": "ipython",
    "version": 3
   },
   "file_extension": ".py",
   "mimetype": "text/x-python",
   "name": "python",
   "nbconvert_exporter": "python",
   "pygments_lexer": "ipython3",
   "version": "3.9.12"
  },
  "orig_nbformat": 4,
  "vscode": {
   "interpreter": {
    "hash": "acbe944587e9153b3760fe6bdea35fbf77e65f6dcc869406197e5f964786d5ed"
   }
  }
 },
 "nbformat": 4,
 "nbformat_minor": 2
}
