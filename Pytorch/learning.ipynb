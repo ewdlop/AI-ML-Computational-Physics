{
 "cells": [
  {
   "cell_type": "code",
   "execution_count": 1,
   "metadata": {},
   "outputs": [],
   "source": [
    "import torch\n",
    "import torch.nn as nn\n",
    "import numpy"
   ]
  },
  {
   "cell_type": "code",
   "execution_count": 19,
   "metadata": {},
   "outputs": [],
   "source": [
    "tensor_cpu_random = torch.randn(2, 3)\n",
    "tensor_gpu_random = tensor_cpu_random.cuda()\n"
   ]
  },
  {
   "cell_type": "code",
   "execution_count": 22,
   "metadata": {},
   "outputs": [
    {
     "name": "stdout",
     "output_type": "stream",
     "text": [
      "tensor([[ 0.6466,  0.0508,  0.5567],\n",
      "        [-0.2839,  0.7487, -0.9985]])\n",
      "tensor([[ 0.6466,  0.0508,  0.5567],\n",
      "        [-0.2839,  0.7487, -0.9985]], device='cuda:0')\n",
      "tensor([[ 0.6466,  0.0508,  0.5567],\n",
      "        [-0.2839,  0.7487, -0.9985]])\n"
     ]
    }
   ],
   "source": [
    "print(tensor_cpu_random)\n",
    "print(tensor_gpu_random)\n",
    "print(tensor_gpu_random.cpu())"
   ]
  },
  {
   "cell_type": "code",
   "execution_count": 7,
   "metadata": {},
   "outputs": [],
   "source": [
    "np_data = numpy.random.randint(0, 10, (2, 3))\n",
    "torch_data = torch.from_numpy(np_data)\n",
    "tensor_to_numpy = torch_data.numpy()"
   ]
  },
  {
   "cell_type": "code",
   "execution_count": 8,
   "metadata": {},
   "outputs": [
    {
     "name": "stdout",
     "output_type": "stream",
     "text": [
      "[[8 1 1]\n",
      " [7 3 1]]\n",
      "tensor([[8, 1, 1],\n",
      "        [7, 3, 1]], dtype=torch.int32)\n",
      "[[8 1 1]\n",
      " [7 3 1]]\n"
     ]
    }
   ],
   "source": [
    "print(np_data)\n",
    "print(torch_data)\n",
    "print(tensor_to_numpy)"
   ]
  },
  {
   "cell_type": "code",
   "execution_count": 11,
   "metadata": {},
   "outputs": [
    {
     "name": "stdout",
     "output_type": "stream",
     "text": [
      "tensor([-1., -2.,  1.,  2.])\n"
     ]
    },
    {
     "data": {
      "text/plain": [
       "tensor(0.)"
      ]
     },
     "execution_count": 11,
     "metadata": {},
     "output_type": "execute_result"
    }
   ],
   "source": [
    "data = [ -1, -2, 1 , 2]\n",
    "tensor_data = torch.FloatTensor(data)\n",
    "print(tensor_data)\n",
    "print(numpy.mean(data))\n",
    "print(torch.mean(tensor_data))"
   ]
  },
  {
   "cell_type": "code",
   "execution_count": 16,
   "metadata": {},
   "outputs": [
    {
     "name": "stdout",
     "output_type": "stream",
     "text": [
      "[[ 7 10]\n",
      " [15 22]]\n",
      "[[ 7 10]\n",
      " [15 22]]\n",
      "tensor([[ 7., 10.],\n",
      "        [15., 22.]])\n"
     ]
    }
   ],
   "source": [
    "data = [[1,2],[3,4]]\n",
    "data_numpy_array = numpy.array(data)\n",
    "data_tensor = torch.FloatTensor(data)\n",
    "print(numpy.matmul(data, data))\n",
    "print(data_numpy_array.dot(data_numpy_array))\n",
    "print(torch.mm(data_tensor, data_tensor))"
   ]
  },
  {
   "cell_type": "code",
   "execution_count": 26,
   "metadata": {},
   "outputs": [
    {
     "name": "stdout",
     "output_type": "stream",
     "text": [
      "tensor([1, 2, 3, 4, 5, 6, 7, 8, 9])\n",
      "tensor([9, 8, 7])\n",
      "tensor([8, 7, 6])\n"
     ]
    }
   ],
   "source": [
    "torch_arrange = torch.arange(1, 10)\n",
    "print(torch_arrange)\n",
    "tesnor, long_tesnor = torch.topk(torch_arrange, 3)\n",
    "print(tesnor)\n",
    "print(long_tesnor)"
   ]
  },
  {
   "cell_type": "code",
   "execution_count": 29,
   "metadata": {},
   "outputs": [
    {
     "name": "stdout",
     "output_type": "stream",
     "text": [
      "tensor([[[[[0., 0.]],\n",
      "\n",
      "          [[0., 0.]]]],\n",
      "\n",
      "\n",
      "\n",
      "        [[[[0., 0.]],\n",
      "\n",
      "          [[0., 0.]]]]])\n",
      "torch.Size([2, 1, 2, 1, 2])\n",
      "tensor([[[0., 0.],\n",
      "         [0., 0.]],\n",
      "\n",
      "        [[0., 0.],\n",
      "         [0., 0.]]])\n",
      "torch.Size([2, 2, 2])\n"
     ]
    }
   ],
   "source": [
    "zero_tensor = torch.zeros(2,1,2,1,2)\n",
    "print(zero_tensor)\n",
    "print(zero_tensor.size())\n",
    "zero_tensor_squeeze = zero_tensor.squeeze()\n",
    "print(zero_tensor_squeeze)\n",
    "print(zero_tensor_squeeze.size())\n"
   ]
  },
  {
   "cell_type": "code",
   "execution_count": 2,
   "metadata": {},
   "outputs": [
    {
     "name": "stdout",
     "output_type": "stream",
     "text": [
      "tensor([1, 2, 3, 4])\n",
      "tensor([[1, 2, 3, 4]])\n",
      "tensor([[1],\n",
      "        [2],\n",
      "        [3],\n",
      "        [4]])\n"
     ]
    }
   ],
   "source": [
    "tensor = torch.tensor([1, 2, 3, 4])\n",
    "print(tensor)\n",
    "print(torch.unsqueeze(tensor,0))\n",
    "print(torch.unsqueeze(tensor,1))\n"
   ]
  },
  {
   "cell_type": "code",
   "execution_count": 8,
   "metadata": {},
   "outputs": [
    {
     "data": {
      "text/plain": [
       "3"
      ]
     },
     "execution_count": 8,
     "metadata": {},
     "output_type": "execute_result"
    }
   ],
   "source": [
    "torch.randint(33, size=(1,)).item()"
   ]
  }
 ],
 "metadata": {
  "kernelspec": {
   "display_name": "base",
   "language": "python",
   "name": "python3"
  },
  "language_info": {
   "codemirror_mode": {
    "name": "ipython",
    "version": 3
   },
   "file_extension": ".py",
   "mimetype": "text/x-python",
   "name": "python",
   "nbconvert_exporter": "python",
   "pygments_lexer": "ipython3",
   "version": "3.9.16"
  },
  "orig_nbformat": 4,
  "vscode": {
   "interpreter": {
    "hash": "acbe944587e9153b3760fe6bdea35fbf77e65f6dcc869406197e5f964786d5ed"
   }
  }
 },
 "nbformat": 4,
 "nbformat_minor": 2
}
