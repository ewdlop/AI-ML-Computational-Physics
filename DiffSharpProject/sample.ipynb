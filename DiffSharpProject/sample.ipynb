{
 "cells": [
  {
   "cell_type": "code",
   "execution_count": null,
   "metadata": {
    "dotnet_interactive": {
     "language": "fsharp"
    },
    "vscode": {
     "languageId": "dotnet-interactive.fsharp"
    }
   },
   "outputs": [],
   "source": [
    "#r \"nuget: DiffSharp.Core\"\n",
    "#r \"nuget: DiffSharp.Backends.Reference\""
   ]
  },
  {
   "cell_type": "code",
   "execution_count": null,
   "metadata": {
    "dotnet_interactive": {
     "language": "fsharp"
    },
    "vscode": {
     "languageId": "dotnet-interactive.fsharp"
    }
   },
   "outputs": [],
   "source": []
  },
  {
   "cell_type": "code",
   "execution_count": null,
   "metadata": {
    "dotnet_interactive": {
     "language": "fsharp"
    },
    "vscode": {
     "languageId": "dotnet-interactive.fsharp"
    }
   },
   "outputs": [],
   "source": []
  },
  {
   "cell_type": "code",
   "execution_count": null,
   "metadata": {
    "dotnet_interactive": {
     "language": "fsharp"
    },
    "vscode": {
     "languageId": "dotnet-interactive.fsharp"
    }
   },
   "outputs": [],
   "source": [
    "open DiffSharp\n",
    "\n",
    "let t1 = dsharp.tensor [ 0.0 ..0.2.. 1.0 ] // Gives [0., 0.2, 0.4, 0.6, 0.8, 1.]\n",
    "let t2 = dsharp.tensor [ 1, 2, 3, 4, 5, 6 ]"
   ]
  },
  {
   "cell_type": "code",
   "execution_count": null,
   "metadata": {
    "dotnet_interactive": {
     "language": "fsharp"
    },
    "vscode": {
     "languageId": "dotnet-interactive.fsharp"
    }
   },
   "outputs": [],
   "source": [
    "let t3 = dsharp.tensor [[[[0.0 .. 10.0]]]]\n",
    "let t4 = dsharp.tensor [[[[0.0 ..0.1.. 1.0]]]]\n",
    "t3.conv2d(t4)"
   ]
  },
  {
   "cell_type": "code",
   "execution_count": null,
   "metadata": {
    "dotnet_interactive": {
     "language": "fsharp"
    },
    "vscode": {
     "languageId": "dotnet-interactive.fsharp"
    }
   },
   "outputs": [],
   "source": [
    "let f (x: Tensor) = x.exp().sum()\n",
    "\n",
    "dsharp.grad f (dsharp.tensor([1.8, 2.5]))"
   ]
  },
  {
   "cell_type": "code",
   "execution_count": null,
   "metadata": {
    "dotnet_interactive": {
     "language": "fsharp"
    },
    "vscode": {
     "languageId": "dotnet-interactive.fsharp"
    }
   },
   "outputs": [],
   "source": [
    "let x0 = dsharp.tensor(1.)\n",
    "let y0 = dsharp.tensor(2.)\n",
    "\n",
    "dsharp.diff (fun y -> 2 * y)\n",
    "dsharp.diff (fun x -> x * dsharp.diff (fun y -> x * y) y0) x0"
   ]
  },
  {
   "cell_type": "code",
   "execution_count": null,
   "metadata": {
    "dotnet_interactive": {
     "language": "fsharp"
    },
    "vscode": {
     "languageId": "dotnet-interactive.fsharp"
    }
   },
   "outputs": [],
   "source": [
    "open DiffSharp.Data\n",
    "open DiffSharp.Model\n",
    "open DiffSharp.Compose\n",
    "open DiffSharp.Util\n",
    "open DiffSharp.Optim"
   ]
  },
  {
   "cell_type": "code",
   "execution_count": null,
   "metadata": {
    "dotnet_interactive": {
     "language": "fsharp"
    },
    "vscode": {
     "languageId": "dotnet-interactive.fsharp"
    }
   },
   "outputs": [],
   "source": [
    "let epochs = 2\n",
    "let batchSize = 32\n",
    "let numBatches = 5"
   ]
  },
  {
   "cell_type": "code",
   "execution_count": null,
   "metadata": {
    "dotnet_interactive": {
     "language": "fsharp"
    },
    "vscode": {
     "languageId": "dotnet-interactive.fsharp"
    }
   },
   "outputs": [],
   "source": [
    "//let trainSet = MNIST(\"../data\", train=true, transform=id)\n",
    "//let trainLoader = trainSet.loader(batchSize=batchSize, shuffle=true)\n",
    "\n",
    "//let validSet = MNIST(\"../data\", train=false, transform=id)\n",
    "//let validLoader = validSet.loader(batchSize=batchSize, shuffle=false)"
   ]
  },
  {
   "cell_type": "code",
   "execution_count": null,
   "metadata": {
    "dotnet_interactive": {
     "language": "fsharp"
    },
    "vscode": {
     "languageId": "dotnet-interactive.fsharp"
    }
   },
   "outputs": [],
   "source": [
    "let encoder =\n",
    "    Conv2d(1, 32, 4, 2)\n",
    "    --> dsharp.relu\n",
    "    --> Conv2d(32, 64, 4, 2)\n",
    "    --> dsharp.relu\n",
    "    --> Conv2d(64, 128, 4, 2)\n",
    "    --> dsharp.flatten(1)"
   ]
  },
  {
   "cell_type": "code",
   "execution_count": null,
   "metadata": {
    "dotnet_interactive": {
     "language": "fsharp"
    },
    "vscode": {
     "languageId": "dotnet-interactive.fsharp"
    }
   },
   "outputs": [],
   "source": [
    "let decoder =\n",
    "    dsharp.unflatten(1, [128;1;1])\n",
    "    --> ConvTranspose2d(128, 64, 4, 2)\n",
    "    --> dsharp.relu\n",
    "    --> ConvTranspose2d(64, 32, 4, 3)\n",
    "    --> dsharp.relu\n",
    "    --> ConvTranspose2d(32, 1, 4, 2)\n",
    "    --> dsharp.sigmoid"
   ]
  },
  {
   "cell_type": "code",
   "execution_count": null,
   "metadata": {
    "dotnet_interactive": {
     "language": "fsharp"
    },
    "vscode": {
     "languageId": "dotnet-interactive.fsharp"
    }
   },
   "outputs": [],
   "source": [
    "let model = VAE([1;28;28], 64, encoder, decoder)"
   ]
  },
  {
   "cell_type": "code",
   "execution_count": null,
   "metadata": {
    "dotnet_interactive": {
     "language": "fsharp"
    },
    "vscode": {
     "languageId": "dotnet-interactive.fsharp"
    }
   },
   "outputs": [],
   "source": [
    "let lr = dsharp.tensor(0.001)\n",
    "let optimizer = Adam(model, lr=lr)  "
   ]
  },
  {
   "cell_type": "code",
   "execution_count": null,
   "metadata": {
    "dotnet_interactive": {
     "language": "fsharp"
    },
    "vscode": {
     "languageId": "dotnet-interactive.fsharp"
    }
   },
   "outputs": [],
   "source": [
    "for epoch = 1 to epochs do\n",
    "    let batches = trainLoader.epoch(numBatches)\n",
    "    for i, x, _ in batches do\n",
    "        model.reverseDiff()\n",
    "        let l = model.loss(x)\n",
    "        l.reverse()\n",
    "        optimizer.step()\n",
    "        print $\"Epoch: {epoch} minibatch: {i} loss: {l}\" \n",
    "\n",
    "let validLoss = \n",
    "    validLoader.epoch() \n",
    "    |> Seq.sumBy (fun (_, x, _) -> model.loss(x, normalize=false))\n",
    "\n",
    "print $\"Validation loss: {validLoss/validSet.length}\""
   ]
  }
 ],
 "metadata": {
  "kernelspec": {
   "display_name": ".NET (F#)",
   "language": "F#",
   "name": ".net-fsharp"
  },
  "language_info": {
   "name": "F#"
  }
 },
 "nbformat": 4,
 "nbformat_minor": 2
}
