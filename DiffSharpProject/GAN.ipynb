{
 "cells": [
  {
   "cell_type": "code",
   "execution_count": null,
   "metadata": {
    "dotnet_interactive": {
     "language": "fsharp"
    },
    "vscode": {
     "languageId": "dotnet-interactive.fsharp"
    }
   },
   "outputs": [
    {
     "data": {
      "text/html": [
       "<div><div></div><div></div><div><strong>Installed Packages</strong><ul><li><span>DiffSharp.Core, 1.0.7</span></li></ul></div></div>"
      ]
     },
     "metadata": {},
     "output_type": "display_data"
    }
   ],
   "source": [
    "#r \"nuget: DiffSharp.Core\""
   ]
  },
  {
   "cell_type": "code",
   "execution_count": null,
   "metadata": {
    "dotnet_interactive": {
     "language": "fsharp"
    },
    "vscode": {
     "languageId": "dotnet-interactive.fsharp"
    }
   },
   "outputs": [],
   "source": [
    "open DiffSharp\n",
    "open DiffSharp.Data\n",
    "open DiffSharp.Model\n",
    "open DiffSharp.Compose"
   ]
  },
  {
   "cell_type": "code",
   "execution_count": null,
   "metadata": {
    "dotnet_interactive": {
     "language": "fsharp"
    },
    "vscode": {
     "languageId": "dotnet-interactive.fsharp"
    }
   },
   "outputs": [
    {
     "ename": "Error",
     "evalue": "input.fsx (7,23)-(7,41) typecheck error The type ''a * 'b * 'c * 'd' is not compatible with the type 'seq<obj>'\ninput.fsx (7,22)-(7,42) typecheck error Type constraint mismatch. The type \n    ''a * 'b * 'c * 'd'    \nis not compatible with type\n    'seq<obj>'    \n\ninput.fsx (26,8)-(26,41) typecheck error The member or object constructor 'addModel' takes 2 argument(s) but is here given 4. The required signature is 'member ModelBase.addModel: items: seq<obj> * ?names: seq<string> -> unit'.",
     "output_type": "error",
     "traceback": [
      "input.fsx (7,23)-(7,41) typecheck error The type ''a * 'b * 'c * 'd' is not compatible with the type 'seq<obj>'\n",
      "input.fsx (7,22)-(7,42) typecheck error Type constraint mismatch. The type \n",
      "    ''a * 'b * 'c * 'd'    \n",
      "is not compatible with type\n",
      "    'seq<obj>'    \n",
      "\n",
      "input.fsx (26,8)-(26,41) typecheck error The member or object constructor 'addModel' takes 2 argument(s) but is here given 4. The required signature is 'member ModelBase.addModel: items: seq<obj> * ?names: seq<string> -> unit'."
     ]
    }
   ],
   "source": [
    "type Generator(nz: int) =\n",
    "    inherit Model()\n",
    "    let fc1 = Linear(nz, 256)\n",
    "    let fc2 = Linear(256, 512)\n",
    "    let fc3 = Linear(512, 1024)\n",
    "    let fc4 = Linear(1024, 28*28)\n",
    "    do base.addModel((fc1, fc2, fc3, fc4))\n",
    "    override self.forward(x) =\n",
    "        x\n",
    "        |> dsharp.view([-1;nz])\n",
    "        |> fc1.forward\n",
    "        |> dsharp.leakyRelu(0.2) // leaky relu: https://pytorch.org/docs/stable/generated/torch.nn.LeakyReLU.html \n",
    "        |> fc2.forward\n",
    "        |> dsharp.leakyRelu(0.2)\n",
    "        |> fc3.forward\n",
    "        |> dsharp.leakyRelu(0.2)\n",
    "        |> fc4.forward\n",
    "        |> dsharp.tanh\n",
    "\n",
    "type Discriminator(nz:int) =\n",
    "    inherit Model()\n",
    "    let fc1 = Linear(28*28, 1024)\n",
    "    let fc2 = Linear(1024, 512)\n",
    "    let fc3 = Linear(512, 256)\n",
    "    let fc4 = Linear(256, 1)\n",
    "    do base.addModel(fc1, fc2, fc3, fc4)\n",
    "    override self.forward(x) =\n",
    "        x\n",
    "        |> dsharp.view([-1;28*28])\n",
    "        |> fc1.forward\n",
    "        |> dsharp.leakyRelu(0.2)\n",
    "        |> dsharp.dropout(0.3)\n",
    "        |> fc2.forward\n",
    "        |> dsharp.leakyRelu(0.2)\n",
    "        |> dsharp.dropout(0.3)\n",
    "        |> fc3.forward\n",
    "        |> dsharp.leakyRelu(0.2)\n",
    "        |> dsharp.dropout(0.3)\n",
    "        |> fc4.forward\n",
    "        |> dsharp.sigmoid\n"
   ]
  }
 ],
 "metadata": {
  "kernelspec": {
   "display_name": ".NET (F#)",
   "language": "F#",
   "name": ".net-fsharp"
  },
  "language_info": {
   "name": "F#"
  }
 },
 "nbformat": 4,
 "nbformat_minor": 2
}
