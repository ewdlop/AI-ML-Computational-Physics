{
  "nbformat": 4,
  "nbformat_minor": 5,
  "metadata": {
    "colab": {
      "name": "Copy of 3-bias-variance-model-selection-deep-dive.ipynb",
      "provenance": []
    },
    "kernelspec": {
      "name": "python371jvsc74a57bd068a6465f10f6c562137730233a21cdbd5e3d77077a750ef5f22628dd68065236",
      "display_name": "Python 3.7.1 64-bit ('base': conda)"
    }
  },
  "cells": [
    {
      "cell_type": "markdown",
      "metadata": {
        "id": "Qbv1_gujlwzi"
      },
      "source": [
        "Bias/variance and model selection in depth\n",
        "==========================================\n",
        "\n",
        "*Fraida Fund*"
      ],
      "id": "Qbv1_gujlwzi"
    },
    {
      "cell_type": "markdown",
      "metadata": {
        "id": "4bf8OK0_lwzk"
      },
      "source": [
        "#### Attribution\n",
        "\n",
        "Parts of this notebook borrow from, or are inspired by, the following\n",
        "sources:\n",
        "\n",
        "-   The Introduction section is based on [Hyperparameters and Model\n",
        "    Validation](https://jakevdp.github.io/PythonDataScienceHandbook/05.03-hyperparameters-and-model-validation.html),\n",
        "    in the Python Data Science Handbook by Jake VanderPlas\n",
        "-   The section on polynomial models is based on [the model order\n",
        "    selection demo\n",
        "    notebook](https://colab.research.google.com/github/sdrangan/introml/blob/master/unit04_model_sel/demo_polyfit.ipynb)\n",
        "    by Prof. Sundeep Rangan, and some of the text in that section is\n",
        "    copied from that notebook.\n",
        "-   The section on uninformative features is based on [Cross Validation:\n",
        "    The Right and Wrong\n",
        "    Way](http://nbviewer.ipython.org/urls/raw.github.com/cs109/content/master/lec_10_cross_val.ipynb)\n",
        "    from [Harvard CS109 Data Science](https://github.com/cs109/content)\n",
        "-   The simulation plots are based on the `scikit-learn` example [Single\n",
        "    estimator versus bagging: bias-variance\n",
        "    decomposition](https://scikit-learn.org/stable/auto_examples/ensemble/plot_bias_variance.html#sphx-glr-auto-examples-ensemble-plot-bias-variance-py)"
      ],
      "id": "4bf8OK0_lwzk"
    },
    {
      "cell_type": "markdown",
      "metadata": {
        "id": "fREjtbOXlwzl"
      },
      "source": [
        "Introduction\n",
        "------------\n",
        "\n",
        "As a distinguished machine learning expert, you are hired as a\n",
        "consultant to solve a difficult problem for a client. You apply the best\n",
        "<sup>\\[1\\]</sup> machine learning model you know, and present the\n",
        "results to the client. The response?\n",
        "\n",
        "> Not good enough! We expect much better performance.\n",
        "\n",
        "As a machine learning expert, what should you do to improve your\n",
        "results?\n",
        "\n",
        "-   Find and correct a problem with the data (garbage in, garbage out!)\n",
        "-   Find and correct a problem with the model implementation/training\n",
        "-   Use a more complicated model (more flexible)\n",
        "-   Use a less complicated model (less flexible)\n",
        "-   Get more training samples\n",
        "-   Get more data to add features to each sample - for example, you\n",
        "    could join two related datasets to get more potentially predictive\n",
        "    features\n",
        "-   Add additional features using transformed versions of the features\n",
        "    you already have\n",
        "\n",
        "Each of these possible solutions has the potential to improve results,\n",
        "or to have no effect. In some cases, they can actually make the\n",
        "performance even worse.\n",
        "\n",
        "How do you know which one to try?\n",
        "\n",
        "<small>\\[1\\] There is actually no “best” machine learning model in\n",
        "general - various models will perform better on different\n",
        "problems.</small>"
      ],
      "id": "fREjtbOXlwzl"
    },
    {
      "cell_type": "markdown",
      "metadata": {
        "id": "KDjkFGTQlwzn"
      },
      "source": [
        "Your first instinct may be to try all of these potential solutions, and\n",
        "see which one improves performance. But that could be very expensive -\n",
        "\n",
        "-   Your time costs \\$ (you are getting paid for consulting on this\n",
        "    problem!)\n",
        "-   You may need to use metered computing resources to train the model,\n",
        "    which costs \\$\n",
        "-   Collecting data, especially labeled data, often costs \\$\n",
        "-   Your client is losing \\$ due to using a sub-optimal model in\n",
        "    production while waiting for you to improve it"
      ],
      "id": "KDjkFGTQlwzn"
    },
    {
      "cell_type": "markdown",
      "metadata": {
        "id": "_7Ebsv0rlwzn"
      },
      "source": [
        "As a machine learning expert, your knowledge of the theoretical basics\n",
        "of machine learning, and your ability to *connect that knowledge* to\n",
        "practical solutions for real problems, should prepare you for this\n",
        "moment."
      ],
      "id": "_7Ebsv0rlwzn"
    },
    {
      "cell_type": "markdown",
      "metadata": {
        "id": "qn8o98Z8lwzo"
      },
      "source": [
        "Our previous work in this course has prepared us to evaluate some of\n",
        "these “next steps” to see whether they would be appropriate.\n",
        "\n",
        "**Find and correct a problem with the data (garbage in, garbage out!)**:\n",
        "\n",
        "-   We practiced using exploratory data analysis as a first step toward\n",
        "    identifying problems or wrong assumptions related to the data.\n",
        "-   We also saw that when using models with good *interpretability*, we\n",
        "    can inspect the fitted model as another step toward finding problems\n",
        "    with the data. For example, in a case study on linear regression, we\n",
        "    saw that the coefficients for certain features were high when common\n",
        "    sense dictated that those features should not have any effect on the\n",
        "    target variable.\n",
        "\n",
        "**Find and correct a problem with the model implementation/training**:\n",
        "\n",
        "-   We looked at, and will continue to look at, some problems that can\n",
        "    arise with model training, for example learning rate too high/too\n",
        "    low in gradient descent.\n",
        "\n",
        "**Get more data to add features to each sample**:\n",
        "\n",
        "-   We practiced inspecting the residuals. Plots of residuals against\n",
        "    $y$ or against each of the features are a good way to see a 2D view\n",
        "    of the results of the model, even when the dimension of the data is\n",
        "    large.\n",
        "-   When there appears to be a pattern in the residuals, this indicates\n",
        "    something “learnable” in the data that isn’t captured by our model.\n",
        "    -   For example, suppose we find that the residuals appear to be a\n",
        "        function of $y$, but not of any feature $x$. This suggests that\n",
        "        $y$ is partly a function of a “missing” feature, which we should\n",
        "        try to identify (using domain knowledge) and add to our model.\n",
        "    -   Similarly, if the residuals appear to be a function of a feature\n",
        "        $x$ that is in our data, but we are not using to train the\n",
        "        model, we should absolutely add that feature to our model.\n",
        "-   Another thing to look for in a residuals plot: “outliers” or extreme\n",
        "    values. These can sometimes indicate problems with the data,such as\n",
        "    samples affected by measurement or recording error. (In this case,\n",
        "    you might want to exclude these samples, and also figure out how to\n",
        "    exclude them in production.) These can also indicate that the data\n",
        "    is drawn from two distributions, where samples from the minority\n",
        "    distribution appear as outliers. (In this case, you wouldn’t want to\n",
        "    exclude these samples. You would want to add a feature to help you\n",
        "    distinguish between the two populations, and then re-train your\n",
        "    model with the added feature.)\n",
        "\n",
        "**Add additional features using transformed versions of the features you\n",
        "already have**:\n",
        "\n",
        "-   If the plot of residuals against a feature $x$ appears to have a\n",
        "    non-linear pattern, we should consider adding a transformed version\n",
        "    of that feature to our model."
      ],
      "id": "qn8o98Z8lwzo"
    },
    {
      "cell_type": "markdown",
      "metadata": {
        "id": "oCWUQrhdlwzo"
      },
      "source": [
        "It’s a good start. But to help us identify whether some of the other\n",
        "steps would be helpful, we need to understand *bias* and *variance*.\n",
        "Then, we’ll be on our way towards understanding when to:\n",
        "\n",
        "-   Use a more complicated model (more flexible)\n",
        "-   Use a less complicated model (less flexible)\n",
        "-   Get more training samples"
      ],
      "id": "oCWUQrhdlwzo"
    },
    {
      "cell_type": "code",
      "metadata": {
        "id": "In0yGRCflwzp"
      },
      "source": [
        "from sklearn import datasets\n",
        "from sklearn import metrics\n",
        "from sklearn import preprocessing\n",
        "from sklearn.linear_model import LinearRegression\n",
        "from sklearn.model_selection import train_test_split, KFold\n",
        "\n",
        "\n",
        "import numpy as np\n",
        "import matplotlib.pyplot as plt\n",
        "import pandas as pd\n",
        "import seaborn as sns\n",
        "sns.set()\n",
        "\n",
        "from IPython.core.interactiveshell import InteractiveShell\n",
        "InteractiveShell.ast_node_interactivity = \"all\""
      ],
      "id": "In0yGRCflwzp",
      "execution_count": 4,
      "outputs": []
    },
    {
      "cell_type": "markdown",
      "metadata": {
        "id": "D8Eg8Qk0lwzq"
      },
      "source": [
        "Overfitting and underfitting: Polynomial data\n",
        "---------------------------------------------"
      ],
      "id": "D8Eg8Qk0lwzq"
    },
    {
      "cell_type": "markdown",
      "metadata": {
        "id": "4aV79XlNlwzr"
      },
      "source": [
        "To illustrate the concept of overfitting, we will consider data\n",
        "generated by a polynomial of order $d$, with some added Gaussian noise:\n",
        "\n",
        "$$y_i = w_0 + w_1 x_{1} + \\cdots + w_d x_{i}^d + \\epsilon $$\n",
        "\n",
        "where $\\epsilon_i \\sim N(0, \\sigma^2)$.\n",
        "\n",
        "We can fit this model using a linear basis function regression."
      ],
      "id": "4aV79XlNlwzr"
    },
    {
      "cell_type": "markdown",
      "metadata": {
        "id": "T9hcfMFAlwzr"
      },
      "source": [
        "Here is a function that generates polynomial data:"
      ],
      "id": "T9hcfMFAlwzr"
    },
    {
      "cell_type": "code",
      "metadata": {
        "id": "Iwb6tN7wlwzs"
      },
      "source": [
        "def generate_polynomial_regression_data(n=100, xrange=[-1,1], coefs=[1,0.5,0,2], sigma=0.5):\n",
        "  x = np.random.uniform(xrange[0], xrange[1], n)\n",
        "  y = np.polynomial.polynomial.polyval(x,coefs) + sigma * np.random.randn(n)\n",
        "\n",
        "  return x.reshape(-1,1), y"
      ],
      "id": "Iwb6tN7wlwzs",
      "execution_count": 5,
      "outputs": []
    },
    {
      "cell_type": "code",
      "metadata": {
        "id": "XHwx22sglwzs"
      },
      "source": [
        "coefs=[1,0.5,0,2]\n",
        "n_samples = 100\n",
        "sigma = 0.5"
      ],
      "id": "XHwx22sglwzs",
      "execution_count": null,
      "outputs": []
    },
    {
      "cell_type": "code",
      "metadata": {
        "id": "Y9kxbXWOlwzs"
      },
      "source": [
        "x_test, y_test = generate_polynomial_regression_data(n=n_samples, coefs=coefs, sigma=sigma)\n",
        "x_train, y_train = generate_polynomial_regression_data(n=n_samples, coefs=coefs, sigma=sigma)"
      ],
      "id": "Y9kxbXWOlwzs",
      "execution_count": null,
      "outputs": []
    },
    {
      "cell_type": "code",
      "metadata": {
        "id": "Kpq44d1Zlwzt"
      },
      "source": [
        "sns.scatterplot(x=x_test.squeeze(), y=y_test, label='Test points');\n",
        "plt.xlabel(\"x\");\n",
        "plt.ylabel(\"y\");\n",
        "plt.title(\"Data generated from $1 + 0.5x + 2x^3$\");"
      ],
      "id": "Kpq44d1Zlwzt",
      "execution_count": null,
      "outputs": []
    },
    {
      "cell_type": "markdown",
      "metadata": {
        "id": "coKY3W-Plwzt"
      },
      "source": [
        "In this case, since the data is generated synthetically, we know the\n",
        "“true” function that generated the data. We can plot this function along\n",
        "with the data:"
      ],
      "id": "coKY3W-Plwzt"
    },
    {
      "cell_type": "code",
      "metadata": {
        "id": "HoXe6tH7lwzt"
      },
      "source": [
        "sns.scatterplot(x=x_test.squeeze(), y=y_test, label='Test points');\n",
        "plt.xlabel(\"x\");\n",
        "plt.ylabel(\"y\");\n",
        "plt.title(\"Data generated from $1 + 0.5x + 2x^3$\");\n",
        "\n",
        "# Plot true function\n",
        "x_p = np.linspace(-1,1,100);\n",
        "y_p = np.polynomial.polynomial.polyval(x_p, coefs);\n",
        "sns.lineplot(x=x_p,y=y_p, color='red', label='True function');"
      ],
      "id": "HoXe6tH7lwzt",
      "execution_count": null,
      "outputs": []
    },
    {
      "cell_type": "markdown",
      "metadata": {
        "id": "XLZFmgIwlwzu"
      },
      "source": [
        "We can use “transformed” features to fit a linear regression to this\n",
        "data."
      ],
      "id": "XLZFmgIwlwzu"
    },
    {
      "cell_type": "code",
      "metadata": {
        "id": "ubKNKvGRlwzu"
      },
      "source": [
        "x_train_d3 = np.column_stack( [x_train**d for d in np.arange(1,4)])\n",
        "print(x_train_d3.shape)"
      ],
      "id": "ubKNKvGRlwzu",
      "execution_count": null,
      "outputs": []
    },
    {
      "cell_type": "code",
      "metadata": {
        "id": "Eu0MhZIblwzu"
      },
      "source": [
        "reg_poly3 = LinearRegression().fit(x_train_d3,y_train)"
      ],
      "id": "Eu0MhZIblwzu",
      "execution_count": null,
      "outputs": []
    },
    {
      "cell_type": "code",
      "metadata": {
        "id": "V4PZqhbDlwzu"
      },
      "source": [
        "print(reg_poly3.intercept_)\n",
        "print(reg_poly3.coef_)"
      ],
      "id": "V4PZqhbDlwzu",
      "execution_count": null,
      "outputs": []
    },
    {
      "cell_type": "markdown",
      "metadata": {
        "id": "40UsMEfGlwzv"
      },
      "source": [
        "That’s pretty good."
      ],
      "id": "40UsMEfGlwzv"
    },
    {
      "cell_type": "code",
      "metadata": {
        "id": "YWFzpTm8lwzv"
      },
      "source": [
        "sns.scatterplot(x=x_test.squeeze(), y=y_test, label='Test points');\n",
        "plt.xlabel(\"x\");\n",
        "plt.ylabel(\"y\");\n",
        "plt.title(\"Data generated from $1 + 0.5x + 2x^3$\");\n",
        "\n",
        "# Plot true function\n",
        "x_p = np.linspace(-1,1,100);\n",
        "y_p = np.polynomial.polynomial.polyval(x_p, coefs);\n",
        "sns.lineplot(x=x_p,y=y_p, color='red', label='True function');\n",
        "\n",
        "# Plot fitted function\n",
        "x_p = np.linspace(-1,1,100);\n",
        "x_p_d3 = np.column_stack( [x_p.reshape(-1,1)**d for d in np.arange(1,4)])\n",
        "y_p = reg_poly3.predict(x_p_d3);\n",
        "sns.lineplot(x=x_p, y=y_p, color='green', label='Model with d=3');"
      ],
      "id": "YWFzpTm8lwzv",
      "execution_count": null,
      "outputs": []
    },
    {
      "cell_type": "markdown",
      "metadata": {
        "id": "IeL-Qe_Blwzv"
      },
      "source": [
        "We can compute the error on the training set and on the test set:"
      ],
      "id": "IeL-Qe_Blwzv"
    },
    {
      "cell_type": "code",
      "metadata": {
        "id": "yEEZbQi2lwzw"
      },
      "source": [
        "mse_poly3_train = metrics.mean_squared_error(y_train, reg_poly3.predict(x_train_d3))\n",
        "mse_poly3_train/np.var(y_train)"
      ],
      "id": "yEEZbQi2lwzw",
      "execution_count": null,
      "outputs": []
    },
    {
      "cell_type": "code",
      "metadata": {
        "id": "HOMqhjj9lwzw"
      },
      "source": [
        "x_test_d3 = np.column_stack( [x_test**d for d in np.arange(1,4)])\n",
        "mse_poly3 = metrics.mean_squared_error(y_test, reg_poly3.predict(x_test_d3))\n",
        "mse_poly3/np.var(y_test)"
      ],
      "id": "HOMqhjj9lwzw",
      "execution_count": null,
      "outputs": []
    },
    {
      "cell_type": "markdown",
      "metadata": {
        "id": "dQ9VGAGjlwzw"
      },
      "source": [
        "In general, though, we don’t know the “true” model order."
      ],
      "id": "dQ9VGAGjlwzw"
    },
    {
      "cell_type": "markdown",
      "metadata": {
        "id": "mEmKTyjelwzw"
      },
      "source": [
        "Suppose we try fitting a linear regression (using transformed features)\n",
        "to this model, starting with $d=1$."
      ],
      "id": "mEmKTyjelwzw"
    },
    {
      "cell_type": "code",
      "metadata": {
        "id": "6xJvEdzGlwzx"
      },
      "source": [
        "reg_poly1 = LinearRegression().fit(x_train,y_train)"
      ],
      "id": "6xJvEdzGlwzx",
      "execution_count": null,
      "outputs": []
    },
    {
      "cell_type": "code",
      "metadata": {
        "id": "OIFw6vXYlwzx"
      },
      "source": [
        "sns.scatterplot(x=x_test.squeeze(), y=y_test, label='Test points');\n",
        "plt.xlabel(\"x\");\n",
        "plt.ylabel(\"y\");\n",
        "plt.title(\"Data generated from $1 + 0.5x + 2x^3$\");\n",
        "\n",
        "# Plot true function\n",
        "x_p = np.linspace(-1,1,100);\n",
        "y_p = np.polynomial.polynomial.polyval(x_p, coefs);\n",
        "sns.lineplot(x=x_p,y=y_p, color='red', label='True function');\n",
        "\n",
        "# Plot fitted function\n",
        "x_p = np.linspace(-1,1,100);\n",
        "y_p = reg_poly1.predict(x_p.reshape(-1,1));\n",
        "sns.lineplot(x=x_p, y=y_p, color='green', label='Model with d=1');"
      ],
      "id": "OIFw6vXYlwzx",
      "execution_count": null,
      "outputs": []
    },
    {
      "cell_type": "markdown",
      "metadata": {
        "id": "uD7c0tqElwzx"
      },
      "source": [
        "This is an example of *under-fitting* or *under-modeling*. The estimated\n",
        "function is not able to capture the complexity of the relation between\n",
        "$x$ and $y$ - it is not flexible enough.\n",
        "\n",
        "We can compute the error of this model, too:"
      ],
      "id": "uD7c0tqElwzx"
    },
    {
      "cell_type": "code",
      "metadata": {
        "id": "XO9GoM1dlwzx"
      },
      "source": [
        "mse_poly1_train = metrics.mean_squared_error(y_train, reg_poly1.predict(x_train))\n",
        "mse_poly1_train/np.var(y_train)"
      ],
      "id": "XO9GoM1dlwzx",
      "execution_count": null,
      "outputs": []
    },
    {
      "cell_type": "code",
      "metadata": {
        "id": "uSuKDgWilwzx"
      },
      "source": [
        "mse_poly1 = metrics.mean_squared_error(y_test, reg_poly1.predict(x_test))\n",
        "mse_poly1/np.var(y_test)"
      ],
      "id": "uSuKDgWilwzx",
      "execution_count": null,
      "outputs": []
    },
    {
      "cell_type": "markdown",
      "metadata": {
        "id": "iTBOuGWXlwzx"
      },
      "source": [
        "It has higher error than the model with $d=3$, which is what we\n",
        "expected."
      ],
      "id": "iTBOuGWXlwzx"
    },
    {
      "cell_type": "markdown",
      "metadata": {
        "id": "8ir3cSQtlwzx"
      },
      "source": [
        "Now suppose that we tried a model order that was too high, say $d=10$."
      ],
      "id": "8ir3cSQtlwzx"
    },
    {
      "cell_type": "code",
      "metadata": {
        "id": "GTjpfTfIlwzx"
      },
      "source": [
        "x_train_d10 = np.column_stack( [x_train**d for d in np.arange(1,11)])\n",
        "print(x_train_d10.shape)"
      ],
      "id": "GTjpfTfIlwzx",
      "execution_count": null,
      "outputs": []
    },
    {
      "cell_type": "code",
      "metadata": {
        "id": "4_pojlaxlwzy"
      },
      "source": [
        "reg_poly10 = LinearRegression().fit(x_train_d10,y_train)"
      ],
      "id": "4_pojlaxlwzy",
      "execution_count": null,
      "outputs": []
    },
    {
      "cell_type": "code",
      "metadata": {
        "id": "kFZFhuixlwzz"
      },
      "source": [
        "sns.scatterplot(x=x_test.squeeze(), y=y_test, label='Test points');\n",
        "plt.xlabel(\"x\");\n",
        "plt.ylabel(\"y\");\n",
        "plt.title(\"Data generated from $1 + 0.5x + 2x^3$\");\n",
        "\n",
        "# Plot true function\n",
        "x_p = np.linspace(-1,1,100);\n",
        "y_p = np.polynomial.polynomial.polyval(x_p, coefs);\n",
        "sns.lineplot(x=x_p,y=y_p, color='red', label='True function');\n",
        "\n",
        "# Plot fitted function\n",
        "x_p = np.linspace(-1,1,100)\n",
        "x_p_d10 = np.column_stack( [x_p.reshape(-1,1)**d for d in np.arange(1,11)]) \n",
        "y_p = reg_poly10.predict(x_p_d10);\n",
        "sns.lineplot(x=x_p, y=y_p, color='green', label='Model with d=10');"
      ],
      "id": "kFZFhuixlwzz",
      "execution_count": null,
      "outputs": []
    },
    {
      "cell_type": "markdown",
      "metadata": {
        "id": "um22ZAdglwzz"
      },
      "source": [
        "The test error of this model is higher than the “true” model order, too.\n",
        "But, the training error is smaller!"
      ],
      "id": "um22ZAdglwzz"
    },
    {
      "cell_type": "code",
      "metadata": {
        "id": "Yv4i_NX4lwz0"
      },
      "source": [
        "mse_poly10_train = metrics.mean_squared_error(y_train, reg_poly10.predict(x_train_d10))\n",
        "mse_poly10_train/np.var(y_train)"
      ],
      "id": "Yv4i_NX4lwz0",
      "execution_count": null,
      "outputs": []
    },
    {
      "cell_type": "code",
      "metadata": {
        "id": "7Xc2XoNAlwz0"
      },
      "source": [
        "x_test_d10 = np.column_stack( [x_test**d for d in np.arange(1,11)])\n",
        "mse_poly10 = metrics.mean_squared_error(y_test, reg_poly10.predict(x_test_d10))\n",
        "mse_poly10/np.var(y_test)"
      ],
      "id": "7Xc2XoNAlwz0",
      "execution_count": null,
      "outputs": []
    },
    {
      "cell_type": "markdown",
      "metadata": {
        "id": "xiNlEmjYlwz0"
      },
      "source": [
        "This is called *over-fitting* or *over-modeling*. Because the model is\n",
        "very flexible, it is fitting the noise in the data and not the\n",
        "underlying relationship $y=t(x)$."
      ],
      "id": "xiNlEmjYlwz0"
    },
    {
      "cell_type": "markdown",
      "metadata": {
        "id": "P4BhSNG6lwz0"
      },
      "source": [
        "When we compare the estimated function with the true function we can see\n",
        "the overfitting and underfitting clearly. But, in a real problem, we\n",
        "would not have access to the true function (otherwise, we wouldn’t need\n",
        "to be estimating it). The question then is if we can determine the\n",
        "correct model order from data.\n",
        "\n",
        "This problem is known as the *model order selection* problem."
      ],
      "id": "P4BhSNG6lwz0"
    },
    {
      "cell_type": "markdown",
      "metadata": {
        "id": "FI1T-DXIlwz1"
      },
      "source": [
        "One (bad) idea is for each model order to measure the MSE on the\n",
        "training data and select $d$ that minimizes the MSE. To do this, the\n",
        "code below loops over a model order `d = 1,2,...,14` and for each model\n",
        "order, fits a model and measures the MSE."
      ],
      "id": "FI1T-DXIlwz1"
    },
    {
      "cell_type": "code",
      "metadata": {
        "id": "4P2tQHGllwz1"
      },
      "source": [
        "dtest_list = np.arange(1,15)\n",
        "mse_tr = np.zeros(len(dtest_list))\n",
        "mse_test = np.zeros(len(dtest_list))\n",
        "\n",
        "\n",
        "for didx, dtest in enumerate(dtest_list):\n",
        "\n",
        "    # get transformed features\n",
        "    x_train_dtest = np.column_stack( [x_train**d for d in np.arange(1,(dtest+1))])\n",
        "    x_test_dtest = np.column_stack( [x_test**d for d in np.arange(1,(dtest+1))])\n",
        "\n",
        "    # fit data\n",
        "    reg_dtest = LinearRegression().fit(x_train_dtest,y_train)\n",
        "    \n",
        "    # measure MSE on training data\n",
        "    y_hat = reg_dtest.predict(x_train_dtest)\n",
        "    mse_tr[didx] = metrics.mean_squared_error(y_train, y_hat)/np.var(y_train)\n",
        "\n",
        "    # measure MSE on test data\n",
        "    y_hat_test = reg_dtest.predict(x_test_dtest)\n",
        "    mse_test[didx] = metrics.mean_squared_error(y_test, y_hat_test)/np.var(y_test)"
      ],
      "id": "4P2tQHGllwz1",
      "execution_count": null,
      "outputs": []
    },
    {
      "cell_type": "code",
      "metadata": {
        "id": "RsSPzV4Nlwz1"
      },
      "source": [
        "sns.lineplot(x=dtest_list,y=mse_tr, marker=\"o\", label=\"Training\");\n",
        "sns.lineplot(x=dtest_list,y=mse_test, marker=\"o\", label=\"Test\");\n",
        "plt.xlabel('Model order');\n",
        "plt.ylabel('MSE/var');"
      ],
      "id": "RsSPzV4Nlwz1",
      "execution_count": null,
      "outputs": []
    },
    {
      "cell_type": "markdown",
      "metadata": {
        "id": "6zCiWv2alwz1"
      },
      "source": [
        "As we increase $d$, the training MSE always decreases. So minimizing MSE\n",
        "on the training data leads to selecting a very high $d$ which in turn\n",
        "results in over-fitting.\n",
        "\n",
        "On the test data, we observe that the test MSE is high at first (due to\n",
        "high bias), then decreases, then increases again (due to high variance).\n",
        "The model with the smallest MSE on this particular test set may or may\n",
        "not be the model that best reflects the true relationship. (The\n",
        "performance on this test set is still subject to the random draw of\n",
        "samples in the test set!)"
      ],
      "id": "6zCiWv2alwz1"
    },
    {
      "cell_type": "markdown",
      "metadata": {
        "id": "EfO0mH7blwz1"
      },
      "source": [
        "Overfitting and underfitting: uninformative features\n",
        "----------------------------------------------------"
      ],
      "id": "EfO0mH7blwz1"
    },
    {
      "cell_type": "markdown",
      "metadata": {
        "id": "iCMgApURlwz1"
      },
      "source": [
        "Overfitting and underfitting can occur even with a “regular” linear\n",
        "regression on the original features."
      ],
      "id": "iCMgApURlwz1"
    },
    {
      "cell_type": "markdown",
      "metadata": {
        "id": "HFc2Jn0-lwz2"
      },
      "source": [
        "In a previous lesson, we introduced a Python function that generates\n",
        "data using\n",
        "\n",
        "$$y_i = w_0 + w_1 x_{i,1} + \\ldots + w_d x_{i,d} + \\epsilon_i $$\n",
        "\n",
        "where $\\epsilon_i \\sim N(0, \\sigma^2)$."
      ],
      "id": "HFc2Jn0-lwz2"
    },
    {
      "cell_type": "markdown",
      "metadata": {
        "id": "4ViT2jXPlwz3"
      },
      "source": [
        "Now, we will introduce a slight variation on this function: we will add\n",
        "the ability to include *uninformative* features. These features are not\n",
        "related to the target variable $y$."
      ],
      "id": "4ViT2jXPlwz3"
    },
    {
      "cell_type": "code",
      "metadata": {
        "id": "R9eswr6Klwz3"
      },
      "source": [
        "def generate_linear_regression_data(n=100, d=1, coef=[5], intercept=1, sigma=0, uninformative=0):\n",
        "  x = np.random.uniform(-1,1,size=(n,d-uninformative))\n",
        "  y = (np.dot(x, coef) + intercept).squeeze() + sigma * np.random.randn(n)\n",
        "  if uninformative:\n",
        "    x = np.column_stack((x, np.random.randn(n,uninformative)))\n",
        "\n",
        "  return x, y"
      ],
      "id": "R9eswr6Klwz3",
      "execution_count": null,
      "outputs": []
    },
    {
      "cell_type": "markdown",
      "metadata": {
        "id": "KH-ILhSKlwz3"
      },
      "source": [
        "For example, let’s generate some data with 2 informative features (with\n",
        "some noise), and 2 uninformative features:"
      ],
      "id": "KH-ILhSKlwz3"
    },
    {
      "cell_type": "code",
      "metadata": {
        "id": "iZu7n8X8lwz3"
      },
      "source": [
        "x, y = generate_linear_regression_data(n=100, d=4, coef=[5,5], intercept=1, sigma=1, uninformative=2)"
      ],
      "id": "iZu7n8X8lwz3",
      "execution_count": null,
      "outputs": []
    },
    {
      "cell_type": "code",
      "metadata": {
        "id": "JrECSUZClwz3"
      },
      "source": [
        "x.shape"
      ],
      "id": "JrECSUZClwz3",
      "execution_count": null,
      "outputs": []
    },
    {
      "cell_type": "code",
      "metadata": {
        "id": "RS9TKTP1lwz4"
      },
      "source": [
        "p = plt.figure(figsize=(10,10));\n",
        "for i in range(4):\n",
        "  p = plt.subplot(2,2,i+1);\n",
        "  p = plt.scatter(x[:,i],  y);\n",
        "  p = plt.xlabel(\"x\" + str(i+1));\n",
        "  p = plt.ylabel(\"y\");"
      ],
      "id": "RS9TKTP1lwz4",
      "execution_count": null,
      "outputs": []
    },
    {
      "cell_type": "markdown",
      "metadata": {
        "id": "W59MZk2Ilwz4"
      },
      "source": [
        "Once we fit a linear regression model, it is apparent that $x_3$ and\n",
        "$x_4$ do not affect $y$ - the coefficients $w_3$ and $w_4$ are close to\n",
        "zero."
      ],
      "id": "W59MZk2Ilwz4"
    },
    {
      "cell_type": "code",
      "metadata": {
        "id": "NlLpGnvclwz4"
      },
      "source": [
        "reg_demo = LinearRegression().fit(x, y)\n",
        "print(\"Coefficient list: \", reg_demo.coef_)\n",
        "print(\"Intercept: \" , reg_demo.intercept_)"
      ],
      "id": "NlLpGnvclwz4",
      "execution_count": null,
      "outputs": []
    },
    {
      "cell_type": "markdown",
      "metadata": {
        "id": "DMQy3z5Mlwz4"
      },
      "source": [
        "What if we have many more uninformative features, though, and lots of\n",
        "noise relative to the true relationship?"
      ],
      "id": "DMQy3z5Mlwz4"
    },
    {
      "cell_type": "code",
      "metadata": {
        "id": "2GOkNw2plwz5"
      },
      "source": [
        "n_samples = 100\n",
        "d = 95\n",
        "informative = 20\n",
        "coef = np.repeat(1,informative)\n",
        "sigma = 1\n",
        "intercept = 1"
      ],
      "id": "2GOkNw2plwz5",
      "execution_count": null,
      "outputs": []
    },
    {
      "cell_type": "code",
      "metadata": {
        "id": "ttqsO2i8lwz5"
      },
      "source": [
        "x_train, y_train = generate_linear_regression_data(n=n_samples, d=d, coef=coef, intercept=intercept, sigma=sigma, uninformative=d-informative)\n",
        "x_test, y_test = generate_linear_regression_data(n=n_samples, d=d, coef=coef, intercept=intercept, sigma=sigma, uninformative=d-informative)"
      ],
      "id": "ttqsO2i8lwz5",
      "execution_count": null,
      "outputs": []
    },
    {
      "cell_type": "code",
      "metadata": {
        "id": "-XPBimyrlwz5"
      },
      "source": [
        "reg_all = LinearRegression().fit(x_train, y_train)"
      ],
      "id": "-XPBimyrlwz5",
      "execution_count": null,
      "outputs": []
    },
    {
      "cell_type": "markdown",
      "metadata": {
        "id": "w3AMyU6Glwz5"
      },
      "source": [
        "The following plot shows the coefficient value for each feature:"
      ],
      "id": "w3AMyU6Glwz5"
    },
    {
      "cell_type": "code",
      "metadata": {
        "id": "NtG_5Ssslwz5"
      },
      "source": [
        "plt.figure(figsize=(20,5))\n",
        "plt.stem(np.arange(0, d),reg_all.coef_, bottom=0, use_line_collection=True);\n",
        "plt.xticks(np.arange(0, d, 1.0), rotation=90);"
      ],
      "id": "NtG_5Ssslwz5",
      "execution_count": null,
      "outputs": []
    },
    {
      "cell_type": "markdown",
      "metadata": {
        "id": "Ioq80ny9lwz6"
      },
      "source": [
        "We observe that the informative features don’t necessarily have\n",
        "coefficients with the largest magnitudes. The random “relationship”\n",
        "between an uninformative feature $x$ and $y$ appears, in some cases, as\n",
        "strong or stronger than the true relationship between an informative $x$\n",
        "and $y$."
      ],
      "id": "Ioq80ny9lwz6"
    },
    {
      "cell_type": "markdown",
      "metadata": {
        "id": "hwT0OpUylwz6"
      },
      "source": [
        "If we compute R2 on the training set, everything looks great:"
      ],
      "id": "hwT0OpUylwz6"
    },
    {
      "cell_type": "code",
      "metadata": {
        "id": "y5XTxpqelwz6"
      },
      "source": [
        "y_hat = reg_all.predict(x_train)"
      ],
      "id": "y5XTxpqelwz6",
      "execution_count": null,
      "outputs": []
    },
    {
      "cell_type": "code",
      "metadata": {
        "id": "mq5zbKsolwz6"
      },
      "source": [
        "metrics.r2_score(y_train, y_hat)"
      ],
      "id": "mq5zbKsolwz6",
      "execution_count": null,
      "outputs": []
    },
    {
      "cell_type": "markdown",
      "metadata": {
        "id": "sXXB17_Mlwz6"
      },
      "source": [
        "R2 is great!"
      ],
      "id": "sXXB17_Mlwz6"
    },
    {
      "cell_type": "markdown",
      "metadata": {
        "id": "Ap3_7XYnlwz7"
      },
      "source": [
        "But what happens if we try to use our model to predict $y$ for some new,\n",
        "unseen data, from the same distribution?"
      ],
      "id": "Ap3_7XYnlwz7"
    },
    {
      "cell_type": "code",
      "metadata": {
        "id": "-BDQY6HZlwz7"
      },
      "source": [
        "y_test_hat = reg_all.predict(x_test)\n",
        "metrics.r2_score(y_test, y_test_hat)"
      ],
      "id": "-BDQY6HZlwz7",
      "execution_count": null,
      "outputs": []
    },
    {
      "cell_type": "markdown",
      "metadata": {
        "id": "G9QnCHNylwz7"
      },
      "source": [
        "That’s not good at all! Due to severe *over-fitting*, the model performs\n",
        "much worse on the test set than it did on the training set."
      ],
      "id": "G9QnCHNylwz7"
    },
    {
      "cell_type": "markdown",
      "metadata": {
        "id": "etXDFKf7lwz7"
      },
      "source": [
        "Suppose that, to avoid overfitting, we decide to use only a subset of\n",
        "features. We don’t know a priori which features are the most\n",
        "informative. This problem is known as the *feature selection problem*.\n",
        "\n",
        "Perhaps we may decide to try adding one feature at a time to our model,\n",
        "in order, and measure the MSE.\n",
        "\n",
        "(Obviously, there are better ways to do feature selection! But for our\n",
        "demo, this will suffice.)"
      ],
      "id": "etXDFKf7lwz7"
    },
    {
      "cell_type": "code",
      "metadata": {
        "id": "1ptZ7yHzlwz7"
      },
      "source": [
        "dtest_list = np.arange(1,d)\n",
        "r2_tr = np.zeros(len(dtest_list))\n",
        "r2_test = np.zeros(len(dtest_list))\n",
        "\n",
        "column_order = np.random.permutation(x_train.shape[1])\n",
        "x_train_shuffle = x_train[:, column_order]\n",
        "x_test_shuffle  = x_test[:, column_order]\n",
        "\n",
        "\n",
        "for didx, dtest in enumerate(dtest_list):\n",
        "\n",
        "    # get data with the right number of features\n",
        "    x_train_dtest = x_train_shuffle[:, :dtest]\n",
        "    x_test_dtest = x_test_shuffle[:, :dtest]\n",
        "\n",
        "    # fit data\n",
        "    reg_dtest = LinearRegression().fit(x_train_dtest,y_train)\n",
        "    \n",
        "    # measure R2 on training data\n",
        "    y_hat = reg_dtest.predict(x_train_dtest)\n",
        "    r2_tr[didx] = metrics.r2_score(y_train, y_hat)\n",
        "\n",
        "    # measure R2 on test data\n",
        "    y_hat_test = reg_dtest.predict(x_test_dtest)\n",
        "    r2_test[didx] = metrics.r2_score(y_test, y_hat_test)"
      ],
      "id": "1ptZ7yHzlwz7",
      "execution_count": null,
      "outputs": []
    },
    {
      "cell_type": "code",
      "metadata": {
        "id": "AhJQdM1xlwz8"
      },
      "source": [
        "sns.lineplot(x=dtest_list,y=r2_tr, label=\"Training\");\n",
        "sns.lineplot(x=dtest_list,y=r2_test, label=\"Test\");\n",
        "plt.xlabel('Model order');\n",
        "plt.ylabel('R2');"
      ],
      "id": "AhJQdM1xlwz8",
      "execution_count": null,
      "outputs": []
    },
    {
      "cell_type": "markdown",
      "metadata": {
        "id": "iF2VdD7Klwz8"
      },
      "source": [
        "As in the previous example, where the model performed better on the\n",
        "training set with higher $d$, we see again that adding complexity\n",
        "reduces the training error and increases R2."
      ],
      "id": "iF2VdD7Klwz8"
    },
    {
      "cell_type": "markdown",
      "metadata": {
        "id": "fCeORruplwz8"
      },
      "source": [
        "Bias and variance\n",
        "-----------------"
      ],
      "id": "fCeORruplwz8"
    },
    {
      "cell_type": "markdown",
      "metadata": {
        "id": "3VR97cH5lwz8"
      },
      "source": [
        "Recall that we are trying to estimate some value $y$, which is related\n",
        "to $x$ by some “true” function, $t(x)$.\n",
        "\n",
        "In general, $t(x)$ is not known to us. We do, however, have some “noisy”\n",
        "samples of $y$, generated from\n",
        "\n",
        "$$y = t(x) + \\epsilon$$\n",
        "\n",
        "where $\\epsilon \\sim N(0, \\sigma^2)$.\n",
        "\n",
        "We use these training samples to “learn” a function $f(x,w)$\n",
        "parameterized by $w$ such that for samples in the training set,\n",
        "\n",
        "$$y \\approx f(x,w)$$\n",
        "\n",
        "Our ultimate goal, however, is to learn the function that will best\n",
        "approximate samples that we have not yet seen, but that have also been\n",
        "generated from\n",
        "\n",
        "$$y = t(x) + \\epsilon$$"
      ],
      "id": "3VR97cH5lwz8"
    },
    {
      "cell_type": "markdown",
      "metadata": {
        "id": "x3bADRiolwz9"
      },
      "source": [
        "What might go wrong?"
      ],
      "id": "x3bADRiolwz9"
    },
    {
      "cell_type": "markdown",
      "metadata": {
        "id": "mz3ONsHalwz9"
      },
      "source": [
        "### Bias\n",
        "\n",
        "We might try to learn a class of function that is simply not capable of\n",
        "expressing $t(x)$.\n",
        "\n",
        "We observed this in the polynomial example, when we tried learning\n",
        "\n",
        "$$t(x) = w_0 + w_1 x + w_2 x^2 + w_3 x^3$$\n",
        "\n",
        "using\n",
        "\n",
        "$$f(x,w) = w_0 + w_1 x$$\n",
        "\n",
        "(or any $d < 3$.)\n",
        "\n",
        "We also observed this in the example with many features, when we tried\n",
        "learning\n",
        "\n",
        "$$t(x) = w_0 + w_1 x_1 + \\ldots + w_{20} x_{20}$$\n",
        "\n",
        "using a smaller number of features, e.g.\n",
        "\n",
        "$$f(x,w) = w_0 + w_1 x_1 + \\ldots + w_{10} x_{10}$$"
      ],
      "id": "mz3ONsHalwz9"
    },
    {
      "cell_type": "markdown",
      "metadata": {
        "id": "T7enMBJSlwz9"
      },
      "source": [
        "### Variance\n",
        "\n",
        "We might learn the right class of function, but due to the stochastic\n",
        "noise in the training samples, and the random draw of training samples,\n",
        "our parameter estimates are different from the “true” values.\n",
        "\n",
        "We observed this in the polynomial example, when we tried learning\n",
        "\n",
        "$$t(x) = w_0 + w_1 x + w_2 x^2 + w_3 x^3$$\n",
        "\n",
        "using\n",
        "\n",
        "$$f(x,w) = w_0 + w_1 x + \\ldots + w_d x^d$$\n",
        "\n",
        "with $d \\geq 3$. The more complex polynomial *is* capable of expressing\n",
        "$t(x)$ - if we would learn exactly the correct coefficients for\n",
        "$w_i, 0 \\leq i \\leq 3$ and $w_i = 0$ for $i > 3$. But, we had some error\n",
        "in the coefficient estimates, because our coefficient estimates are\n",
        "tuned to the noise in the training data. The more coefficients we learn,\n",
        "the more potential for error.\n",
        "\n",
        "We also observed this in the example with many features, when we tried\n",
        "learning\n",
        "\n",
        "$$t(x) = w_0 + w_1 x_1 + \\ldots + w_{20} x_{20}$$\n",
        "\n",
        "using\n",
        "\n",
        "$$f(x,w) = w_0 + w_1 x_1 + \\ldots + w_d x_d$$\n",
        "\n",
        "with $d \\geq 20$. Again, the model with extra uninformative features is\n",
        "*capable* of expressing $t(x)$ - if we would learn exactly the correct\n",
        "coefficients for $w_i, 0 \\leq i \\leq 20$ and $w_i = 0$ for $i > 20$.\n",
        "But, we had some error in the coefficient estimates, because our\n",
        "coefficient estimates are tuned to the noise in the training data. The\n",
        "more coefficients we learn, the more potential for error."
      ],
      "id": "T7enMBJSlwz9"
    },
    {
      "cell_type": "markdown",
      "metadata": {
        "id": "F61xsU56lwz9"
      },
      "source": [
        "### Irreducible error\n",
        "\n",
        "Even if we learn exactly the right function, $f(x,w) = t(x)$, and we\n",
        "also learn the correct parameters, but still have error in our estimate\n",
        "of $y$ because of the stochastic “noise” in the data. We cannot “learn”\n",
        "$\\epsilon$, it is unpredictable."
      ],
      "id": "F61xsU56lwz9"
    },
    {
      "cell_type": "markdown",
      "metadata": {
        "id": "O0sYl8jolwz-"
      },
      "source": [
        "### Decomposition of test MSE\n",
        "\n",
        "We know that the expected MSE on a new, unseen test point, can be\n",
        "decomposed into those three factors. Let us denote $E[f(x,w)]$ as\n",
        "$\\bar{f}(x,w)$, then\n",
        "\n",
        "$$\n",
        "\\begin{aligned}\n",
        "\\text{Test MSE} &= E [(y - \\hat{y})^2] \\\\\n",
        "&= E [(t(x) + \\epsilon - f(x,w))^2] \\\\\n",
        "&= E (\\epsilon)^2 + E [(t(x) - f(x,w))^2] \\\\\n",
        "&=  E (\\epsilon)^2 + E[t(x) - \\bar{f}(x,w)]^2 + E[(f(x,w) - \\bar{f}(x,w))^2] \\\\\n",
        "&= \\sigma^2 + \\text{Bias}^2 + \\text{Var}(f(x,w))\n",
        "\\end{aligned}\n",
        "$$\n",
        "\n",
        "where the expectation is over the draw of the training set and the\n",
        "noise."
      ],
      "id": "O0sYl8jolwz-"
    },
    {
      "cell_type": "markdown",
      "metadata": {
        "id": "qygPl3uzlwz-"
      },
      "source": [
        "-   The $\\sigma^2$ term captures the random noise in the data, which\n",
        "    cannot be “learned”\n",
        "-   The $E[t(x) - \\bar{f}(x,w)]^2$ term captures any systematic\n",
        "    difference between the function learned by our model and the true\n",
        "    function, as will occur when the model cannot express the true\n",
        "    function.\n",
        "-   The $E[(f(x,w) - \\bar{f}(x,w))^2]$ term captures the difference\n",
        "    between the coefficient estimate due to a particular random training\n",
        "    set, and the average coefficient estimate - in other words, the\n",
        "    variance of the prediction over many fitted instances."
      ],
      "id": "qygPl3uzlwz-"
    },
    {
      "cell_type": "markdown",
      "metadata": {
        "id": "JeILyFYBlwz-"
      },
      "source": [
        "### Bias and variance for linear regression"
      ],
      "id": "JeILyFYBlwz-"
    },
    {
      "cell_type": "markdown",
      "metadata": {
        "id": "q2PnHp9Ilwz-"
      },
      "source": [
        "We shall state here the following results, without proof, for a linear\n",
        "regression trained using least squares, with $n$ samples and having $d$\n",
        "parameters. We also assume that $n \\geq d$ and the data matrix is full\n",
        "rank."
      ],
      "id": "q2PnHp9Ilwz-"
    },
    {
      "cell_type": "markdown",
      "metadata": {
        "id": "wxDvpUollwz_"
      },
      "source": [
        "**Bias**: If there is no under-modeling, then on average, the estimate\n",
        "of $y$ is unbiased, i.e.\n",
        "\n",
        "$$\\text{Bias}(f(x,w)) = 0$$"
      ],
      "id": "wxDvpUollwz_"
    },
    {
      "cell_type": "markdown",
      "metadata": {
        "id": "iAh0raIQlwz_"
      },
      "source": [
        "**Variance**: On average, the variance increases linearly with the\n",
        "number of parameters $d$ and inversely with the number of samples used\n",
        "for training $n$:\n",
        "\n",
        "$$\\text{Var}(f(x,w)) = \\frac{d}{n} \\sigma^2 $$\n",
        "\n",
        "where \\$ \\\\sigma^2\\$ is the stochastic noise variance."
      ],
      "id": "iAh0raIQlwz_"
    },
    {
      "cell_type": "markdown",
      "metadata": {
        "id": "itIcI6Yclwz_"
      },
      "source": [
        "Check your understanding with simulation\n",
        "----------------------------------------"
      ],
      "id": "itIcI6Yclwz_"
    },
    {
      "cell_type": "markdown",
      "metadata": {
        "id": "aQp3oHOLlwz_"
      },
      "source": [
        "For each of the following pairs of regression models, answer:\n",
        "\n",
        "-   Which model in each pair will have greater expected variance of its\n",
        "    estimate of $y$?\n",
        "-   Which model in each pair will have greater bias?\n",
        "\n",
        "(Assume that the two models in each pair are identical except for the\n",
        "differences that are specified.)\n",
        "\n",
        "Then, we’ll check our answer with a simulation experiment, in which we:\n",
        "\n",
        "-   Draw a test set from the distribution of the data\n",
        "-   Many times:\n",
        "    -   Draw a training set from the distribution of the data\n",
        "    -   Fit each model on the training set\n",
        "    -   Compute error on the test set\n",
        "\n",
        "**Note**: we can’t do this when applying machine learning to a real\n",
        "problem with real data! Why not?\n",
        "\n",
        "**Note**: this procedure won’t give us the *exact* bias and variance of\n",
        "the model that we could compute using the closed form expression - why\n",
        "not?"
      ],
      "id": "aQp3oHOLlwz_"
    },
    {
      "cell_type": "markdown",
      "metadata": {
        "id": "soSITQo5lw0A"
      },
      "source": [
        "### Constant model vs mean"
      ],
      "id": "soSITQo5lw0A"
    },
    {
      "cell_type": "markdown",
      "metadata": {
        "id": "syNoIXEklw0A"
      },
      "source": [
        "Suppose that data is generated as\n",
        "\n",
        "$$y = 1 + \\epsilon$$\n",
        "\n",
        "where $\\epsilon \\sim N(0, \\sigma^2)$.\n",
        "\n",
        "We will consider two models:\n",
        "\n",
        "**Model A** is a constant model:\n",
        "\n",
        "$$\\hat{y} = 1$$\n",
        "\n",
        "**Model B** is the mean of the training samples.\n",
        "\n",
        "$$\\hat{y} = \\bar{y} = \\frac{1}{n} \\sum_{i=1}^n y_i $$"
      ],
      "id": "syNoIXEklw0A"
    },
    {
      "cell_type": "code",
      "metadata": {
        "id": "h3_IQrcClw0A"
      },
      "source": [
        "n_repeat = 1000\n",
        "n_test = 50\n",
        "n_train = 5\n",
        "sigma = 1"
      ],
      "id": "h3_IQrcClw0A",
      "execution_count": null,
      "outputs": []
    },
    {
      "cell_type": "code",
      "metadata": {
        "id": "86euuAAilw0A"
      },
      "source": [
        "# generate test data once\n",
        "x_test = np.random.uniform(-1, 1, size=(n_test, 1))\n",
        "y_test = np.ones(n_test) + sigma*np.random.randn(n_test)\n",
        "y_test_no_noise = np.ones(n_test)"
      ],
      "id": "86euuAAilw0A",
      "execution_count": null,
      "outputs": []
    },
    {
      "cell_type": "code",
      "metadata": {
        "id": "NIw8eNsPlw0B"
      },
      "source": [
        "# prepare some matrices for storing simulation results\n",
        "y_predict = np.zeros((n_test, n_repeat, 2))\n",
        "\n",
        "y_test_err = np.zeros((n_test, n_repeat, 2))\n",
        "y_test_bias = np.zeros((n_test, 2))"
      ],
      "id": "NIw8eNsPlw0B",
      "execution_count": null,
      "outputs": []
    },
    {
      "cell_type": "code",
      "metadata": {
        "id": "N8ZkQf87lw0B"
      },
      "source": [
        "# now simulate training the model many times, on different training data every time\n",
        "# and evaluate using the test data\n",
        "for i in range(n_repeat):\n",
        "\n",
        "  # train both models on newly generated training data\n",
        "  # note: we don't need X data since y is independent of X\n",
        "  y_train = np.ones(n_train) + sigma*np.random.randn(n_train)\n",
        "\n",
        "  # model A: predict constant always\n",
        "  y_predict[:, i, 0] = np.repeat(1, n_test) \n",
        "  # model B: predict mean of training samples\n",
        "  y_predict[:, i, 1] = np.mean(y_train)\n",
        "\n",
        "  # overall squared error is due to difference between f_t(x) + epsilon, model prediction f(x,w) \n",
        "  y_test_err[:, i, 0] = (y_test - y_predict[:, i, 0])**2\n",
        "  y_test_err[:, i, 1] = (y_test - y_predict[:, i, 1])**2"
      ],
      "id": "N8ZkQf87lw0B",
      "execution_count": null,
      "outputs": []
    },
    {
      "cell_type": "code",
      "metadata": {
        "id": "1z3Mum3Alw0B"
      },
      "source": [
        "# bias is due to difference between f_t(x) and mean of model prediction f(x,w) \n",
        "y_test_bias[:, 0] = (y_test_no_noise - y_predict[:, :, 0].mean(axis=1))**2\n",
        "y_test_bias[:, 1] = (y_test_no_noise - y_predict[:, :, 1].mean(axis=1))**2"
      ],
      "id": "1z3Mum3Alw0B",
      "execution_count": null,
      "outputs": []
    },
    {
      "cell_type": "code",
      "metadata": {
        "id": "Zo4P64s9lw0C"
      },
      "source": [
        "# irreducible error is due to the difference between f_t(x) and f_t(x) + epsilon\n",
        "y_test_noise_var = (y_test_no_noise - y_test)**2"
      ],
      "id": "Zo4P64s9lw0C",
      "execution_count": null,
      "outputs": []
    },
    {
      "cell_type": "code",
      "metadata": {
        "id": "OI2MvWCelw0C"
      },
      "source": [
        "p = plt.figure(figsize=(10,10));\n",
        "\n",
        "models = ['Model A', 'Model B']\n",
        "\n",
        "for midx, model in enumerate(models):\n",
        "  p = plt.subplot(2, 2, midx+1);\n",
        "  for i in range(n_repeat):\n",
        "    p = sns.lineplot(x=x_test.squeeze(), y=y_predict[:, i, midx], alpha=0.05, color='orange');\n",
        "  p = sns.lineplot(x=x_test.squeeze(), y=y_predict[:, :, midx].mean(axis=1), color='red', label='Mean of models');\n",
        "  p = sns.scatterplot(x=x_test[0:50].squeeze(), y=y_test[0:50], label='Test data');\n",
        "  p = plt.xlabel('x');\n",
        "  p = plt.ylabel('y');\n",
        "  p = plt.title(model);\n",
        "  p = plt.ylim(y_test.min()*1.1, y_test.max()*1.1)\n",
        " \n",
        "  p = plt.subplot(2, 2, midx+3);\n",
        "  p = sns.lineplot(x=x_test.squeeze(), y=y_test_err[:, :, midx].mean(axis=1), color='red', alpha=0.5, label='Total squared error', markers=True);\n",
        "  p = sns.lineplot(x=x_test.squeeze(), y=y_test_bias[:, midx], color='cyan', alpha=0.5, label='Bias^2');\n",
        "  p = sns.lineplot(x=x_test.squeeze(), y=y_predict[:, :, midx].var(axis=1), color='green', alpha=0.5, label='Variance');\n",
        "  p = sns.lineplot(x=x_test.squeeze(), y=y_test_noise_var, color='purple', alpha=0.2, label='Irreducible error');\n",
        "  p = plt.xlabel('x');\n",
        "  p = plt.ylabel('Error');\n",
        "  p = plt.title(\"MSE: %f \\n Irreducible error: %f \\n Bias^2: %f \\n Variance: %f \" % \n",
        "                (y_test_err[:,:,midx].mean(axis=(0,1)), \n",
        "                 y_test_noise_var.mean(), \n",
        "                 (y_test_bias[:, midx]).mean(),\n",
        "                  y_predict[:, :, midx].var(axis=1).mean() ) )\n",
        "  p = plt.ylim(0, 1.1* y_test_err[:, :, :].mean(axis=(1)).max() )\n",
        "\n",
        "plt.subplots_adjust(hspace=0.5)"
      ],
      "id": "OI2MvWCelw0C",
      "execution_count": null,
      "outputs": []
    },
    {
      "cell_type": "markdown",
      "metadata": {
        "id": "WX4Fq_kVlw0D"
      },
      "source": [
        "Question:\n",
        "\n",
        "-   Are the specific values of bias and variance consistent with our\n",
        "    expectations?\n",
        "-   What would happen if \\$\\\\sigma = 0 \\$?\n",
        "-   What would happen if we used $\\hat{y} = 2$ for the constant model?\n",
        "-   What would happen if we would use $\\hat{y} = \\bar{y} + 2$ instead of\n",
        "    $\\bar{y}$ for the mean model?"
      ],
      "id": "WX4Fq_kVlw0D"
    },
    {
      "cell_type": "markdown",
      "metadata": {
        "id": "YOh5ovJelw0E"
      },
      "source": [
        "### Mean vs. linear model with d=1"
      ],
      "id": "YOh5ovJelw0E"
    },
    {
      "cell_type": "markdown",
      "metadata": {
        "id": "CaJ0FnQ2lw0E"
      },
      "source": [
        "Suppose that data is generated as\n",
        "\n",
        "$$y = 1 + \\epsilon$$\n",
        "\n",
        "where $\\epsilon \\sim N(0, \\sigma^2)$.\n",
        "\n",
        "We will consider two models:\n",
        "\n",
        "**Model A** is a linear model with $d=1$ (using an uninformative\n",
        "feature, since $y$ is not a function of any $x$), trained using least\n",
        "squares:\n",
        "\n",
        "$$\\hat{y} = w_0 + w_1 x$$\n",
        "\n",
        "**Model B** is the mean of the training samples.\n",
        "\n",
        "$$\\hat{y} = \\bar{y} = \\frac{1}{n} \\sum_{i=1}^n y_i $$"
      ],
      "id": "CaJ0FnQ2lw0E"
    },
    {
      "cell_type": "code",
      "metadata": {
        "id": "Xx2U8J0Wlw0E"
      },
      "source": [
        "n_repeat = 1000\n",
        "n_test = 50\n",
        "n_train = 5\n",
        "sigma = 1"
      ],
      "id": "Xx2U8J0Wlw0E",
      "execution_count": null,
      "outputs": []
    },
    {
      "cell_type": "code",
      "metadata": {
        "id": "FFYuBRHxlw0E"
      },
      "source": [
        "# generate test data once\n",
        "x_test = np.random.uniform(-1, 1, size=(n_test, 1))\n",
        "y_test = np.ones(n_test) + sigma*np.random.randn(n_test)\n",
        "y_test_no_noise = np.ones(n_test)"
      ],
      "id": "FFYuBRHxlw0E",
      "execution_count": null,
      "outputs": []
    },
    {
      "cell_type": "code",
      "metadata": {
        "id": "zaE6NsyElw0F"
      },
      "source": [
        "# prepare some matrices for storing simulation results\n",
        "y_predict = np.zeros((n_test, n_repeat, 2))\n",
        "\n",
        "y_test_err = np.zeros((n_test, n_repeat, 2))\n",
        "y_test_bias = np.zeros((n_test, 2))"
      ],
      "id": "zaE6NsyElw0F",
      "execution_count": null,
      "outputs": []
    },
    {
      "cell_type": "code",
      "metadata": {
        "id": "dmXBs7Calw0F"
      },
      "source": [
        "# now simulate training the model many times, on different training data every time\n",
        "# and evaluate using the test data\n",
        "for i in range(n_repeat):\n",
        "\n",
        "  # train both models on newly generated training data\n",
        "  y_train = np.ones(n_train) + sigma*np.random.randn(n_train)\n",
        "  x_train = np.random.uniform(-1,1, size=(n_train, 1))\n",
        "\n",
        "  # model A: fit linear model\n",
        "  reg_a = LinearRegression().fit(x_train, y_train)\n",
        "  y_predict[:, i, 0] = reg_a.predict(x_test)\n",
        "  # model B: predict mean of training samples\n",
        "  y_predict[:, i, 1] = np.mean(y_train)\n",
        "\n",
        "  # overall squared error is due to difference between f_t(x) + epsilon, model prediction f(x,w) \n",
        "  y_test_err[:, i, 0] = (y_test - y_predict[:, i, 0])**2\n",
        "  y_test_err[:, i, 1] = (y_test - y_predict[:, i, 1])**2"
      ],
      "id": "dmXBs7Calw0F",
      "execution_count": null,
      "outputs": []
    },
    {
      "cell_type": "code",
      "metadata": {
        "id": "mRjbdfLulw0F"
      },
      "source": [
        "# bias is due to difference between f_t(x) and mean of model prediction f(x,w) \n",
        "y_test_bias[:, 0] = (y_test_no_noise - y_predict[:, :, 0].mean(axis=1))**2\n",
        "y_test_bias[:, 1] = (y_test_no_noise - y_predict[:, :, 1].mean(axis=1))**2"
      ],
      "id": "mRjbdfLulw0F",
      "execution_count": null,
      "outputs": []
    },
    {
      "cell_type": "code",
      "metadata": {
        "id": "QA30qTXIlw0F"
      },
      "source": [
        "# irreducible error is due to the difference between f_t(x) and f_t(x) + epsilon\n",
        "y_test_noise_var = (y_test_no_noise - y_test)**2"
      ],
      "id": "QA30qTXIlw0F",
      "execution_count": null,
      "outputs": []
    },
    {
      "cell_type": "code",
      "metadata": {
        "id": "3eRgqTErlw0G"
      },
      "source": [
        "p = plt.figure(figsize=(10,10));\n",
        "\n",
        "models = ['Model A', 'Model B']\n",
        "\n",
        "for midx, model in enumerate(models):\n",
        "  p = plt.subplot(2, 2, midx+1);\n",
        "  for i in range(n_repeat):\n",
        "    p = sns.lineplot(x=x_test.squeeze(), y=y_predict[:, i, midx], alpha=0.05, color='orange');\n",
        "  p = sns.lineplot(x=x_test.squeeze(), y=y_predict[:, :, midx].mean(axis=1), color='red', label='Mean of models');\n",
        "  p = sns.scatterplot(x=x_test[0:50].squeeze(), y=y_test[0:50], label='Test data');\n",
        "  p = plt.xlabel('x');\n",
        "  p = plt.ylabel('y');\n",
        "  p = plt.title(model);\n",
        "  p = plt.ylim(y_test.min()*1.1, y_test.max()*1.1)\n",
        "\n",
        "  p = plt.subplot(2, 2, midx+3);\n",
        "  p = sns.lineplot(x=x_test.squeeze(), y=y_test_err[:, :, midx].mean(axis=1), color='red', alpha=0.5, label='Total squared error', markers=True);\n",
        "  p = sns.lineplot(x=x_test.squeeze(), y=y_test_bias[:, midx], color='cyan', alpha=0.5, label='Bias^2');\n",
        "  p = sns.lineplot(x=x_test.squeeze(), y=y_predict[:, :, midx].var(axis=1), color='green', alpha=0.5, label='Variance');\n",
        "  p = sns.lineplot(x=x_test.squeeze(), y=y_test_noise_var, color='purple', alpha=0.2, label='Irreducible error');\n",
        "  p = plt.xlabel('x');\n",
        "  p = plt.ylabel('Error');\n",
        "  p = plt.title(\"MSE: %f \\n Irreducible error: %f \\n Bias^2: %f \\n Variance: %f \" % \n",
        "                (y_test_err[:,:,midx].mean(axis=(0,1)), \n",
        "                 y_test_noise_var.mean(), \n",
        "                 (y_test_bias[:, midx]).mean(),\n",
        "                  y_predict[:, :, midx].var(axis=1).mean() ) )\n",
        "  p = plt.ylim(0, 1.1* y_test_err[:, :, :].mean(axis=(1)).max() )\n",
        "\n",
        "plt.subplots_adjust(hspace=0.5)"
      ],
      "id": "3eRgqTErlw0G",
      "execution_count": null,
      "outputs": []
    },
    {
      "cell_type": "markdown",
      "metadata": {
        "id": "hn2khaq9lw0G"
      },
      "source": [
        "### Linear model with 10 vs. 1000 training samples"
      ],
      "id": "hn2khaq9lw0G"
    },
    {
      "cell_type": "markdown",
      "metadata": {
        "id": "5rsWklItlw0G"
      },
      "source": [
        "**Model A**:\n",
        "\n",
        "$$\\hat{y} = w_0 + w_1 x_1$$\n",
        "\n",
        "with least squares estimate of parameters, $n = 10$ training samples.\n",
        "\n",
        "**Model B**:\n",
        "\n",
        "$$\\hat{y} = w_0 + w_1 x_1$$\n",
        "\n",
        "with least squares estimate of parameters, $n = 1000$ training samples."
      ],
      "id": "5rsWklItlw0G"
    },
    {
      "cell_type": "code",
      "metadata": {
        "id": "Dpkh5DhPlw0G"
      },
      "source": [
        "n_repeat = 1000\n",
        "n_test = 50"
      ],
      "id": "Dpkh5DhPlw0G",
      "execution_count": null,
      "outputs": []
    },
    {
      "cell_type": "code",
      "metadata": {
        "id": "9l_3AKqAlw0H"
      },
      "source": [
        "y_predict = np.zeros((n_test, n_repeat, 2))\n",
        "\n",
        "y_test_err = np.zeros((n_test, n_repeat, 2))\n",
        "y_test_bias = np.zeros((n_test, 2))"
      ],
      "id": "9l_3AKqAlw0H",
      "execution_count": null,
      "outputs": []
    },
    {
      "cell_type": "code",
      "metadata": {
        "id": "zFU0bjhtlw0H"
      },
      "source": [
        "coef = [5]\n",
        "intercept = 1\n",
        "sigma = 2"
      ],
      "id": "zFU0bjhtlw0H",
      "execution_count": null,
      "outputs": []
    },
    {
      "cell_type": "code",
      "metadata": {
        "id": "caCktPQzlw0H"
      },
      "source": [
        "# generate test data once\n",
        "x_test, y_test = generate_linear_regression_data(n=n_test, d=1, coef=[5], intercept=1, sigma=sigma)\n",
        "y_test_no_noise = intercept + np.dot(x_test, coef) \n",
        "# note: y_test is f_t(x) + epsilon\n",
        "# note: y_test_no_noise is f_t(x) \n",
        "\n",
        "# noise is due to the difference between f_t(x) and f_t(x) + epsilon\n",
        "y_test_noise_var = (y_test_no_noise - y_test)**2"
      ],
      "id": "caCktPQzlw0H",
      "execution_count": null,
      "outputs": []
    },
    {
      "cell_type": "code",
      "metadata": {
        "id": "Fg1erKl0lw0H"
      },
      "source": [
        "# now simulate training the model many times, on different training data every time\n",
        "# and evaluate using the test data\n",
        "for i in range(n_repeat):\n",
        "\n",
        "  # train both models on newly generated training data\n",
        "  x, y = generate_linear_regression_data(n=1000, d=1, coef=coef, intercept=intercept, sigma=sigma)\n",
        "  x_a, y_a = x[0:10], y[0:10]\n",
        "  reg_a = LinearRegression().fit(x_a, y_a)\n",
        "\n",
        "  x_b, y_b = x, y\n",
        "  reg_b = LinearRegression().fit(x_b, y_b)\n",
        "\n",
        "  y_predict[:, i, 0] = reg_a.predict(x_test)\n",
        "  y_predict[:, i, 1] = reg_b.predict(x_test)\n",
        "\n",
        "  # overall squared error is due to difference between f_t(x) + epsilon, model prediction f(x,w) \n",
        "  y_test_err[:, i, 0] = (y_test - y_predict[:, i, 0])**2\n",
        "  y_test_err[:, i, 1] = (y_test - y_predict[:, i, 1])**2"
      ],
      "id": "Fg1erKl0lw0H",
      "execution_count": null,
      "outputs": []
    },
    {
      "cell_type": "code",
      "metadata": {
        "id": "akIZsoNXlw0H"
      },
      "source": [
        "# bias is due to difference between f_t(x) and mean of model prediction f(x,w) \n",
        "y_test_bias[:, 0] = (y_test_no_noise - y_predict[:, :, 0].mean(axis=1))**2\n",
        "y_test_bias[:, 1] = (y_test_no_noise - y_predict[:, :, 1].mean(axis=1))**2"
      ],
      "id": "akIZsoNXlw0H",
      "execution_count": null,
      "outputs": []
    },
    {
      "cell_type": "code",
      "metadata": {
        "id": "l8dOxjj_lw0H"
      },
      "source": [
        "p = plt.figure(figsize=(10,10));\n",
        "\n",
        "models = ['Model A', 'Model B']\n",
        "\n",
        "for midx, model in enumerate(models):\n",
        "  p = plt.subplot(2, 2, midx+1);\n",
        "  for i in range(n_repeat):\n",
        "    p = sns.lineplot(x=x_test.squeeze(), y=y_predict[:, i, midx], alpha=0.05, color='orange');\n",
        "  p = sns.lineplot(x=x_test.squeeze(), y=y_predict[:, :, midx].mean(axis=1), color='red', label='Mean of models');\n",
        "  p = sns.scatterplot(x=x_test.squeeze(), y=y_test, label='Test data');\n",
        "  p = plt.xlabel('x');\n",
        "  p = plt.ylabel('y');\n",
        "  p = plt.title(model);\n",
        "  p = plt.ylim(y_test.min()*1.1, y_test.max()*1.1)\n",
        "\n",
        "  p = plt.subplot(2, 2, midx+3);\n",
        "  p = sns.lineplot(x=x_test.squeeze(), y=y_test_err[:, :, midx].mean(axis=1), color='red', alpha=0.5, label='Total squared error', markers=True);\n",
        "  p = sns.lineplot(x=x_test.squeeze(), y=y_test_bias[:, midx], color='cyan', alpha=0.5, label='Bias^2');\n",
        "  p = sns.lineplot(x=x_test.squeeze(), y=y_predict[:, :, midx].var(axis=1), color='green', alpha=0.5, label='Variance');\n",
        "  p = sns.lineplot(x=x_test.squeeze(), y=y_test_noise_var, color='purple', alpha=0.2, label='Irreducible error');\n",
        "  p = plt.xlabel('x');\n",
        "  p = plt.ylabel('Error');\n",
        "  p = plt.title(\"MSE: %f \\n Irreducible error: %f \\n Bias^2: %f \\n Variance: %f \" % \n",
        "                (y_test_err[:,:,midx].mean(axis=(0,1)), \n",
        "                 y_test_noise_var.mean(), \n",
        "                 (y_test_bias[:, midx]).mean(),\n",
        "                  y_predict[:, :, midx].var(axis=1).mean() ) )\n",
        "  p = plt.ylim(0, 1.1* y_test_err[:, :, :].mean(axis=(1)).max() )\n",
        "\n",
        "plt.subplots_adjust(hspace=0.5)"
      ],
      "id": "l8dOxjj_lw0H",
      "execution_count": null,
      "outputs": []
    },
    {
      "cell_type": "code",
      "metadata": {
        "id": "Wzv5Kh2Wlw0H"
      },
      "source": [],
      "id": "Wzv5Kh2Wlw0H",
      "execution_count": null,
      "outputs": []
    },
    {
      "cell_type": "markdown",
      "metadata": {
        "id": "BQD3OU0qlw0I"
      },
      "source": [
        "### Linear vs. polynomial model"
      ],
      "id": "BQD3OU0qlw0I"
    },
    {
      "cell_type": "markdown",
      "metadata": {
        "id": "eCuxIe3Flw0I"
      },
      "source": [
        "Data is generated as $y_i = 1 + 0.5x_i + 2x_i^3 + \\epsilon_i$.\n",
        "\n",
        "**Model A**:\n",
        "\n",
        "$$\\hat{y} = w_0 + w_1 x$$\n",
        "\n",
        "with least squares estimate of parameters.\n",
        "\n",
        "**Model B**:\n",
        "\n",
        "$$\\hat{y} = w_0 + w_1 x + w_2 x^2 + w_3 x^3$$\n",
        "\n",
        "with least squares estimate of parameters."
      ],
      "id": "eCuxIe3Flw0I"
    },
    {
      "cell_type": "code",
      "metadata": {
        "id": "dap_5HXDlw0I"
      },
      "source": [
        "n_repeat = 1000\n",
        "n_test = 50"
      ],
      "id": "dap_5HXDlw0I",
      "execution_count": null,
      "outputs": []
    },
    {
      "cell_type": "code",
      "metadata": {
        "id": "o4nWT4Fwlw0K"
      },
      "source": [
        "y_predict = np.zeros((n_test, n_repeat, 2))\n",
        "\n",
        "y_test_err = np.zeros((n_test, n_repeat, 2))\n",
        "y_test_bias = np.zeros((n_test, 2))"
      ],
      "id": "o4nWT4Fwlw0K",
      "execution_count": null,
      "outputs": []
    },
    {
      "cell_type": "code",
      "metadata": {
        "id": "Ereqxt99lw0K"
      },
      "source": [
        "coefs=[1,0.5,0,2]\n",
        "sigma = 3"
      ],
      "id": "Ereqxt99lw0K",
      "execution_count": null,
      "outputs": []
    },
    {
      "cell_type": "code",
      "metadata": {
        "id": "0Vh3B5xblw0L"
      },
      "source": [
        "# generate test data once\n",
        "x_test, y_test = generate_polynomial_regression_data(n=n_test, coefs=coefs, sigma=sigma)\n",
        "y_test_no_noise = np.polynomial.polynomial.polyval(x_test, coefs).squeeze()\n",
        "# note: y_test is f_t(x) + epsilon\n",
        "# note: y_test_no_noise is f_t(x) \n",
        "\n",
        "# noise is due to the difference between f_t(x) and f_t(x) + epsilon\n",
        "y_test_noise_var = (y_test_no_noise - y_test)**2"
      ],
      "id": "0Vh3B5xblw0L",
      "execution_count": null,
      "outputs": []
    },
    {
      "cell_type": "code",
      "metadata": {
        "id": "ahEYp6r5lw0L"
      },
      "source": [
        "# now simulate training the model many times, on different training data every time\n",
        "# and evaluate using the test data\n",
        "for i in range(n_repeat):\n",
        "\n",
        "  # train both models on newly generated training data\n",
        "  x, y = generate_polynomial_regression_data(n=100, coefs=coefs, sigma=sigma)\n",
        "\n",
        "  x_a, y_a = x, y\n",
        "  reg_a = LinearRegression().fit(x_a, y_a)\n",
        "\n",
        "  x_b_d3 = np.column_stack( [x.reshape(-1,1)**d for d in np.arange(1,4)])\n",
        "  y_b = y\n",
        "  reg_b = LinearRegression().fit(x_b_d3, y_b)\n",
        "\n",
        "  y_predict[:, i, 0] = reg_a.predict(x_test)\n",
        "  x_test_d3 = np.column_stack( [x_test.reshape(-1,1)**d for d in np.arange(1,4)])\n",
        "  y_predict[:, i, 1] = reg_b.predict(x_test_d3)\n",
        "\n",
        "  # overall squared error is due to difference between f_t(x) + epsilon, model prediction f(x,w) \n",
        "  y_test_err[:, i, 0] = (y_test - y_predict[:, i, 0])**2\n",
        "  y_test_err[:, i, 1] = (y_test - y_predict[:, i, 1])**2"
      ],
      "id": "ahEYp6r5lw0L",
      "execution_count": null,
      "outputs": []
    },
    {
      "cell_type": "code",
      "metadata": {
        "id": "RprVwu5olw0L"
      },
      "source": [
        "# bias is due to difference between f_t(x) and mean of model prediction f(x,w) \n",
        "y_test_bias[:, 0] = (y_test_no_noise - y_predict[:, :, 0].mean(axis=1))**2\n",
        "y_test_bias[:, 1] = (y_test_no_noise - y_predict[:, :, 1].mean(axis=1))**2"
      ],
      "id": "RprVwu5olw0L",
      "execution_count": null,
      "outputs": []
    },
    {
      "cell_type": "code",
      "metadata": {
        "id": "Yz0C61mDlw0L"
      },
      "source": [
        "p = plt.figure(figsize=(10,10));\n",
        "\n",
        "models = ['Model A', 'Model B']\n",
        "\n",
        "for midx, model in enumerate(models):\n",
        "  p = plt.subplot(2, 2, midx+1);\n",
        "  for i in range(n_repeat):\n",
        "    p = sns.lineplot(x=x_test.squeeze(), y=y_predict[:, i, midx], alpha=0.05, color='orange');\n",
        "  p = sns.lineplot(x=x_test.squeeze(), y=y_predict[:, :, midx].mean(axis=1), color='red', label='Mean of models');\n",
        "  p = sns.scatterplot(x=x_test.squeeze(), y=y_test, label='Test data');\n",
        "  p = plt.xlabel('x');\n",
        "  p = plt.ylabel('y');\n",
        "  p = plt.title(model);\n",
        "  p = plt.ylim(y_test.min()*1.1, y_test.max()*1.1)\n",
        "\n",
        "  p = plt.subplot(2, 2, midx+3);\n",
        "  p = sns.lineplot(x=x_test.squeeze(), y=y_test_err[:, :, midx].mean(axis=1), color='red', alpha=0.5, label='Total squared error', markers=True);\n",
        "  p = sns.lineplot(x=x_test.squeeze(), y=y_test_bias[:, midx], color='cyan', alpha=0.5, label='Bias^2');\n",
        "  p = sns.lineplot(x=x_test.squeeze(), y=y_predict[:, :, midx].var(axis=1), color='green', alpha=0.5, label='Variance');\n",
        "  p = sns.lineplot(x=x_test.squeeze(), y=y_test_noise_var, color='purple', alpha=0.2, label='Irreducible error');\n",
        "  p = plt.xlabel('x');\n",
        "  p = plt.ylabel('Error');\n",
        "  p = plt.title(\"MSE: %f \\n Irreducible error: %f \\n Bias^2: %f \\n Variance: %f \" % \n",
        "                (y_test_err[:,:,midx].mean(axis=(0,1)), \n",
        "                 y_test_noise_var.mean(), \n",
        "                 (y_test_bias[:, midx]).mean(),\n",
        "                  y_predict[:, :, midx].var(axis=1).mean() ) )\n",
        "  p = plt.ylim(0, 1.1* y_test_err[:, :, :].mean(axis=(1)).max() )\n",
        "\n",
        "plt.subplots_adjust(hspace=0.5)"
      ],
      "id": "Yz0C61mDlw0L",
      "execution_count": null,
      "outputs": []
    },
    {
      "cell_type": "markdown",
      "metadata": {
        "id": "LZ79wntGlw0L"
      },
      "source": [
        "Questions:\n",
        "\n",
        "-   What would happen if you increase or decrease $\\sigma$ in this\n",
        "    example?"
      ],
      "id": "LZ79wntGlw0L"
    },
    {
      "cell_type": "markdown",
      "metadata": {
        "id": "HiqOc8RHlw0M"
      },
      "source": [
        "Model selection\n",
        "---------------\n",
        "\n",
        "We know that (in the “classic” view), the test error of a model tends to\n",
        "decrease and then increase as we increase model complexity. For low\n",
        "complexity, the bias dominates; for high complexity, the variance\n",
        "dominates.\n",
        "\n",
        "The training error, however, only decreases with increasing model\n",
        "complexity. If we use training error to select a model, we’ll select a\n",
        "model that overfits. And during training, when we select a model, only\n",
        "the training error is available to us.\n",
        "\n",
        "![Image from “Elements of Statistical\n",
        "Learning”](https://i.stack.imgur.com/alkeM.png)\n",
        "\n",
        "*Image source: Elements of Statistical Learning*"
      ],
      "id": "HiqOc8RHlw0M"
    },
    {
      "cell_type": "markdown",
      "metadata": {
        "id": "GtcXgen6lw0M"
      },
      "source": [
        "The solution is cross validation. Until now, we have been dividing our\n",
        "data into two parts:\n",
        "\n",
        "-   Training data: used to train the model\n",
        "-   Test data: used to evaluate the performance of our model on new,\n",
        "    unseen data\n",
        "\n",
        "Now, we will make one more split:\n",
        "\n",
        "-   Training data: used to train the model\n",
        "-   Validation data: used to select the model complexity (usually by\n",
        "    tuning some *hyperparameters*)\n",
        "-   Test data: used to evaluate the performance of our model on new,\n",
        "    unseen data"
      ],
      "id": "GtcXgen6lw0M"
    },
    {
      "cell_type": "markdown",
      "metadata": {
        "id": "0oQhWMnKlw0M"
      },
      "source": [
        "Furthermore, we will refine this idea in order to reduce the dependence\n",
        "on the particular samples we choose for the training, and to increase\n",
        "the number of samples available for training. In K-fold cross\n",
        "validation, we split the data into $K$ parts, each part being\n",
        "approximately equal in size. For each split, we fit the data on $K-1$\n",
        "parts and test the data on the remaining part. Then, we average the\n",
        "score over the $K$ parts."
      ],
      "id": "0oQhWMnKlw0M"
    },
    {
      "cell_type": "markdown",
      "metadata": {
        "id": "H8vnZ1iulw0M"
      },
      "source": [
        "For example, for $K=5$, it might look like this:\n",
        "\n",
        "![](https://scikit-learn.org/stable/_images/grid_search_cross_validation.png)"
      ],
      "id": "H8vnZ1iulw0M"
    },
    {
      "cell_type": "markdown",
      "metadata": {
        "id": "XZoYhRW-lw0N"
      },
      "source": [
        "### Model selection using best K-Fold CV score\n",
        "\n",
        "First, we will try to use K-fold CV to select a polynomial model to fit\n",
        "the data in our first example.\n",
        "\n",
        "We will use the `scikit-learn` module for K-fold CV."
      ],
      "id": "XZoYhRW-lw0N"
    },
    {
      "cell_type": "code",
      "metadata": {
        "id": "LLaSO2uklw0N"
      },
      "source": [
        "coefs=[1,0.5,0,2]\n",
        "n_samples = 500\n",
        "sigma = 0.5"
      ],
      "id": "LLaSO2uklw0N",
      "execution_count": 2,
      "outputs": []
    },
    {
      "cell_type": "code",
      "metadata": {
        "id": "Q3ZzAY15lw0N"
      },
      "source": [
        "# generate polynimal data\n",
        "x, y = generate_polynomial_regression_data(n=n_samples, coefs=coefs, sigma=sigma)"
      ],
      "id": "Q3ZzAY15lw0N",
      "execution_count": 9,
      "outputs": []
    },
    {
      "cell_type": "code",
      "metadata": {
        "id": "T_klTq64lw0N"
      },
      "source": [
        "# divide into training and test set\n",
        "# (we will later divide training data again, into training and validation set)\n",
        "x_train, x_test, y_train, y_test = train_test_split(x, y, test_size = 0.25)"
      ],
      "id": "T_klTq64lw0N",
      "execution_count": 10,
      "outputs": []
    },
    {
      "cell_type": "code",
      "metadata": {
        "id": "FcO6Hu_0lw0N"
      },
      "source": [
        "# create a k-fold object\n",
        "nfold = 10\n",
        "kf = KFold(n_splits=nfold,shuffle=True)\n",
        "\n",
        "# model orders to be tested\n",
        "dtest_list = np.arange(1,10)\n",
        "nd = len(dtest_list)\n",
        "\n",
        "mse_val = np.zeros((nd,nfold))\n",
        "r2_val  = np.zeros((nd,nfold))\n",
        "\n",
        "# loop over the folds\n",
        "# the first loop variable tells us how many out of nfold folds we have gone through\n",
        "# the second loop variable tells us how to split the data\n",
        "for isplit, idx in enumerate(kf.split(x_train)):\n",
        "        \n",
        "    # these are the indices for the training and validation indices\n",
        "    # for this iteration of the k folds\n",
        "    idx_tr, idx_val = idx \n",
        "\n",
        "    x_train_kfold = x_train[idx_tr]\n",
        "    y_train_kfold = y_train[idx_tr]\n",
        "    x_val_kfold = x_train[idx_val]\n",
        "    y_val_kfold = y_train[idx_val]\n",
        "\n",
        "    for didx, dtest in enumerate(dtest_list):\n",
        "\n",
        "      # get transformed features\n",
        "      x_train_dtest = np.column_stack( [x_train_kfold**d for d in np.arange(1,(dtest+1))])\n",
        "      x_val_dtest = np.column_stack( [x_val_kfold**d for d in np.arange(1,(dtest+1))])\n",
        "\n",
        "      # fit data\n",
        "      reg_dtest = LinearRegression().fit(x_train_dtest, y_train_kfold)\n",
        "      \n",
        "      # measure MSE on validation data\n",
        "      y_hat = reg_dtest.predict(x_val_dtest)\n",
        "      mse_val[didx, isplit] = metrics.mean_squared_error(y_val_kfold, y_hat)\n",
        "      r2_val[didx, isplit] = metrics.r2_score(y_val_kfold, y_hat)"
      ],
      "id": "FcO6Hu_0lw0N",
      "execution_count": 11,
      "outputs": []
    },
    {
      "cell_type": "code",
      "metadata": {
        "id": "kJhl0M5blw0O"
      },
      "source": [
        "sns.lineplot(x=dtest_list, y=mse_val.mean(axis=1), marker='o');\n",
        "plt.xlabel(\"Model order\");\n",
        "plt.ylabel(\"K-fold MSE\");"
      ],
      "id": "kJhl0M5blw0O",
      "execution_count": 12,
      "outputs": [
        {
          "output_type": "display_data",
          "data": {
            "text/plain": "<Figure size 432x288 with 1 Axes>",
            "image/svg+xml": "<?xml version=\"1.0\" encoding=\"utf-8\" standalone=\"no\"?>\r\n<!DOCTYPE svg PUBLIC \"-//W3C//DTD SVG 1.1//EN\"\r\n  \"http://www.w3.org/Graphics/SVG/1.1/DTD/svg11.dtd\">\r\n<!-- Created with matplotlib (https://matplotlib.org/) -->\r\n<svg height=\"266.678312pt\" version=\"1.1\" viewBox=\"0 0 395.081406 266.678312\" width=\"395.081406pt\" xmlns=\"http://www.w3.org/2000/svg\" xmlns:xlink=\"http://www.w3.org/1999/xlink\">\r\n <defs>\r\n  <style type=\"text/css\">\r\n*{stroke-linecap:butt;stroke-linejoin:round;}\r\n  </style>\r\n </defs>\r\n <g id=\"figure_1\">\r\n  <g id=\"patch_1\">\r\n   <path d=\"M -0 266.678312 \r\nL 395.081406 266.678312 \r\nL 395.081406 0 \r\nL -0 0 \r\nz\r\n\" style=\"fill:#ffffff;\"/>\r\n  </g>\r\n  <g id=\"axes_1\">\r\n   <g id=\"patch_2\">\r\n    <path d=\"M 53.081406 224.944093 \r\nL 387.881406 224.944093 \r\nL 387.881406 7.504093 \r\nL 53.081406 7.504093 \r\nz\r\n\" style=\"fill:#eaeaf2;\"/>\r\n   </g>\r\n   <g id=\"matplotlib.axis_1\">\r\n    <g id=\"xtick_1\">\r\n     <g id=\"line2d_1\">\r\n      <path clip-path=\"url(#p26a607ed66)\" d=\"M 68.299588 224.944093 \r\nL 68.299588 7.504093 \r\n\" style=\"fill:none;stroke:#ffffff;stroke-linecap:round;\"/>\r\n     </g>\r\n     <g id=\"text_1\">\r\n      <!-- 1 -->\r\n      <defs>\r\n       <path d=\"M 37.25 0 \r\nL 28.46875 0 \r\nL 28.46875 56 \r\nQ 25.296875 52.984375 20.140625 49.953125 \r\nQ 14.984375 46.921875 10.890625 45.40625 \r\nL 10.890625 53.90625 \r\nQ 18.265625 57.375 23.78125 62.296875 \r\nQ 29.296875 67.234375 31.59375 71.875 \r\nL 37.25 71.875 \r\nz\r\n\" id=\"ArialMT-49\"/>\r\n      </defs>\r\n      <g style=\"fill:#262626;\" transform=\"translate(65.241072 242.317687)scale(0.11 -0.11)\">\r\n       <use xlink:href=\"#ArialMT-49\"/>\r\n      </g>\r\n     </g>\r\n    </g>\r\n    <g id=\"xtick_2\">\r\n     <g id=\"line2d_2\">\r\n      <path clip-path=\"url(#p26a607ed66)\" d=\"M 106.345043 224.944093 \r\nL 106.345043 7.504093 \r\n\" style=\"fill:none;stroke:#ffffff;stroke-linecap:round;\"/>\r\n     </g>\r\n     <g id=\"text_2\">\r\n      <!-- 2 -->\r\n      <defs>\r\n       <path d=\"M 50.34375 8.453125 \r\nL 50.34375 0 \r\nL 3.03125 0 \r\nQ 2.9375 3.171875 4.046875 6.109375 \r\nQ 5.859375 10.9375 9.828125 15.625 \r\nQ 13.8125 20.3125 21.34375 26.46875 \r\nQ 33.015625 36.03125 37.109375 41.625 \r\nQ 41.21875 47.21875 41.21875 52.203125 \r\nQ 41.21875 57.421875 37.46875 61 \r\nQ 33.734375 64.59375 27.734375 64.59375 \r\nQ 21.390625 64.59375 17.578125 60.78125 \r\nQ 13.765625 56.984375 13.71875 50.25 \r\nL 4.6875 51.171875 \r\nQ 5.609375 61.28125 11.65625 66.578125 \r\nQ 17.71875 71.875 27.9375 71.875 \r\nQ 38.234375 71.875 44.234375 66.15625 \r\nQ 50.25 60.453125 50.25 52 \r\nQ 50.25 47.703125 48.484375 43.546875 \r\nQ 46.734375 39.40625 42.65625 34.8125 \r\nQ 38.578125 30.21875 29.109375 22.21875 \r\nQ 21.1875 15.578125 18.9375 13.203125 \r\nQ 16.703125 10.84375 15.234375 8.453125 \r\nz\r\n\" id=\"ArialMT-50\"/>\r\n      </defs>\r\n      <g style=\"fill:#262626;\" transform=\"translate(103.286527 242.317687)scale(0.11 -0.11)\">\r\n       <use xlink:href=\"#ArialMT-50\"/>\r\n      </g>\r\n     </g>\r\n    </g>\r\n    <g id=\"xtick_3\">\r\n     <g id=\"line2d_3\">\r\n      <path clip-path=\"url(#p26a607ed66)\" d=\"M 144.390497 224.944093 \r\nL 144.390497 7.504093 \r\n\" style=\"fill:none;stroke:#ffffff;stroke-linecap:round;\"/>\r\n     </g>\r\n     <g id=\"text_3\">\r\n      <!-- 3 -->\r\n      <defs>\r\n       <path d=\"M 4.203125 18.890625 \r\nL 12.984375 20.0625 \r\nQ 14.5 12.59375 18.140625 9.296875 \r\nQ 21.78125 6 27 6 \r\nQ 33.203125 6 37.46875 10.296875 \r\nQ 41.75 14.59375 41.75 20.953125 \r\nQ 41.75 27 37.796875 30.921875 \r\nQ 33.84375 34.859375 27.734375 34.859375 \r\nQ 25.25 34.859375 21.53125 33.890625 \r\nL 22.515625 41.609375 \r\nQ 23.390625 41.5 23.921875 41.5 \r\nQ 29.546875 41.5 34.03125 44.421875 \r\nQ 38.53125 47.359375 38.53125 53.46875 \r\nQ 38.53125 58.296875 35.25 61.46875 \r\nQ 31.984375 64.65625 26.8125 64.65625 \r\nQ 21.6875 64.65625 18.265625 61.421875 \r\nQ 14.84375 58.203125 13.875 51.765625 \r\nL 5.078125 53.328125 \r\nQ 6.6875 62.15625 12.390625 67.015625 \r\nQ 18.109375 71.875 26.609375 71.875 \r\nQ 32.46875 71.875 37.390625 69.359375 \r\nQ 42.328125 66.84375 44.9375 62.5 \r\nQ 47.5625 58.15625 47.5625 53.265625 \r\nQ 47.5625 48.640625 45.0625 44.828125 \r\nQ 42.578125 41.015625 37.703125 38.765625 \r\nQ 44.046875 37.3125 47.5625 32.6875 \r\nQ 51.078125 28.078125 51.078125 21.140625 \r\nQ 51.078125 11.765625 44.234375 5.25 \r\nQ 37.40625 -1.265625 26.953125 -1.265625 \r\nQ 17.53125 -1.265625 11.296875 4.34375 \r\nQ 5.078125 9.96875 4.203125 18.890625 \r\nz\r\n\" id=\"ArialMT-51\"/>\r\n      </defs>\r\n      <g style=\"fill:#262626;\" transform=\"translate(141.331982 242.317687)scale(0.11 -0.11)\">\r\n       <use xlink:href=\"#ArialMT-51\"/>\r\n      </g>\r\n     </g>\r\n    </g>\r\n    <g id=\"xtick_4\">\r\n     <g id=\"line2d_4\">\r\n      <path clip-path=\"url(#p26a607ed66)\" d=\"M 182.435952 224.944093 \r\nL 182.435952 7.504093 \r\n\" style=\"fill:none;stroke:#ffffff;stroke-linecap:round;\"/>\r\n     </g>\r\n     <g id=\"text_4\">\r\n      <!-- 4 -->\r\n      <defs>\r\n       <path d=\"M 32.328125 0 \r\nL 32.328125 17.140625 \r\nL 1.265625 17.140625 \r\nL 1.265625 25.203125 \r\nL 33.9375 71.578125 \r\nL 41.109375 71.578125 \r\nL 41.109375 25.203125 \r\nL 50.78125 25.203125 \r\nL 50.78125 17.140625 \r\nL 41.109375 17.140625 \r\nL 41.109375 0 \r\nz\r\nM 32.328125 25.203125 \r\nL 32.328125 57.46875 \r\nL 9.90625 25.203125 \r\nz\r\n\" id=\"ArialMT-52\"/>\r\n      </defs>\r\n      <g style=\"fill:#262626;\" transform=\"translate(179.377436 242.317687)scale(0.11 -0.11)\">\r\n       <use xlink:href=\"#ArialMT-52\"/>\r\n      </g>\r\n     </g>\r\n    </g>\r\n    <g id=\"xtick_5\">\r\n     <g id=\"line2d_5\">\r\n      <path clip-path=\"url(#p26a607ed66)\" d=\"M 220.481406 224.944093 \r\nL 220.481406 7.504093 \r\n\" style=\"fill:none;stroke:#ffffff;stroke-linecap:round;\"/>\r\n     </g>\r\n     <g id=\"text_5\">\r\n      <!-- 5 -->\r\n      <defs>\r\n       <path d=\"M 4.15625 18.75 \r\nL 13.375 19.53125 \r\nQ 14.40625 12.796875 18.140625 9.390625 \r\nQ 21.875 6 27.15625 6 \r\nQ 33.5 6 37.890625 10.78125 \r\nQ 42.28125 15.578125 42.28125 23.484375 \r\nQ 42.28125 31 38.0625 35.34375 \r\nQ 33.84375 39.703125 27 39.703125 \r\nQ 22.75 39.703125 19.328125 37.765625 \r\nQ 15.921875 35.84375 13.96875 32.765625 \r\nL 5.71875 33.84375 \r\nL 12.640625 70.609375 \r\nL 48.25 70.609375 \r\nL 48.25 62.203125 \r\nL 19.671875 62.203125 \r\nL 15.828125 42.96875 \r\nQ 22.265625 47.46875 29.34375 47.46875 \r\nQ 38.71875 47.46875 45.15625 40.96875 \r\nQ 51.609375 34.46875 51.609375 24.265625 \r\nQ 51.609375 14.546875 45.953125 7.46875 \r\nQ 39.0625 -1.21875 27.15625 -1.21875 \r\nQ 17.390625 -1.21875 11.203125 4.25 \r\nQ 5.03125 9.71875 4.15625 18.75 \r\nz\r\n\" id=\"ArialMT-53\"/>\r\n      </defs>\r\n      <g style=\"fill:#262626;\" transform=\"translate(217.422891 242.317687)scale(0.11 -0.11)\">\r\n       <use xlink:href=\"#ArialMT-53\"/>\r\n      </g>\r\n     </g>\r\n    </g>\r\n    <g id=\"xtick_6\">\r\n     <g id=\"line2d_6\">\r\n      <path clip-path=\"url(#p26a607ed66)\" d=\"M 258.526861 224.944093 \r\nL 258.526861 7.504093 \r\n\" style=\"fill:none;stroke:#ffffff;stroke-linecap:round;\"/>\r\n     </g>\r\n     <g id=\"text_6\">\r\n      <!-- 6 -->\r\n      <defs>\r\n       <path d=\"M 49.75 54.046875 \r\nL 41.015625 53.375 \r\nQ 39.84375 58.546875 37.703125 60.890625 \r\nQ 34.125 64.65625 28.90625 64.65625 \r\nQ 24.703125 64.65625 21.53125 62.3125 \r\nQ 17.390625 59.28125 14.984375 53.46875 \r\nQ 12.59375 47.65625 12.5 36.921875 \r\nQ 15.671875 41.75 20.265625 44.09375 \r\nQ 24.859375 46.4375 29.890625 46.4375 \r\nQ 38.671875 46.4375 44.84375 39.96875 \r\nQ 51.03125 33.5 51.03125 23.25 \r\nQ 51.03125 16.5 48.125 10.71875 \r\nQ 45.21875 4.9375 40.140625 1.859375 \r\nQ 35.0625 -1.21875 28.609375 -1.21875 \r\nQ 17.625 -1.21875 10.6875 6.859375 \r\nQ 3.765625 14.9375 3.765625 33.5 \r\nQ 3.765625 54.25 11.421875 63.671875 \r\nQ 18.109375 71.875 29.4375 71.875 \r\nQ 37.890625 71.875 43.28125 67.140625 \r\nQ 48.6875 62.40625 49.75 54.046875 \r\nz\r\nM 13.875 23.1875 \r\nQ 13.875 18.65625 15.796875 14.5 \r\nQ 17.71875 10.359375 21.1875 8.171875 \r\nQ 24.65625 6 28.46875 6 \r\nQ 34.03125 6 38.03125 10.484375 \r\nQ 42.046875 14.984375 42.046875 22.703125 \r\nQ 42.046875 30.125 38.078125 34.390625 \r\nQ 34.125 38.671875 28.125 38.671875 \r\nQ 22.171875 38.671875 18.015625 34.390625 \r\nQ 13.875 30.125 13.875 23.1875 \r\nz\r\n\" id=\"ArialMT-54\"/>\r\n      </defs>\r\n      <g style=\"fill:#262626;\" transform=\"translate(255.468345 242.317687)scale(0.11 -0.11)\">\r\n       <use xlink:href=\"#ArialMT-54\"/>\r\n      </g>\r\n     </g>\r\n    </g>\r\n    <g id=\"xtick_7\">\r\n     <g id=\"line2d_7\">\r\n      <path clip-path=\"url(#p26a607ed66)\" d=\"M 296.572315 224.944093 \r\nL 296.572315 7.504093 \r\n\" style=\"fill:none;stroke:#ffffff;stroke-linecap:round;\"/>\r\n     </g>\r\n     <g id=\"text_7\">\r\n      <!-- 7 -->\r\n      <defs>\r\n       <path d=\"M 4.734375 62.203125 \r\nL 4.734375 70.65625 \r\nL 51.078125 70.65625 \r\nL 51.078125 63.8125 \r\nQ 44.234375 56.546875 37.515625 44.484375 \r\nQ 30.8125 32.421875 27.15625 19.671875 \r\nQ 24.515625 10.6875 23.78125 0 \r\nL 14.75 0 \r\nQ 14.890625 8.453125 18.0625 20.40625 \r\nQ 21.234375 32.375 27.171875 43.484375 \r\nQ 33.109375 54.59375 39.796875 62.203125 \r\nz\r\n\" id=\"ArialMT-55\"/>\r\n      </defs>\r\n      <g style=\"fill:#262626;\" transform=\"translate(293.5138 242.317687)scale(0.11 -0.11)\">\r\n       <use xlink:href=\"#ArialMT-55\"/>\r\n      </g>\r\n     </g>\r\n    </g>\r\n    <g id=\"xtick_8\">\r\n     <g id=\"line2d_8\">\r\n      <path clip-path=\"url(#p26a607ed66)\" d=\"M 334.61777 224.944093 \r\nL 334.61777 7.504093 \r\n\" style=\"fill:none;stroke:#ffffff;stroke-linecap:round;\"/>\r\n     </g>\r\n     <g id=\"text_8\">\r\n      <!-- 8 -->\r\n      <defs>\r\n       <path d=\"M 17.671875 38.8125 \r\nQ 12.203125 40.828125 9.5625 44.53125 \r\nQ 6.9375 48.25 6.9375 53.421875 \r\nQ 6.9375 61.234375 12.546875 66.546875 \r\nQ 18.171875 71.875 27.484375 71.875 \r\nQ 36.859375 71.875 42.578125 66.421875 \r\nQ 48.296875 60.984375 48.296875 53.171875 \r\nQ 48.296875 48.1875 45.671875 44.5 \r\nQ 43.0625 40.828125 37.75 38.8125 \r\nQ 44.34375 36.671875 47.78125 31.875 \r\nQ 51.21875 27.09375 51.21875 20.453125 \r\nQ 51.21875 11.28125 44.71875 5.03125 \r\nQ 38.234375 -1.21875 27.640625 -1.21875 \r\nQ 17.046875 -1.21875 10.546875 5.046875 \r\nQ 4.046875 11.328125 4.046875 20.703125 \r\nQ 4.046875 27.6875 7.59375 32.390625 \r\nQ 11.140625 37.109375 17.671875 38.8125 \r\nz\r\nM 15.921875 53.71875 \r\nQ 15.921875 48.640625 19.1875 45.40625 \r\nQ 22.46875 42.1875 27.6875 42.1875 \r\nQ 32.765625 42.1875 36.015625 45.375 \r\nQ 39.265625 48.578125 39.265625 53.21875 \r\nQ 39.265625 58.0625 35.90625 61.359375 \r\nQ 32.5625 64.65625 27.59375 64.65625 \r\nQ 22.5625 64.65625 19.234375 61.421875 \r\nQ 15.921875 58.203125 15.921875 53.71875 \r\nz\r\nM 13.09375 20.65625 \r\nQ 13.09375 16.890625 14.875 13.375 \r\nQ 16.65625 9.859375 20.171875 7.921875 \r\nQ 23.6875 6 27.734375 6 \r\nQ 34.03125 6 38.125 10.046875 \r\nQ 42.234375 14.109375 42.234375 20.359375 \r\nQ 42.234375 26.703125 38.015625 30.859375 \r\nQ 33.796875 35.015625 27.4375 35.015625 \r\nQ 21.234375 35.015625 17.15625 30.90625 \r\nQ 13.09375 26.8125 13.09375 20.65625 \r\nz\r\n\" id=\"ArialMT-56\"/>\r\n      </defs>\r\n      <g style=\"fill:#262626;\" transform=\"translate(331.559254 242.317687)scale(0.11 -0.11)\">\r\n       <use xlink:href=\"#ArialMT-56\"/>\r\n      </g>\r\n     </g>\r\n    </g>\r\n    <g id=\"xtick_9\">\r\n     <g id=\"line2d_9\">\r\n      <path clip-path=\"url(#p26a607ed66)\" d=\"M 372.663224 224.944093 \r\nL 372.663224 7.504093 \r\n\" style=\"fill:none;stroke:#ffffff;stroke-linecap:round;\"/>\r\n     </g>\r\n     <g id=\"text_9\">\r\n      <!-- 9 -->\r\n      <defs>\r\n       <path d=\"M 5.46875 16.546875 \r\nL 13.921875 17.328125 \r\nQ 14.984375 11.375 18.015625 8.6875 \r\nQ 21.046875 6 25.78125 6 \r\nQ 29.828125 6 32.875 7.859375 \r\nQ 35.9375 9.71875 37.890625 12.8125 \r\nQ 39.84375 15.921875 41.15625 21.1875 \r\nQ 42.484375 26.46875 42.484375 31.9375 \r\nQ 42.484375 32.515625 42.4375 33.6875 \r\nQ 39.796875 29.5 35.234375 26.875 \r\nQ 30.671875 24.265625 25.34375 24.265625 \r\nQ 16.453125 24.265625 10.296875 30.703125 \r\nQ 4.15625 37.15625 4.15625 47.703125 \r\nQ 4.15625 58.59375 10.578125 65.234375 \r\nQ 17 71.875 26.65625 71.875 \r\nQ 33.640625 71.875 39.421875 68.109375 \r\nQ 45.21875 64.359375 48.21875 57.390625 \r\nQ 51.21875 50.4375 51.21875 37.25 \r\nQ 51.21875 23.53125 48.234375 15.40625 \r\nQ 45.265625 7.28125 39.375 3.03125 \r\nQ 33.5 -1.21875 25.59375 -1.21875 \r\nQ 17.1875 -1.21875 11.859375 3.4375 \r\nQ 6.546875 8.109375 5.46875 16.546875 \r\nz\r\nM 41.453125 48.140625 \r\nQ 41.453125 55.71875 37.421875 60.15625 \r\nQ 33.40625 64.59375 27.734375 64.59375 \r\nQ 21.875 64.59375 17.53125 59.8125 \r\nQ 13.1875 55.03125 13.1875 47.40625 \r\nQ 13.1875 40.578125 17.3125 36.296875 \r\nQ 21.4375 32.03125 27.484375 32.03125 \r\nQ 33.59375 32.03125 37.515625 36.296875 \r\nQ 41.453125 40.578125 41.453125 48.140625 \r\nz\r\n\" id=\"ArialMT-57\"/>\r\n      </defs>\r\n      <g style=\"fill:#262626;\" transform=\"translate(369.604709 242.317687)scale(0.11 -0.11)\">\r\n       <use xlink:href=\"#ArialMT-57\"/>\r\n      </g>\r\n     </g>\r\n    </g>\r\n    <g id=\"text_10\">\r\n     <!-- Model order -->\r\n     <defs>\r\n      <path d=\"M 7.421875 0 \r\nL 7.421875 71.578125 \r\nL 21.6875 71.578125 \r\nL 38.625 20.90625 \r\nQ 40.96875 13.8125 42.046875 10.296875 \r\nQ 43.265625 14.203125 45.84375 21.78125 \r\nL 62.984375 71.578125 \r\nL 75.734375 71.578125 \r\nL 75.734375 0 \r\nL 66.609375 0 \r\nL 66.609375 59.90625 \r\nL 45.796875 0 \r\nL 37.25 0 \r\nL 16.546875 60.9375 \r\nL 16.546875 0 \r\nz\r\n\" id=\"ArialMT-77\"/>\r\n      <path d=\"M 3.328125 25.921875 \r\nQ 3.328125 40.328125 11.328125 47.265625 \r\nQ 18.015625 53.03125 27.640625 53.03125 \r\nQ 38.328125 53.03125 45.109375 46.015625 \r\nQ 51.90625 39.015625 51.90625 26.65625 \r\nQ 51.90625 16.65625 48.90625 10.90625 \r\nQ 45.90625 5.171875 40.15625 2 \r\nQ 34.421875 -1.171875 27.640625 -1.171875 \r\nQ 16.75 -1.171875 10.03125 5.8125 \r\nQ 3.328125 12.796875 3.328125 25.921875 \r\nz\r\nM 12.359375 25.921875 \r\nQ 12.359375 15.96875 16.703125 11.015625 \r\nQ 21.046875 6.0625 27.640625 6.0625 \r\nQ 34.1875 6.0625 38.53125 11.03125 \r\nQ 42.875 16.015625 42.875 26.21875 \r\nQ 42.875 35.84375 38.5 40.796875 \r\nQ 34.125 45.75 27.640625 45.75 \r\nQ 21.046875 45.75 16.703125 40.8125 \r\nQ 12.359375 35.890625 12.359375 25.921875 \r\nz\r\n\" id=\"ArialMT-111\"/>\r\n      <path d=\"M 40.234375 0 \r\nL 40.234375 6.546875 \r\nQ 35.296875 -1.171875 25.734375 -1.171875 \r\nQ 19.53125 -1.171875 14.328125 2.25 \r\nQ 9.125 5.671875 6.265625 11.796875 \r\nQ 3.421875 17.921875 3.421875 25.875 \r\nQ 3.421875 33.640625 6 39.96875 \r\nQ 8.59375 46.296875 13.765625 49.65625 \r\nQ 18.953125 53.03125 25.34375 53.03125 \r\nQ 30.03125 53.03125 33.6875 51.046875 \r\nQ 37.359375 49.078125 39.65625 45.90625 \r\nL 39.65625 71.578125 \r\nL 48.390625 71.578125 \r\nL 48.390625 0 \r\nz\r\nM 12.453125 25.875 \r\nQ 12.453125 15.921875 16.640625 10.984375 \r\nQ 20.84375 6.0625 26.5625 6.0625 \r\nQ 32.328125 6.0625 36.34375 10.765625 \r\nQ 40.375 15.484375 40.375 25.140625 \r\nQ 40.375 35.796875 36.265625 40.765625 \r\nQ 32.171875 45.75 26.171875 45.75 \r\nQ 20.3125 45.75 16.375 40.96875 \r\nQ 12.453125 36.1875 12.453125 25.875 \r\nz\r\n\" id=\"ArialMT-100\"/>\r\n      <path d=\"M 42.09375 16.703125 \r\nL 51.171875 15.578125 \r\nQ 49.03125 7.625 43.21875 3.21875 \r\nQ 37.40625 -1.171875 28.375 -1.171875 \r\nQ 17 -1.171875 10.328125 5.828125 \r\nQ 3.65625 12.84375 3.65625 25.484375 \r\nQ 3.65625 38.578125 10.390625 45.796875 \r\nQ 17.140625 53.03125 27.875 53.03125 \r\nQ 38.28125 53.03125 44.875 45.953125 \r\nQ 51.46875 38.875 51.46875 26.03125 \r\nQ 51.46875 25.25 51.421875 23.6875 \r\nL 12.75 23.6875 \r\nQ 13.234375 15.140625 17.578125 10.59375 \r\nQ 21.921875 6.0625 28.421875 6.0625 \r\nQ 33.25 6.0625 36.671875 8.59375 \r\nQ 40.09375 11.140625 42.09375 16.703125 \r\nz\r\nM 13.234375 30.90625 \r\nL 42.1875 30.90625 \r\nQ 41.609375 37.453125 38.875 40.71875 \r\nQ 34.671875 45.796875 27.984375 45.796875 \r\nQ 21.921875 45.796875 17.796875 41.75 \r\nQ 13.671875 37.703125 13.234375 30.90625 \r\nz\r\n\" id=\"ArialMT-101\"/>\r\n      <path d=\"M 6.390625 0 \r\nL 6.390625 71.578125 \r\nL 15.1875 71.578125 \r\nL 15.1875 0 \r\nz\r\n\" id=\"ArialMT-108\"/>\r\n      <path id=\"ArialMT-32\"/>\r\n      <path d=\"M 6.5 0 \r\nL 6.5 51.859375 \r\nL 14.40625 51.859375 \r\nL 14.40625 44 \r\nQ 17.4375 49.515625 20 51.265625 \r\nQ 22.5625 53.03125 25.640625 53.03125 \r\nQ 30.078125 53.03125 34.671875 50.203125 \r\nL 31.640625 42.046875 \r\nQ 28.421875 43.953125 25.203125 43.953125 \r\nQ 22.3125 43.953125 20.015625 42.21875 \r\nQ 17.71875 40.484375 16.75 37.40625 \r\nQ 15.28125 32.71875 15.28125 27.15625 \r\nL 15.28125 0 \r\nz\r\n\" id=\"ArialMT-114\"/>\r\n     </defs>\r\n     <g style=\"fill:#262626;\" transform=\"translate(188.468594 257.093312)scale(0.12 -0.12)\">\r\n      <use xlink:href=\"#ArialMT-77\"/>\r\n      <use x=\"83.300781\" xlink:href=\"#ArialMT-111\"/>\r\n      <use x=\"138.916016\" xlink:href=\"#ArialMT-100\"/>\r\n      <use x=\"194.53125\" xlink:href=\"#ArialMT-101\"/>\r\n      <use x=\"250.146484\" xlink:href=\"#ArialMT-108\"/>\r\n      <use x=\"272.363281\" xlink:href=\"#ArialMT-32\"/>\r\n      <use x=\"300.146484\" xlink:href=\"#ArialMT-111\"/>\r\n      <use x=\"355.761719\" xlink:href=\"#ArialMT-114\"/>\r\n      <use x=\"389.0625\" xlink:href=\"#ArialMT-100\"/>\r\n      <use x=\"444.677734\" xlink:href=\"#ArialMT-101\"/>\r\n      <use x=\"500.292969\" xlink:href=\"#ArialMT-114\"/>\r\n     </g>\r\n    </g>\r\n   </g>\r\n   <g id=\"matplotlib.axis_2\">\r\n    <g id=\"ytick_1\">\r\n     <g id=\"line2d_10\">\r\n      <path clip-path=\"url(#p26a607ed66)\" d=\"M 53.081406 203.997942 \r\nL 387.881406 203.997942 \r\n\" style=\"fill:none;stroke:#ffffff;stroke-linecap:round;\"/>\r\n     </g>\r\n     <g id=\"text_11\">\r\n      <!-- 0.27 -->\r\n      <defs>\r\n       <path d=\"M 4.15625 35.296875 \r\nQ 4.15625 48 6.765625 55.734375 \r\nQ 9.375 63.484375 14.515625 67.671875 \r\nQ 19.671875 71.875 27.484375 71.875 \r\nQ 33.25 71.875 37.59375 69.546875 \r\nQ 41.9375 67.234375 44.765625 62.859375 \r\nQ 47.609375 58.5 49.21875 52.21875 \r\nQ 50.828125 45.953125 50.828125 35.296875 \r\nQ 50.828125 22.703125 48.234375 14.96875 \r\nQ 45.65625 7.234375 40.5 3 \r\nQ 35.359375 -1.21875 27.484375 -1.21875 \r\nQ 17.140625 -1.21875 11.234375 6.203125 \r\nQ 4.15625 15.140625 4.15625 35.296875 \r\nz\r\nM 13.1875 35.296875 \r\nQ 13.1875 17.671875 17.3125 11.828125 \r\nQ 21.4375 6 27.484375 6 \r\nQ 33.546875 6 37.671875 11.859375 \r\nQ 41.796875 17.71875 41.796875 35.296875 \r\nQ 41.796875 52.984375 37.671875 58.78125 \r\nQ 33.546875 64.59375 27.390625 64.59375 \r\nQ 21.34375 64.59375 17.71875 59.46875 \r\nQ 13.1875 52.9375 13.1875 35.296875 \r\nz\r\n\" id=\"ArialMT-48\"/>\r\n       <path d=\"M 9.078125 0 \r\nL 9.078125 10.015625 \r\nL 19.09375 10.015625 \r\nL 19.09375 0 \r\nz\r\n\" id=\"ArialMT-46\"/>\r\n      </defs>\r\n      <g style=\"fill:#262626;\" transform=\"translate(22.174375 207.934738)scale(0.11 -0.11)\">\r\n       <use xlink:href=\"#ArialMT-48\"/>\r\n       <use x=\"55.615234\" xlink:href=\"#ArialMT-46\"/>\r\n       <use x=\"83.398438\" xlink:href=\"#ArialMT-50\"/>\r\n       <use x=\"139.013672\" xlink:href=\"#ArialMT-55\"/>\r\n      </g>\r\n     </g>\r\n    </g>\r\n    <g id=\"ytick_2\">\r\n     <g id=\"line2d_11\">\r\n      <path clip-path=\"url(#p26a607ed66)\" d=\"M 53.081406 176.446349 \r\nL 387.881406 176.446349 \r\n\" style=\"fill:none;stroke:#ffffff;stroke-linecap:round;\"/>\r\n     </g>\r\n     <g id=\"text_12\">\r\n      <!-- 0.28 -->\r\n      <g style=\"fill:#262626;\" transform=\"translate(22.174375 180.383146)scale(0.11 -0.11)\">\r\n       <use xlink:href=\"#ArialMT-48\"/>\r\n       <use x=\"55.615234\" xlink:href=\"#ArialMT-46\"/>\r\n       <use x=\"83.398438\" xlink:href=\"#ArialMT-50\"/>\r\n       <use x=\"139.013672\" xlink:href=\"#ArialMT-56\"/>\r\n      </g>\r\n     </g>\r\n    </g>\r\n    <g id=\"ytick_3\">\r\n     <g id=\"line2d_12\">\r\n      <path clip-path=\"url(#p26a607ed66)\" d=\"M 53.081406 148.894757 \r\nL 387.881406 148.894757 \r\n\" style=\"fill:none;stroke:#ffffff;stroke-linecap:round;\"/>\r\n     </g>\r\n     <g id=\"text_13\">\r\n      <!-- 0.29 -->\r\n      <g style=\"fill:#262626;\" transform=\"translate(22.174375 152.831554)scale(0.11 -0.11)\">\r\n       <use xlink:href=\"#ArialMT-48\"/>\r\n       <use x=\"55.615234\" xlink:href=\"#ArialMT-46\"/>\r\n       <use x=\"83.398438\" xlink:href=\"#ArialMT-50\"/>\r\n       <use x=\"139.013672\" xlink:href=\"#ArialMT-57\"/>\r\n      </g>\r\n     </g>\r\n    </g>\r\n    <g id=\"ytick_4\">\r\n     <g id=\"line2d_13\">\r\n      <path clip-path=\"url(#p26a607ed66)\" d=\"M 53.081406 121.343165 \r\nL 387.881406 121.343165 \r\n\" style=\"fill:none;stroke:#ffffff;stroke-linecap:round;\"/>\r\n     </g>\r\n     <g id=\"text_14\">\r\n      <!-- 0.30 -->\r\n      <g style=\"fill:#262626;\" transform=\"translate(22.174375 125.279962)scale(0.11 -0.11)\">\r\n       <use xlink:href=\"#ArialMT-48\"/>\r\n       <use x=\"55.615234\" xlink:href=\"#ArialMT-46\"/>\r\n       <use x=\"83.398438\" xlink:href=\"#ArialMT-51\"/>\r\n       <use x=\"139.013672\" xlink:href=\"#ArialMT-48\"/>\r\n      </g>\r\n     </g>\r\n    </g>\r\n    <g id=\"ytick_5\">\r\n     <g id=\"line2d_14\">\r\n      <path clip-path=\"url(#p26a607ed66)\" d=\"M 53.081406 93.791573 \r\nL 387.881406 93.791573 \r\n\" style=\"fill:none;stroke:#ffffff;stroke-linecap:round;\"/>\r\n     </g>\r\n     <g id=\"text_15\">\r\n      <!-- 0.31 -->\r\n      <g style=\"fill:#262626;\" transform=\"translate(22.174375 97.72837)scale(0.11 -0.11)\">\r\n       <use xlink:href=\"#ArialMT-48\"/>\r\n       <use x=\"55.615234\" xlink:href=\"#ArialMT-46\"/>\r\n       <use x=\"83.398438\" xlink:href=\"#ArialMT-51\"/>\r\n       <use x=\"139.013672\" xlink:href=\"#ArialMT-49\"/>\r\n      </g>\r\n     </g>\r\n    </g>\r\n    <g id=\"ytick_6\">\r\n     <g id=\"line2d_15\">\r\n      <path clip-path=\"url(#p26a607ed66)\" d=\"M 53.081406 66.239981 \r\nL 387.881406 66.239981 \r\n\" style=\"fill:none;stroke:#ffffff;stroke-linecap:round;\"/>\r\n     </g>\r\n     <g id=\"text_16\">\r\n      <!-- 0.32 -->\r\n      <g style=\"fill:#262626;\" transform=\"translate(22.174375 70.176778)scale(0.11 -0.11)\">\r\n       <use xlink:href=\"#ArialMT-48\"/>\r\n       <use x=\"55.615234\" xlink:href=\"#ArialMT-46\"/>\r\n       <use x=\"83.398438\" xlink:href=\"#ArialMT-51\"/>\r\n       <use x=\"139.013672\" xlink:href=\"#ArialMT-50\"/>\r\n      </g>\r\n     </g>\r\n    </g>\r\n    <g id=\"ytick_7\">\r\n     <g id=\"line2d_16\">\r\n      <path clip-path=\"url(#p26a607ed66)\" d=\"M 53.081406 38.688389 \r\nL 387.881406 38.688389 \r\n\" style=\"fill:none;stroke:#ffffff;stroke-linecap:round;\"/>\r\n     </g>\r\n     <g id=\"text_17\">\r\n      <!-- 0.33 -->\r\n      <g style=\"fill:#262626;\" transform=\"translate(22.174375 42.625186)scale(0.11 -0.11)\">\r\n       <use xlink:href=\"#ArialMT-48\"/>\r\n       <use x=\"55.615234\" xlink:href=\"#ArialMT-46\"/>\r\n       <use x=\"83.398438\" xlink:href=\"#ArialMT-51\"/>\r\n       <use x=\"139.013672\" xlink:href=\"#ArialMT-51\"/>\r\n      </g>\r\n     </g>\r\n    </g>\r\n    <g id=\"ytick_8\">\r\n     <g id=\"line2d_17\">\r\n      <path clip-path=\"url(#p26a607ed66)\" d=\"M 53.081406 11.136797 \r\nL 387.881406 11.136797 \r\n\" style=\"fill:none;stroke:#ffffff;stroke-linecap:round;\"/>\r\n     </g>\r\n     <g id=\"text_18\">\r\n      <!-- 0.34 -->\r\n      <g style=\"fill:#262626;\" transform=\"translate(22.174375 15.073594)scale(0.11 -0.11)\">\r\n       <use xlink:href=\"#ArialMT-48\"/>\r\n       <use x=\"55.615234\" xlink:href=\"#ArialMT-46\"/>\r\n       <use x=\"83.398438\" xlink:href=\"#ArialMT-51\"/>\r\n       <use x=\"139.013672\" xlink:href=\"#ArialMT-52\"/>\r\n      </g>\r\n     </g>\r\n    </g>\r\n    <g id=\"text_19\">\r\n     <!-- K-fold MSE -->\r\n     <defs>\r\n      <path d=\"M 7.328125 0 \r\nL 7.328125 71.578125 \r\nL 16.796875 71.578125 \r\nL 16.796875 36.078125 \r\nL 52.34375 71.578125 \r\nL 65.1875 71.578125 \r\nL 35.15625 42.578125 \r\nL 66.5 0 \r\nL 54 0 \r\nL 28.515625 36.234375 \r\nL 16.796875 24.8125 \r\nL 16.796875 0 \r\nz\r\n\" id=\"ArialMT-75\"/>\r\n      <path d=\"M 3.171875 21.484375 \r\nL 3.171875 30.328125 \r\nL 30.171875 30.328125 \r\nL 30.171875 21.484375 \r\nz\r\n\" id=\"ArialMT-45\"/>\r\n      <path d=\"M 8.6875 0 \r\nL 8.6875 45.015625 \r\nL 0.921875 45.015625 \r\nL 0.921875 51.859375 \r\nL 8.6875 51.859375 \r\nL 8.6875 57.375 \r\nQ 8.6875 62.59375 9.625 65.140625 \r\nQ 10.890625 68.5625 14.078125 70.671875 \r\nQ 17.28125 72.796875 23.046875 72.796875 \r\nQ 26.765625 72.796875 31.25 71.921875 \r\nL 29.9375 64.265625 \r\nQ 27.203125 64.75 24.75 64.75 \r\nQ 20.75 64.75 19.09375 63.03125 \r\nQ 17.4375 61.328125 17.4375 56.640625 \r\nL 17.4375 51.859375 \r\nL 27.546875 51.859375 \r\nL 27.546875 45.015625 \r\nL 17.4375 45.015625 \r\nL 17.4375 0 \r\nz\r\n\" id=\"ArialMT-102\"/>\r\n      <path d=\"M 4.5 23 \r\nL 13.421875 23.78125 \r\nQ 14.0625 18.40625 16.375 14.96875 \r\nQ 18.703125 11.53125 23.578125 9.40625 \r\nQ 28.46875 7.28125 34.578125 7.28125 \r\nQ 39.984375 7.28125 44.140625 8.890625 \r\nQ 48.296875 10.5 50.3125 13.296875 \r\nQ 52.34375 16.109375 52.34375 19.4375 \r\nQ 52.34375 22.796875 50.390625 25.3125 \r\nQ 48.4375 27.828125 43.953125 29.546875 \r\nQ 41.0625 30.671875 31.203125 33.03125 \r\nQ 21.34375 35.40625 17.390625 37.5 \r\nQ 12.25 40.1875 9.734375 44.15625 \r\nQ 7.234375 48.140625 7.234375 53.078125 \r\nQ 7.234375 58.5 10.296875 63.203125 \r\nQ 13.375 67.921875 19.28125 70.359375 \r\nQ 25.203125 72.796875 32.421875 72.796875 \r\nQ 40.375 72.796875 46.453125 70.234375 \r\nQ 52.546875 67.671875 55.8125 62.6875 \r\nQ 59.078125 57.71875 59.328125 51.421875 \r\nL 50.25 50.734375 \r\nQ 49.515625 57.515625 45.28125 60.984375 \r\nQ 41.0625 64.453125 32.8125 64.453125 \r\nQ 24.21875 64.453125 20.28125 61.296875 \r\nQ 16.359375 58.15625 16.359375 53.71875 \r\nQ 16.359375 49.859375 19.140625 47.359375 \r\nQ 21.875 44.875 33.421875 42.265625 \r\nQ 44.96875 39.65625 49.265625 37.703125 \r\nQ 55.515625 34.8125 58.484375 30.390625 \r\nQ 61.46875 25.984375 61.46875 20.21875 \r\nQ 61.46875 14.5 58.203125 9.4375 \r\nQ 54.9375 4.390625 48.796875 1.578125 \r\nQ 42.671875 -1.21875 35.015625 -1.21875 \r\nQ 25.296875 -1.21875 18.71875 1.609375 \r\nQ 12.15625 4.4375 8.421875 10.125 \r\nQ 4.6875 15.828125 4.5 23 \r\nz\r\n\" id=\"ArialMT-83\"/>\r\n      <path d=\"M 7.90625 0 \r\nL 7.90625 71.578125 \r\nL 59.671875 71.578125 \r\nL 59.671875 63.140625 \r\nL 17.390625 63.140625 \r\nL 17.390625 41.21875 \r\nL 56.984375 41.21875 \r\nL 56.984375 32.8125 \r\nL 17.390625 32.8125 \r\nL 17.390625 8.453125 \r\nL 61.328125 8.453125 \r\nL 61.328125 0 \r\nz\r\n\" id=\"ArialMT-69\"/>\r\n     </defs>\r\n     <g style=\"fill:#262626;\" transform=\"translate(15.789375 146.566281)rotate(-90)scale(0.12 -0.12)\">\r\n      <use xlink:href=\"#ArialMT-75\"/>\r\n      <use x=\"66.699219\" xlink:href=\"#ArialMT-45\"/>\r\n      <use x=\"100\" xlink:href=\"#ArialMT-102\"/>\r\n      <use x=\"127.783203\" xlink:href=\"#ArialMT-111\"/>\r\n      <use x=\"183.398438\" xlink:href=\"#ArialMT-108\"/>\r\n      <use x=\"205.615234\" xlink:href=\"#ArialMT-100\"/>\r\n      <use x=\"261.230469\" xlink:href=\"#ArialMT-32\"/>\r\n      <use x=\"289.013672\" xlink:href=\"#ArialMT-77\"/>\r\n      <use x=\"372.314453\" xlink:href=\"#ArialMT-83\"/>\r\n      <use x=\"439.013672\" xlink:href=\"#ArialMT-69\"/>\r\n     </g>\r\n    </g>\r\n   </g>\r\n   <g id=\"line2d_18\">\r\n    <path clip-path=\"url(#p26a607ed66)\" d=\"M 68.299588 19.770756 \r\nL 106.345043 17.38773 \r\nL 144.390497 210.598927 \r\nL 182.435952 215.060457 \r\nL 220.481406 211.624505 \r\nL 258.526861 209.451249 \r\nL 296.572315 208.383369 \r\nL 334.61777 205.360964 \r\nL 372.663224 214.730435 \r\n\" style=\"fill:none;stroke:#4c72b0;stroke-linecap:round;stroke-width:1.5;\"/>\r\n    <defs>\r\n     <path d=\"M 0 3 \r\nC 0.795609 3 1.55874 2.683901 2.12132 2.12132 \r\nC 2.683901 1.55874 3 0.795609 3 0 \r\nC 3 -0.795609 2.683901 -1.55874 2.12132 -2.12132 \r\nC 1.55874 -2.683901 0.795609 -3 0 -3 \r\nC -0.795609 -3 -1.55874 -2.683901 -2.12132 -2.12132 \r\nC -2.683901 -1.55874 -3 -0.795609 -3 0 \r\nC -3 0.795609 -2.683901 1.55874 -2.12132 2.12132 \r\nC -1.55874 2.683901 -0.795609 3 0 3 \r\nz\r\n\" id=\"m060bb3c93a\" style=\"stroke:#ffffff;stroke-width:0.75;\"/>\r\n    </defs>\r\n    <g clip-path=\"url(#p26a607ed66)\">\r\n     <use style=\"fill:#4c72b0;stroke:#ffffff;stroke-width:0.75;\" x=\"68.299588\" xlink:href=\"#m060bb3c93a\" y=\"19.770756\"/>\r\n     <use style=\"fill:#4c72b0;stroke:#ffffff;stroke-width:0.75;\" x=\"106.345043\" xlink:href=\"#m060bb3c93a\" y=\"17.38773\"/>\r\n     <use style=\"fill:#4c72b0;stroke:#ffffff;stroke-width:0.75;\" x=\"144.390497\" xlink:href=\"#m060bb3c93a\" y=\"210.598927\"/>\r\n     <use style=\"fill:#4c72b0;stroke:#ffffff;stroke-width:0.75;\" x=\"182.435952\" xlink:href=\"#m060bb3c93a\" y=\"215.060457\"/>\r\n     <use style=\"fill:#4c72b0;stroke:#ffffff;stroke-width:0.75;\" x=\"220.481406\" xlink:href=\"#m060bb3c93a\" y=\"211.624505\"/>\r\n     <use style=\"fill:#4c72b0;stroke:#ffffff;stroke-width:0.75;\" x=\"258.526861\" xlink:href=\"#m060bb3c93a\" y=\"209.451249\"/>\r\n     <use style=\"fill:#4c72b0;stroke:#ffffff;stroke-width:0.75;\" x=\"296.572315\" xlink:href=\"#m060bb3c93a\" y=\"208.383369\"/>\r\n     <use style=\"fill:#4c72b0;stroke:#ffffff;stroke-width:0.75;\" x=\"334.61777\" xlink:href=\"#m060bb3c93a\" y=\"205.360964\"/>\r\n     <use style=\"fill:#4c72b0;stroke:#ffffff;stroke-width:0.75;\" x=\"372.663224\" xlink:href=\"#m060bb3c93a\" y=\"214.730435\"/>\r\n    </g>\r\n   </g>\r\n   <g id=\"patch_3\">\r\n    <path d=\"M 53.081406 224.944093 \r\nL 53.081406 7.504093 \r\n\" style=\"fill:none;stroke:#ffffff;stroke-linecap:square;stroke-linejoin:miter;stroke-width:1.25;\"/>\r\n   </g>\r\n   <g id=\"patch_4\">\r\n    <path d=\"M 387.881406 224.944093 \r\nL 387.881406 7.504093 \r\n\" style=\"fill:none;stroke:#ffffff;stroke-linecap:square;stroke-linejoin:miter;stroke-width:1.25;\"/>\r\n   </g>\r\n   <g id=\"patch_5\">\r\n    <path d=\"M 53.081406 224.944093 \r\nL 387.881406 224.944093 \r\n\" style=\"fill:none;stroke:#ffffff;stroke-linecap:square;stroke-linejoin:miter;stroke-width:1.25;\"/>\r\n   </g>\r\n   <g id=\"patch_6\">\r\n    <path d=\"M 53.081406 7.504093 \r\nL 387.881406 7.504093 \r\n\" style=\"fill:none;stroke:#ffffff;stroke-linecap:square;stroke-linejoin:miter;stroke-width:1.25;\"/>\r\n   </g>\r\n  </g>\r\n </g>\r\n <defs>\r\n  <clipPath id=\"p26a607ed66\">\r\n   <rect height=\"217.44\" width=\"334.8\" x=\"53.081406\" y=\"7.504093\"/>\r\n  </clipPath>\r\n </defs>\r\n</svg>\r\n",
            "image/png": "[encoded data removed]"
          },
          "metadata": {}
        }
      ]
    },
    {
      "cell_type": "markdown",
      "metadata": {
        "id": "UIKKUNb4lw0O"
      },
      "source": [
        "Let’s see which model order gave us the lowest MSE on the validation\n",
        "data:"
      ],
      "id": "UIKKUNb4lw0O"
    },
    {
      "cell_type": "code",
      "metadata": {
        "id": "7lp4p4Z2lw0O"
      },
      "source": [
        "idx_min = np.argmin(mse_val.mean(axis=1))\n",
        "d_min_mse = dtest_list[idx_min]\n",
        "d_min_mse"
      ],
      "id": "7lp4p4Z2lw0O",
      "execution_count": 13,
      "outputs": [
        {
          "output_type": "execute_result",
          "data": {
            "text/plain": [
              "4"
            ]
          },
          "metadata": {},
          "execution_count": 13
        }
      ]
    },
    {
      "cell_type": "code",
      "metadata": {
        "id": "uQlzgwVplw0P"
      },
      "source": [
        "sns.lineplot(x=dtest_list, y=mse_val.mean(axis=1))\n",
        "sns.scatterplot(x=dtest_list, y=mse_val.mean(axis=1), hue=dtest_list==d_min_mse, s=100, legend=False)\n",
        "\n",
        "plt.xlabel(\"Model order\")\n",
        "plt.ylabel(\"K-fold MSE\")"
      ],
      "id": "uQlzgwVplw0P",
      "execution_count": 14,
      "outputs": [
        {
          "output_type": "display_data",
          "data": {
            "text/plain": "<Figure size 432x288 with 1 Axes>",
            "image/svg+xml": "<?xml version=\"1.0\" encoding=\"utf-8\" standalone=\"no\"?>\r\n<!DOCTYPE svg PUBLIC \"-//W3C//DTD SVG 1.1//EN\"\r\n  \"http://www.w3.org/Graphics/SVG/1.1/DTD/svg11.dtd\">\r\n<!-- Created with matplotlib (https://matplotlib.org/) -->\r\n<svg height=\"266.374219pt\" version=\"1.1\" viewBox=\"0 0 395.081406 266.374219\" width=\"395.081406pt\" xmlns=\"http://www.w3.org/2000/svg\" xmlns:xlink=\"http://www.w3.org/1999/xlink\">\r\n <defs>\r\n  <style type=\"text/css\">\r\n*{stroke-linecap:butt;stroke-linejoin:round;}\r\n  </style>\r\n </defs>\r\n <g id=\"figure_1\">\r\n  <g id=\"patch_1\">\r\n   <path d=\"M -0 266.374219 \r\nL 395.081406 266.374219 \r\nL 395.081406 0 \r\nL -0 0 \r\nz\r\n\" style=\"fill:#ffffff;\"/>\r\n  </g>\r\n  <g id=\"axes_1\">\r\n   <g id=\"patch_2\">\r\n    <path d=\"M 53.081406 224.64 \r\nL 387.881406 224.64 \r\nL 387.881406 7.2 \r\nL 53.081406 7.2 \r\nz\r\n\" style=\"fill:#eaeaf2;\"/>\r\n   </g>\r\n   <g id=\"matplotlib.axis_1\">\r\n    <g id=\"xtick_1\">\r\n     <g id=\"line2d_1\">\r\n      <path clip-path=\"url(#p5caddd6b0a)\" d=\"M 109.975754 224.64 \r\nL 109.975754 7.2 \r\n\" style=\"fill:none;stroke:#ffffff;stroke-linecap:round;\"/>\r\n     </g>\r\n     <g id=\"text_1\">\r\n      <!-- 2 -->\r\n      <defs>\r\n       <path d=\"M 50.34375 8.453125 \r\nL 50.34375 0 \r\nL 3.03125 0 \r\nQ 2.9375 3.171875 4.046875 6.109375 \r\nQ 5.859375 10.9375 9.828125 15.625 \r\nQ 13.8125 20.3125 21.34375 26.46875 \r\nQ 33.015625 36.03125 37.109375 41.625 \r\nQ 41.21875 47.21875 41.21875 52.203125 \r\nQ 41.21875 57.421875 37.46875 61 \r\nQ 33.734375 64.59375 27.734375 64.59375 \r\nQ 21.390625 64.59375 17.578125 60.78125 \r\nQ 13.765625 56.984375 13.71875 50.25 \r\nL 4.6875 51.171875 \r\nQ 5.609375 61.28125 11.65625 66.578125 \r\nQ 17.71875 71.875 27.9375 71.875 \r\nQ 38.234375 71.875 44.234375 66.15625 \r\nQ 50.25 60.453125 50.25 52 \r\nQ 50.25 47.703125 48.484375 43.546875 \r\nQ 46.734375 39.40625 42.65625 34.8125 \r\nQ 38.578125 30.21875 29.109375 22.21875 \r\nQ 21.1875 15.578125 18.9375 13.203125 \r\nQ 16.703125 10.84375 15.234375 8.453125 \r\nz\r\n\" id=\"ArialMT-50\"/>\r\n      </defs>\r\n      <g style=\"fill:#262626;\" transform=\"translate(106.917238 242.013594)scale(0.11 -0.11)\">\r\n       <use xlink:href=\"#ArialMT-50\"/>\r\n      </g>\r\n     </g>\r\n    </g>\r\n    <g id=\"xtick_2\">\r\n     <g id=\"line2d_2\">\r\n      <path clip-path=\"url(#p5caddd6b0a)\" d=\"M 183.646189 224.64 \r\nL 183.646189 7.2 \r\n\" style=\"fill:none;stroke:#ffffff;stroke-linecap:round;\"/>\r\n     </g>\r\n     <g id=\"text_2\">\r\n      <!-- 4 -->\r\n      <defs>\r\n       <path d=\"M 32.328125 0 \r\nL 32.328125 17.140625 \r\nL 1.265625 17.140625 \r\nL 1.265625 25.203125 \r\nL 33.9375 71.578125 \r\nL 41.109375 71.578125 \r\nL 41.109375 25.203125 \r\nL 50.78125 25.203125 \r\nL 50.78125 17.140625 \r\nL 41.109375 17.140625 \r\nL 41.109375 0 \r\nz\r\nM 32.328125 25.203125 \r\nL 32.328125 57.46875 \r\nL 9.90625 25.203125 \r\nz\r\n\" id=\"ArialMT-52\"/>\r\n      </defs>\r\n      <g style=\"fill:#262626;\" transform=\"translate(180.587673 242.013594)scale(0.11 -0.11)\">\r\n       <use xlink:href=\"#ArialMT-52\"/>\r\n      </g>\r\n     </g>\r\n    </g>\r\n    <g id=\"xtick_3\">\r\n     <g id=\"line2d_3\">\r\n      <path clip-path=\"url(#p5caddd6b0a)\" d=\"M 257.316624 224.64 \r\nL 257.316624 7.2 \r\n\" style=\"fill:none;stroke:#ffffff;stroke-linecap:round;\"/>\r\n     </g>\r\n     <g id=\"text_3\">\r\n      <!-- 6 -->\r\n      <defs>\r\n       <path d=\"M 49.75 54.046875 \r\nL 41.015625 53.375 \r\nQ 39.84375 58.546875 37.703125 60.890625 \r\nQ 34.125 64.65625 28.90625 64.65625 \r\nQ 24.703125 64.65625 21.53125 62.3125 \r\nQ 17.390625 59.28125 14.984375 53.46875 \r\nQ 12.59375 47.65625 12.5 36.921875 \r\nQ 15.671875 41.75 20.265625 44.09375 \r\nQ 24.859375 46.4375 29.890625 46.4375 \r\nQ 38.671875 46.4375 44.84375 39.96875 \r\nQ 51.03125 33.5 51.03125 23.25 \r\nQ 51.03125 16.5 48.125 10.71875 \r\nQ 45.21875 4.9375 40.140625 1.859375 \r\nQ 35.0625 -1.21875 28.609375 -1.21875 \r\nQ 17.625 -1.21875 10.6875 6.859375 \r\nQ 3.765625 14.9375 3.765625 33.5 \r\nQ 3.765625 54.25 11.421875 63.671875 \r\nQ 18.109375 71.875 29.4375 71.875 \r\nQ 37.890625 71.875 43.28125 67.140625 \r\nQ 48.6875 62.40625 49.75 54.046875 \r\nz\r\nM 13.875 23.1875 \r\nQ 13.875 18.65625 15.796875 14.5 \r\nQ 17.71875 10.359375 21.1875 8.171875 \r\nQ 24.65625 6 28.46875 6 \r\nQ 34.03125 6 38.03125 10.484375 \r\nQ 42.046875 14.984375 42.046875 22.703125 \r\nQ 42.046875 30.125 38.078125 34.390625 \r\nQ 34.125 38.671875 28.125 38.671875 \r\nQ 22.171875 38.671875 18.015625 34.390625 \r\nQ 13.875 30.125 13.875 23.1875 \r\nz\r\n\" id=\"ArialMT-54\"/>\r\n      </defs>\r\n      <g style=\"fill:#262626;\" transform=\"translate(254.258108 242.013594)scale(0.11 -0.11)\">\r\n       <use xlink:href=\"#ArialMT-54\"/>\r\n      </g>\r\n     </g>\r\n    </g>\r\n    <g id=\"xtick_4\">\r\n     <g id=\"line2d_4\">\r\n      <path clip-path=\"url(#p5caddd6b0a)\" d=\"M 330.987058 224.64 \r\nL 330.987058 7.2 \r\n\" style=\"fill:none;stroke:#ffffff;stroke-linecap:round;\"/>\r\n     </g>\r\n     <g id=\"text_4\">\r\n      <!-- 8 -->\r\n      <defs>\r\n       <path d=\"M 17.671875 38.8125 \r\nQ 12.203125 40.828125 9.5625 44.53125 \r\nQ 6.9375 48.25 6.9375 53.421875 \r\nQ 6.9375 61.234375 12.546875 66.546875 \r\nQ 18.171875 71.875 27.484375 71.875 \r\nQ 36.859375 71.875 42.578125 66.421875 \r\nQ 48.296875 60.984375 48.296875 53.171875 \r\nQ 48.296875 48.1875 45.671875 44.5 \r\nQ 43.0625 40.828125 37.75 38.8125 \r\nQ 44.34375 36.671875 47.78125 31.875 \r\nQ 51.21875 27.09375 51.21875 20.453125 \r\nQ 51.21875 11.28125 44.71875 5.03125 \r\nQ 38.234375 -1.21875 27.640625 -1.21875 \r\nQ 17.046875 -1.21875 10.546875 5.046875 \r\nQ 4.046875 11.328125 4.046875 20.703125 \r\nQ 4.046875 27.6875 7.59375 32.390625 \r\nQ 11.140625 37.109375 17.671875 38.8125 \r\nz\r\nM 15.921875 53.71875 \r\nQ 15.921875 48.640625 19.1875 45.40625 \r\nQ 22.46875 42.1875 27.6875 42.1875 \r\nQ 32.765625 42.1875 36.015625 45.375 \r\nQ 39.265625 48.578125 39.265625 53.21875 \r\nQ 39.265625 58.0625 35.90625 61.359375 \r\nQ 32.5625 64.65625 27.59375 64.65625 \r\nQ 22.5625 64.65625 19.234375 61.421875 \r\nQ 15.921875 58.203125 15.921875 53.71875 \r\nz\r\nM 13.09375 20.65625 \r\nQ 13.09375 16.890625 14.875 13.375 \r\nQ 16.65625 9.859375 20.171875 7.921875 \r\nQ 23.6875 6 27.734375 6 \r\nQ 34.03125 6 38.125 10.046875 \r\nQ 42.234375 14.109375 42.234375 20.359375 \r\nQ 42.234375 26.703125 38.015625 30.859375 \r\nQ 33.796875 35.015625 27.4375 35.015625 \r\nQ 21.234375 35.015625 17.15625 30.90625 \r\nQ 13.09375 26.8125 13.09375 20.65625 \r\nz\r\n\" id=\"ArialMT-56\"/>\r\n      </defs>\r\n      <g style=\"fill:#262626;\" transform=\"translate(327.928543 242.013594)scale(0.11 -0.11)\">\r\n       <use xlink:href=\"#ArialMT-56\"/>\r\n      </g>\r\n     </g>\r\n    </g>\r\n    <g id=\"text_5\">\r\n     <!-- Model order -->\r\n     <defs>\r\n      <path d=\"M 7.421875 0 \r\nL 7.421875 71.578125 \r\nL 21.6875 71.578125 \r\nL 38.625 20.90625 \r\nQ 40.96875 13.8125 42.046875 10.296875 \r\nQ 43.265625 14.203125 45.84375 21.78125 \r\nL 62.984375 71.578125 \r\nL 75.734375 71.578125 \r\nL 75.734375 0 \r\nL 66.609375 0 \r\nL 66.609375 59.90625 \r\nL 45.796875 0 \r\nL 37.25 0 \r\nL 16.546875 60.9375 \r\nL 16.546875 0 \r\nz\r\n\" id=\"ArialMT-77\"/>\r\n      <path d=\"M 3.328125 25.921875 \r\nQ 3.328125 40.328125 11.328125 47.265625 \r\nQ 18.015625 53.03125 27.640625 53.03125 \r\nQ 38.328125 53.03125 45.109375 46.015625 \r\nQ 51.90625 39.015625 51.90625 26.65625 \r\nQ 51.90625 16.65625 48.90625 10.90625 \r\nQ 45.90625 5.171875 40.15625 2 \r\nQ 34.421875 -1.171875 27.640625 -1.171875 \r\nQ 16.75 -1.171875 10.03125 5.8125 \r\nQ 3.328125 12.796875 3.328125 25.921875 \r\nz\r\nM 12.359375 25.921875 \r\nQ 12.359375 15.96875 16.703125 11.015625 \r\nQ 21.046875 6.0625 27.640625 6.0625 \r\nQ 34.1875 6.0625 38.53125 11.03125 \r\nQ 42.875 16.015625 42.875 26.21875 \r\nQ 42.875 35.84375 38.5 40.796875 \r\nQ 34.125 45.75 27.640625 45.75 \r\nQ 21.046875 45.75 16.703125 40.8125 \r\nQ 12.359375 35.890625 12.359375 25.921875 \r\nz\r\n\" id=\"ArialMT-111\"/>\r\n      <path d=\"M 40.234375 0 \r\nL 40.234375 6.546875 \r\nQ 35.296875 -1.171875 25.734375 -1.171875 \r\nQ 19.53125 -1.171875 14.328125 2.25 \r\nQ 9.125 5.671875 6.265625 11.796875 \r\nQ 3.421875 17.921875 3.421875 25.875 \r\nQ 3.421875 33.640625 6 39.96875 \r\nQ 8.59375 46.296875 13.765625 49.65625 \r\nQ 18.953125 53.03125 25.34375 53.03125 \r\nQ 30.03125 53.03125 33.6875 51.046875 \r\nQ 37.359375 49.078125 39.65625 45.90625 \r\nL 39.65625 71.578125 \r\nL 48.390625 71.578125 \r\nL 48.390625 0 \r\nz\r\nM 12.453125 25.875 \r\nQ 12.453125 15.921875 16.640625 10.984375 \r\nQ 20.84375 6.0625 26.5625 6.0625 \r\nQ 32.328125 6.0625 36.34375 10.765625 \r\nQ 40.375 15.484375 40.375 25.140625 \r\nQ 40.375 35.796875 36.265625 40.765625 \r\nQ 32.171875 45.75 26.171875 45.75 \r\nQ 20.3125 45.75 16.375 40.96875 \r\nQ 12.453125 36.1875 12.453125 25.875 \r\nz\r\n\" id=\"ArialMT-100\"/>\r\n      <path d=\"M 42.09375 16.703125 \r\nL 51.171875 15.578125 \r\nQ 49.03125 7.625 43.21875 3.21875 \r\nQ 37.40625 -1.171875 28.375 -1.171875 \r\nQ 17 -1.171875 10.328125 5.828125 \r\nQ 3.65625 12.84375 3.65625 25.484375 \r\nQ 3.65625 38.578125 10.390625 45.796875 \r\nQ 17.140625 53.03125 27.875 53.03125 \r\nQ 38.28125 53.03125 44.875 45.953125 \r\nQ 51.46875 38.875 51.46875 26.03125 \r\nQ 51.46875 25.25 51.421875 23.6875 \r\nL 12.75 23.6875 \r\nQ 13.234375 15.140625 17.578125 10.59375 \r\nQ 21.921875 6.0625 28.421875 6.0625 \r\nQ 33.25 6.0625 36.671875 8.59375 \r\nQ 40.09375 11.140625 42.09375 16.703125 \r\nz\r\nM 13.234375 30.90625 \r\nL 42.1875 30.90625 \r\nQ 41.609375 37.453125 38.875 40.71875 \r\nQ 34.671875 45.796875 27.984375 45.796875 \r\nQ 21.921875 45.796875 17.796875 41.75 \r\nQ 13.671875 37.703125 13.234375 30.90625 \r\nz\r\n\" id=\"ArialMT-101\"/>\r\n      <path d=\"M 6.390625 0 \r\nL 6.390625 71.578125 \r\nL 15.1875 71.578125 \r\nL 15.1875 0 \r\nz\r\n\" id=\"ArialMT-108\"/>\r\n      <path id=\"ArialMT-32\"/>\r\n      <path d=\"M 6.5 0 \r\nL 6.5 51.859375 \r\nL 14.40625 51.859375 \r\nL 14.40625 44 \r\nQ 17.4375 49.515625 20 51.265625 \r\nQ 22.5625 53.03125 25.640625 53.03125 \r\nQ 30.078125 53.03125 34.671875 50.203125 \r\nL 31.640625 42.046875 \r\nQ 28.421875 43.953125 25.203125 43.953125 \r\nQ 22.3125 43.953125 20.015625 42.21875 \r\nQ 17.71875 40.484375 16.75 37.40625 \r\nQ 15.28125 32.71875 15.28125 27.15625 \r\nL 15.28125 0 \r\nz\r\n\" id=\"ArialMT-114\"/>\r\n     </defs>\r\n     <g style=\"fill:#262626;\" transform=\"translate(188.468594 256.789219)scale(0.12 -0.12)\">\r\n      <use xlink:href=\"#ArialMT-77\"/>\r\n      <use x=\"83.300781\" xlink:href=\"#ArialMT-111\"/>\r\n      <use x=\"138.916016\" xlink:href=\"#ArialMT-100\"/>\r\n      <use x=\"194.53125\" xlink:href=\"#ArialMT-101\"/>\r\n      <use x=\"250.146484\" xlink:href=\"#ArialMT-108\"/>\r\n      <use x=\"272.363281\" xlink:href=\"#ArialMT-32\"/>\r\n      <use x=\"300.146484\" xlink:href=\"#ArialMT-111\"/>\r\n      <use x=\"355.761719\" xlink:href=\"#ArialMT-114\"/>\r\n      <use x=\"389.0625\" xlink:href=\"#ArialMT-100\"/>\r\n      <use x=\"444.677734\" xlink:href=\"#ArialMT-101\"/>\r\n      <use x=\"500.292969\" xlink:href=\"#ArialMT-114\"/>\r\n     </g>\r\n    </g>\r\n   </g>\r\n   <g id=\"matplotlib.axis_2\">\r\n    <g id=\"ytick_1\">\r\n     <g id=\"line2d_5\">\r\n      <path clip-path=\"url(#p5caddd6b0a)\" d=\"M 53.081406 199.467302 \r\nL 387.881406 199.467302 \r\n\" style=\"fill:none;stroke:#ffffff;stroke-linecap:round;\"/>\r\n     </g>\r\n     <g id=\"text_6\">\r\n      <!-- 0.27 -->\r\n      <defs>\r\n       <path d=\"M 4.15625 35.296875 \r\nQ 4.15625 48 6.765625 55.734375 \r\nQ 9.375 63.484375 14.515625 67.671875 \r\nQ 19.671875 71.875 27.484375 71.875 \r\nQ 33.25 71.875 37.59375 69.546875 \r\nQ 41.9375 67.234375 44.765625 62.859375 \r\nQ 47.609375 58.5 49.21875 52.21875 \r\nQ 50.828125 45.953125 50.828125 35.296875 \r\nQ 50.828125 22.703125 48.234375 14.96875 \r\nQ 45.65625 7.234375 40.5 3 \r\nQ 35.359375 -1.21875 27.484375 -1.21875 \r\nQ 17.140625 -1.21875 11.234375 6.203125 \r\nQ 4.15625 15.140625 4.15625 35.296875 \r\nz\r\nM 13.1875 35.296875 \r\nQ 13.1875 17.671875 17.3125 11.828125 \r\nQ 21.4375 6 27.484375 6 \r\nQ 33.546875 6 37.671875 11.859375 \r\nQ 41.796875 17.71875 41.796875 35.296875 \r\nQ 41.796875 52.984375 37.671875 58.78125 \r\nQ 33.546875 64.59375 27.390625 64.59375 \r\nQ 21.34375 64.59375 17.71875 59.46875 \r\nQ 13.1875 52.9375 13.1875 35.296875 \r\nz\r\n\" id=\"ArialMT-48\"/>\r\n       <path d=\"M 9.078125 0 \r\nL 9.078125 10.015625 \r\nL 19.09375 10.015625 \r\nL 19.09375 0 \r\nz\r\n\" id=\"ArialMT-46\"/>\r\n       <path d=\"M 4.734375 62.203125 \r\nL 4.734375 70.65625 \r\nL 51.078125 70.65625 \r\nL 51.078125 63.8125 \r\nQ 44.234375 56.546875 37.515625 44.484375 \r\nQ 30.8125 32.421875 27.15625 19.671875 \r\nQ 24.515625 10.6875 23.78125 0 \r\nL 14.75 0 \r\nQ 14.890625 8.453125 18.0625 20.40625 \r\nQ 21.234375 32.375 27.171875 43.484375 \r\nQ 33.109375 54.59375 39.796875 62.203125 \r\nz\r\n\" id=\"ArialMT-55\"/>\r\n      </defs>\r\n      <g style=\"fill:#262626;\" transform=\"translate(22.174375 203.404098)scale(0.11 -0.11)\">\r\n       <use xlink:href=\"#ArialMT-48\"/>\r\n       <use x=\"55.615234\" xlink:href=\"#ArialMT-46\"/>\r\n       <use x=\"83.398438\" xlink:href=\"#ArialMT-50\"/>\r\n       <use x=\"139.013672\" xlink:href=\"#ArialMT-55\"/>\r\n      </g>\r\n     </g>\r\n    </g>\r\n    <g id=\"ytick_2\">\r\n     <g id=\"line2d_6\">\r\n      <path clip-path=\"url(#p5caddd6b0a)\" d=\"M 53.081406 173.242393 \r\nL 387.881406 173.242393 \r\n\" style=\"fill:none;stroke:#ffffff;stroke-linecap:round;\"/>\r\n     </g>\r\n     <g id=\"text_7\">\r\n      <!-- 0.28 -->\r\n      <g style=\"fill:#262626;\" transform=\"translate(22.174375 177.17919)scale(0.11 -0.11)\">\r\n       <use xlink:href=\"#ArialMT-48\"/>\r\n       <use x=\"55.615234\" xlink:href=\"#ArialMT-46\"/>\r\n       <use x=\"83.398438\" xlink:href=\"#ArialMT-50\"/>\r\n       <use x=\"139.013672\" xlink:href=\"#ArialMT-56\"/>\r\n      </g>\r\n     </g>\r\n    </g>\r\n    <g id=\"ytick_3\">\r\n     <g id=\"line2d_7\">\r\n      <path clip-path=\"url(#p5caddd6b0a)\" d=\"M 53.081406 147.017484 \r\nL 387.881406 147.017484 \r\n\" style=\"fill:none;stroke:#ffffff;stroke-linecap:round;\"/>\r\n     </g>\r\n     <g id=\"text_8\">\r\n      <!-- 0.29 -->\r\n      <defs>\r\n       <path d=\"M 5.46875 16.546875 \r\nL 13.921875 17.328125 \r\nQ 14.984375 11.375 18.015625 8.6875 \r\nQ 21.046875 6 25.78125 6 \r\nQ 29.828125 6 32.875 7.859375 \r\nQ 35.9375 9.71875 37.890625 12.8125 \r\nQ 39.84375 15.921875 41.15625 21.1875 \r\nQ 42.484375 26.46875 42.484375 31.9375 \r\nQ 42.484375 32.515625 42.4375 33.6875 \r\nQ 39.796875 29.5 35.234375 26.875 \r\nQ 30.671875 24.265625 25.34375 24.265625 \r\nQ 16.453125 24.265625 10.296875 30.703125 \r\nQ 4.15625 37.15625 4.15625 47.703125 \r\nQ 4.15625 58.59375 10.578125 65.234375 \r\nQ 17 71.875 26.65625 71.875 \r\nQ 33.640625 71.875 39.421875 68.109375 \r\nQ 45.21875 64.359375 48.21875 57.390625 \r\nQ 51.21875 50.4375 51.21875 37.25 \r\nQ 51.21875 23.53125 48.234375 15.40625 \r\nQ 45.265625 7.28125 39.375 3.03125 \r\nQ 33.5 -1.21875 25.59375 -1.21875 \r\nQ 17.1875 -1.21875 11.859375 3.4375 \r\nQ 6.546875 8.109375 5.46875 16.546875 \r\nz\r\nM 41.453125 48.140625 \r\nQ 41.453125 55.71875 37.421875 60.15625 \r\nQ 33.40625 64.59375 27.734375 64.59375 \r\nQ 21.875 64.59375 17.53125 59.8125 \r\nQ 13.1875 55.03125 13.1875 47.40625 \r\nQ 13.1875 40.578125 17.3125 36.296875 \r\nQ 21.4375 32.03125 27.484375 32.03125 \r\nQ 33.59375 32.03125 37.515625 36.296875 \r\nQ 41.453125 40.578125 41.453125 48.140625 \r\nz\r\n\" id=\"ArialMT-57\"/>\r\n      </defs>\r\n      <g style=\"fill:#262626;\" transform=\"translate(22.174375 150.954281)scale(0.11 -0.11)\">\r\n       <use xlink:href=\"#ArialMT-48\"/>\r\n       <use x=\"55.615234\" xlink:href=\"#ArialMT-46\"/>\r\n       <use x=\"83.398438\" xlink:href=\"#ArialMT-50\"/>\r\n       <use x=\"139.013672\" xlink:href=\"#ArialMT-57\"/>\r\n      </g>\r\n     </g>\r\n    </g>\r\n    <g id=\"ytick_4\">\r\n     <g id=\"line2d_8\">\r\n      <path clip-path=\"url(#p5caddd6b0a)\" d=\"M 53.081406 120.792575 \r\nL 387.881406 120.792575 \r\n\" style=\"fill:none;stroke:#ffffff;stroke-linecap:round;\"/>\r\n     </g>\r\n     <g id=\"text_9\">\r\n      <!-- 0.30 -->\r\n      <defs>\r\n       <path d=\"M 4.203125 18.890625 \r\nL 12.984375 20.0625 \r\nQ 14.5 12.59375 18.140625 9.296875 \r\nQ 21.78125 6 27 6 \r\nQ 33.203125 6 37.46875 10.296875 \r\nQ 41.75 14.59375 41.75 20.953125 \r\nQ 41.75 27 37.796875 30.921875 \r\nQ 33.84375 34.859375 27.734375 34.859375 \r\nQ 25.25 34.859375 21.53125 33.890625 \r\nL 22.515625 41.609375 \r\nQ 23.390625 41.5 23.921875 41.5 \r\nQ 29.546875 41.5 34.03125 44.421875 \r\nQ 38.53125 47.359375 38.53125 53.46875 \r\nQ 38.53125 58.296875 35.25 61.46875 \r\nQ 31.984375 64.65625 26.8125 64.65625 \r\nQ 21.6875 64.65625 18.265625 61.421875 \r\nQ 14.84375 58.203125 13.875 51.765625 \r\nL 5.078125 53.328125 \r\nQ 6.6875 62.15625 12.390625 67.015625 \r\nQ 18.109375 71.875 26.609375 71.875 \r\nQ 32.46875 71.875 37.390625 69.359375 \r\nQ 42.328125 66.84375 44.9375 62.5 \r\nQ 47.5625 58.15625 47.5625 53.265625 \r\nQ 47.5625 48.640625 45.0625 44.828125 \r\nQ 42.578125 41.015625 37.703125 38.765625 \r\nQ 44.046875 37.3125 47.5625 32.6875 \r\nQ 51.078125 28.078125 51.078125 21.140625 \r\nQ 51.078125 11.765625 44.234375 5.25 \r\nQ 37.40625 -1.265625 26.953125 -1.265625 \r\nQ 17.53125 -1.265625 11.296875 4.34375 \r\nQ 5.078125 9.96875 4.203125 18.890625 \r\nz\r\n\" id=\"ArialMT-51\"/>\r\n      </defs>\r\n      <g style=\"fill:#262626;\" transform=\"translate(22.174375 124.729372)scale(0.11 -0.11)\">\r\n       <use xlink:href=\"#ArialMT-48\"/>\r\n       <use x=\"55.615234\" xlink:href=\"#ArialMT-46\"/>\r\n       <use x=\"83.398438\" xlink:href=\"#ArialMT-51\"/>\r\n       <use x=\"139.013672\" xlink:href=\"#ArialMT-48\"/>\r\n      </g>\r\n     </g>\r\n    </g>\r\n    <g id=\"ytick_5\">\r\n     <g id=\"line2d_9\">\r\n      <path clip-path=\"url(#p5caddd6b0a)\" d=\"M 53.081406 94.567666 \r\nL 387.881406 94.567666 \r\n\" style=\"fill:none;stroke:#ffffff;stroke-linecap:round;\"/>\r\n     </g>\r\n     <g id=\"text_10\">\r\n      <!-- 0.31 -->\r\n      <defs>\r\n       <path d=\"M 37.25 0 \r\nL 28.46875 0 \r\nL 28.46875 56 \r\nQ 25.296875 52.984375 20.140625 49.953125 \r\nQ 14.984375 46.921875 10.890625 45.40625 \r\nL 10.890625 53.90625 \r\nQ 18.265625 57.375 23.78125 62.296875 \r\nQ 29.296875 67.234375 31.59375 71.875 \r\nL 37.25 71.875 \r\nz\r\n\" id=\"ArialMT-49\"/>\r\n      </defs>\r\n      <g style=\"fill:#262626;\" transform=\"translate(22.174375 98.504463)scale(0.11 -0.11)\">\r\n       <use xlink:href=\"#ArialMT-48\"/>\r\n       <use x=\"55.615234\" xlink:href=\"#ArialMT-46\"/>\r\n       <use x=\"83.398438\" xlink:href=\"#ArialMT-51\"/>\r\n       <use x=\"139.013672\" xlink:href=\"#ArialMT-49\"/>\r\n      </g>\r\n     </g>\r\n    </g>\r\n    <g id=\"ytick_6\">\r\n     <g id=\"line2d_10\">\r\n      <path clip-path=\"url(#p5caddd6b0a)\" d=\"M 53.081406 68.342757 \r\nL 387.881406 68.342757 \r\n\" style=\"fill:none;stroke:#ffffff;stroke-linecap:round;\"/>\r\n     </g>\r\n     <g id=\"text_11\">\r\n      <!-- 0.32 -->\r\n      <g style=\"fill:#262626;\" transform=\"translate(22.174375 72.279554)scale(0.11 -0.11)\">\r\n       <use xlink:href=\"#ArialMT-48\"/>\r\n       <use x=\"55.615234\" xlink:href=\"#ArialMT-46\"/>\r\n       <use x=\"83.398438\" xlink:href=\"#ArialMT-51\"/>\r\n       <use x=\"139.013672\" xlink:href=\"#ArialMT-50\"/>\r\n      </g>\r\n     </g>\r\n    </g>\r\n    <g id=\"ytick_7\">\r\n     <g id=\"line2d_11\">\r\n      <path clip-path=\"url(#p5caddd6b0a)\" d=\"M 53.081406 42.117848 \r\nL 387.881406 42.117848 \r\n\" style=\"fill:none;stroke:#ffffff;stroke-linecap:round;\"/>\r\n     </g>\r\n     <g id=\"text_12\">\r\n      <!-- 0.33 -->\r\n      <g style=\"fill:#262626;\" transform=\"translate(22.174375 46.054645)scale(0.11 -0.11)\">\r\n       <use xlink:href=\"#ArialMT-48\"/>\r\n       <use x=\"55.615234\" xlink:href=\"#ArialMT-46\"/>\r\n       <use x=\"83.398438\" xlink:href=\"#ArialMT-51\"/>\r\n       <use x=\"139.013672\" xlink:href=\"#ArialMT-51\"/>\r\n      </g>\r\n     </g>\r\n    </g>\r\n    <g id=\"ytick_8\">\r\n     <g id=\"line2d_12\">\r\n      <path clip-path=\"url(#p5caddd6b0a)\" d=\"M 53.081406 15.892939 \r\nL 387.881406 15.892939 \r\n\" style=\"fill:none;stroke:#ffffff;stroke-linecap:round;\"/>\r\n     </g>\r\n     <g id=\"text_13\">\r\n      <!-- 0.34 -->\r\n      <g style=\"fill:#262626;\" transform=\"translate(22.174375 19.829736)scale(0.11 -0.11)\">\r\n       <use xlink:href=\"#ArialMT-48\"/>\r\n       <use x=\"55.615234\" xlink:href=\"#ArialMT-46\"/>\r\n       <use x=\"83.398438\" xlink:href=\"#ArialMT-51\"/>\r\n       <use x=\"139.013672\" xlink:href=\"#ArialMT-52\"/>\r\n      </g>\r\n     </g>\r\n    </g>\r\n    <g id=\"text_14\">\r\n     <!-- K-fold MSE -->\r\n     <defs>\r\n      <path d=\"M 7.328125 0 \r\nL 7.328125 71.578125 \r\nL 16.796875 71.578125 \r\nL 16.796875 36.078125 \r\nL 52.34375 71.578125 \r\nL 65.1875 71.578125 \r\nL 35.15625 42.578125 \r\nL 66.5 0 \r\nL 54 0 \r\nL 28.515625 36.234375 \r\nL 16.796875 24.8125 \r\nL 16.796875 0 \r\nz\r\n\" id=\"ArialMT-75\"/>\r\n      <path d=\"M 3.171875 21.484375 \r\nL 3.171875 30.328125 \r\nL 30.171875 30.328125 \r\nL 30.171875 21.484375 \r\nz\r\n\" id=\"ArialMT-45\"/>\r\n      <path d=\"M 8.6875 0 \r\nL 8.6875 45.015625 \r\nL 0.921875 45.015625 \r\nL 0.921875 51.859375 \r\nL 8.6875 51.859375 \r\nL 8.6875 57.375 \r\nQ 8.6875 62.59375 9.625 65.140625 \r\nQ 10.890625 68.5625 14.078125 70.671875 \r\nQ 17.28125 72.796875 23.046875 72.796875 \r\nQ 26.765625 72.796875 31.25 71.921875 \r\nL 29.9375 64.265625 \r\nQ 27.203125 64.75 24.75 64.75 \r\nQ 20.75 64.75 19.09375 63.03125 \r\nQ 17.4375 61.328125 17.4375 56.640625 \r\nL 17.4375 51.859375 \r\nL 27.546875 51.859375 \r\nL 27.546875 45.015625 \r\nL 17.4375 45.015625 \r\nL 17.4375 0 \r\nz\r\n\" id=\"ArialMT-102\"/>\r\n      <path d=\"M 4.5 23 \r\nL 13.421875 23.78125 \r\nQ 14.0625 18.40625 16.375 14.96875 \r\nQ 18.703125 11.53125 23.578125 9.40625 \r\nQ 28.46875 7.28125 34.578125 7.28125 \r\nQ 39.984375 7.28125 44.140625 8.890625 \r\nQ 48.296875 10.5 50.3125 13.296875 \r\nQ 52.34375 16.109375 52.34375 19.4375 \r\nQ 52.34375 22.796875 50.390625 25.3125 \r\nQ 48.4375 27.828125 43.953125 29.546875 \r\nQ 41.0625 30.671875 31.203125 33.03125 \r\nQ 21.34375 35.40625 17.390625 37.5 \r\nQ 12.25 40.1875 9.734375 44.15625 \r\nQ 7.234375 48.140625 7.234375 53.078125 \r\nQ 7.234375 58.5 10.296875 63.203125 \r\nQ 13.375 67.921875 19.28125 70.359375 \r\nQ 25.203125 72.796875 32.421875 72.796875 \r\nQ 40.375 72.796875 46.453125 70.234375 \r\nQ 52.546875 67.671875 55.8125 62.6875 \r\nQ 59.078125 57.71875 59.328125 51.421875 \r\nL 50.25 50.734375 \r\nQ 49.515625 57.515625 45.28125 60.984375 \r\nQ 41.0625 64.453125 32.8125 64.453125 \r\nQ 24.21875 64.453125 20.28125 61.296875 \r\nQ 16.359375 58.15625 16.359375 53.71875 \r\nQ 16.359375 49.859375 19.140625 47.359375 \r\nQ 21.875 44.875 33.421875 42.265625 \r\nQ 44.96875 39.65625 49.265625 37.703125 \r\nQ 55.515625 34.8125 58.484375 30.390625 \r\nQ 61.46875 25.984375 61.46875 20.21875 \r\nQ 61.46875 14.5 58.203125 9.4375 \r\nQ 54.9375 4.390625 48.796875 1.578125 \r\nQ 42.671875 -1.21875 35.015625 -1.21875 \r\nQ 25.296875 -1.21875 18.71875 1.609375 \r\nQ 12.15625 4.4375 8.421875 10.125 \r\nQ 4.6875 15.828125 4.5 23 \r\nz\r\n\" id=\"ArialMT-83\"/>\r\n      <path d=\"M 7.90625 0 \r\nL 7.90625 71.578125 \r\nL 59.671875 71.578125 \r\nL 59.671875 63.140625 \r\nL 17.390625 63.140625 \r\nL 17.390625 41.21875 \r\nL 56.984375 41.21875 \r\nL 56.984375 32.8125 \r\nL 17.390625 32.8125 \r\nL 17.390625 8.453125 \r\nL 61.328125 8.453125 \r\nL 61.328125 0 \r\nz\r\n\" id=\"ArialMT-69\"/>\r\n     </defs>\r\n     <g style=\"fill:#262626;\" transform=\"translate(15.789375 146.262187)rotate(-90)scale(0.12 -0.12)\">\r\n      <use xlink:href=\"#ArialMT-75\"/>\r\n      <use x=\"66.699219\" xlink:href=\"#ArialMT-45\"/>\r\n      <use x=\"100\" xlink:href=\"#ArialMT-102\"/>\r\n      <use x=\"127.783203\" xlink:href=\"#ArialMT-111\"/>\r\n      <use x=\"183.398438\" xlink:href=\"#ArialMT-108\"/>\r\n      <use x=\"205.615234\" xlink:href=\"#ArialMT-100\"/>\r\n      <use x=\"261.230469\" xlink:href=\"#ArialMT-32\"/>\r\n      <use x=\"289.013672\" xlink:href=\"#ArialMT-77\"/>\r\n      <use x=\"372.314453\" xlink:href=\"#ArialMT-83\"/>\r\n      <use x=\"439.013672\" xlink:href=\"#ArialMT-69\"/>\r\n     </g>\r\n    </g>\r\n   </g>\r\n   <g id=\"PathCollection_1\">\r\n    <defs>\r\n     <path d=\"M 0 5 \r\nC 1.326016 5 2.597899 4.473168 3.535534 3.535534 \r\nC 4.473168 2.597899 5 1.326016 5 0 \r\nC 5 -1.326016 4.473168 -2.597899 3.535534 -3.535534 \r\nC 2.597899 -4.473168 1.326016 -5 0 -5 \r\nC -1.326016 -5 -2.597899 -4.473168 -3.535534 -3.535534 \r\nC -4.473168 -2.597899 -5 -1.326016 -5 0 \r\nC -5 1.326016 -4.473168 2.597899 -3.535534 3.535534 \r\nC -2.597899 4.473168 -1.326016 5 0 5 \r\nz\r\n\" id=\"C0_0_70f7b0b46e\"/>\r\n    </defs>\r\n    <g clip-path=\"url(#p5caddd6b0a)\">\r\n     <use style=\"fill:#4c72b0;stroke:#ffffff;stroke-width:0.75;\" x=\"73.140537\" xlink:href=\"#C0_0_70f7b0b46e\" y=\"24.11115\"/>\r\n    </g>\r\n    <g clip-path=\"url(#p5caddd6b0a)\">\r\n     <use style=\"fill:#4c72b0;stroke:#ffffff;stroke-width:0.75;\" x=\"109.975754\" xlink:href=\"#C0_0_70f7b0b46e\" y=\"21.842873\"/>\r\n    </g>\r\n    <g clip-path=\"url(#p5caddd6b0a)\">\r\n     <use style=\"fill:#4c72b0;stroke:#ffffff;stroke-width:0.75;\" x=\"146.810971\" xlink:href=\"#C0_0_70f7b0b46e\" y=\"205.750432\"/>\r\n    </g>\r\n    <g clip-path=\"url(#p5caddd6b0a)\">\r\n     <use style=\"fill:#dd8452;stroke:#ffffff;stroke-width:0.75;\" x=\"183.646189\" xlink:href=\"#C0_0_70f7b0b46e\" y=\"209.997127\"/>\r\n    </g>\r\n    <g clip-path=\"url(#p5caddd6b0a)\">\r\n     <use style=\"fill:#4c72b0;stroke:#ffffff;stroke-width:0.75;\" x=\"220.481406\" xlink:href=\"#C0_0_70f7b0b46e\" y=\"206.726625\"/>\r\n    </g>\r\n    <g clip-path=\"url(#p5caddd6b0a)\">\r\n     <use style=\"fill:#4c72b0;stroke:#ffffff;stroke-width:0.75;\" x=\"257.316624\" xlink:href=\"#C0_0_70f7b0b46e\" y=\"204.658018\"/>\r\n    </g>\r\n    <g clip-path=\"url(#p5caddd6b0a)\">\r\n     <use style=\"fill:#4c72b0;stroke:#ffffff;stroke-width:0.75;\" x=\"294.151841\" xlink:href=\"#C0_0_70f7b0b46e\" y=\"203.641559\"/>\r\n    </g>\r\n    <g clip-path=\"url(#p5caddd6b0a)\">\r\n     <use style=\"fill:#4c72b0;stroke:#ffffff;stroke-width:0.75;\" x=\"330.987058\" xlink:href=\"#C0_0_70f7b0b46e\" y=\"200.76469\"/>\r\n    </g>\r\n    <g clip-path=\"url(#p5caddd6b0a)\">\r\n     <use style=\"fill:#4c72b0;stroke:#ffffff;stroke-width:0.75;\" x=\"367.822276\" xlink:href=\"#C0_0_70f7b0b46e\" y=\"209.682997\"/>\r\n    </g>\r\n   </g>\r\n   <g id=\"line2d_13\">\r\n    <path clip-path=\"url(#p5caddd6b0a)\" d=\"M 73.140537 24.11115 \r\nL 109.975754 21.842873 \r\nL 146.810971 205.750432 \r\nL 183.646189 209.997127 \r\nL 220.481406 206.726625 \r\nL 257.316624 204.658018 \r\nL 294.151841 203.641559 \r\nL 330.987058 200.76469 \r\nL 367.822276 209.682997 \r\n\" style=\"fill:none;stroke:#4c72b0;stroke-linecap:round;stroke-width:1.5;\"/>\r\n   </g>\r\n   <g id=\"patch_3\">\r\n    <path d=\"M 53.081406 224.64 \r\nL 53.081406 7.2 \r\n\" style=\"fill:none;stroke:#ffffff;stroke-linecap:square;stroke-linejoin:miter;stroke-width:1.25;\"/>\r\n   </g>\r\n   <g id=\"patch_4\">\r\n    <path d=\"M 387.881406 224.64 \r\nL 387.881406 7.2 \r\n\" style=\"fill:none;stroke:#ffffff;stroke-linecap:square;stroke-linejoin:miter;stroke-width:1.25;\"/>\r\n   </g>\r\n   <g id=\"patch_5\">\r\n    <path d=\"M 53.081406 224.64 \r\nL 387.881406 224.64 \r\n\" style=\"fill:none;stroke:#ffffff;stroke-linecap:square;stroke-linejoin:miter;stroke-width:1.25;\"/>\r\n   </g>\r\n   <g id=\"patch_6\">\r\n    <path d=\"M 53.081406 7.2 \r\nL 387.881406 7.2 \r\n\" style=\"fill:none;stroke:#ffffff;stroke-linecap:square;stroke-linejoin:miter;stroke-width:1.25;\"/>\r\n   </g>\r\n  </g>\r\n </g>\r\n <defs>\r\n  <clipPath id=\"p5caddd6b0a\">\r\n   <rect height=\"217.44\" width=\"334.8\" x=\"53.081406\" y=\"7.2\"/>\r\n  </clipPath>\r\n </defs>\r\n</svg>\r\n",
            "image/png": "[encoded data removed]"
          },
          "metadata": {}
        }
      ]
    },
    {
      "cell_type": "markdown",
      "metadata": {
        "id": "i6ynvTzelw0P"
      },
      "source": [
        "We can also select by highest R2 (instead of lowest MSE):"
      ],
      "id": "i6ynvTzelw0P"
    },
    {
      "cell_type": "code",
      "metadata": {
        "id": "xmY_k2KIlw0P"
      },
      "source": [
        "idx_max = np.argmax(r2_val.mean(axis=1))\n",
        "d_max_r2 = dtest_list[idx_max]\n",
        "d_max_r2"
      ],
      "id": "xmY_k2KIlw0P",
      "execution_count": 17,
      "outputs": [
        {
          "output_type": "execute_result",
          "data": {
            "text/plain": [
              "4"
            ]
          },
          "metadata": {},
          "execution_count": 17
        }
      ]
    },
    {
      "cell_type": "code",
      "metadata": {
        "id": "Bw-R9Z8Slw0P"
      },
      "source": [
        "sns.lineplot(x=dtest_list, y=r2_val.mean(axis=1));\n",
        "sns.scatterplot(x=dtest_list, y=r2_val.mean(axis=1), hue=dtest_list==d_max_r2, s=100, legend=False);\n",
        "\n",
        "plt.xlabel(\"Model order\");\n",
        "plt.ylabel(\"K-fold R2\");"
      ],
      "id": "Bw-R9Z8Slw0P",
      "execution_count": 18,
      "outputs": [
        {
          "output_type": "display_data",
          "data": {
            "text/plain": "<Figure size 432x288 with 1 Axes>",
            "image/svg+xml": "<?xml version=\"1.0\" encoding=\"utf-8\" standalone=\"no\"?>\r\n<!DOCTYPE svg PUBLIC \"-//W3C//DTD SVG 1.1//EN\"\r\n  \"http://www.w3.org/Graphics/SVG/1.1/DTD/svg11.dtd\">\r\n<!-- Created with matplotlib (https://matplotlib.org/) -->\r\n<svg height=\"266.374219pt\" version=\"1.1\" viewBox=\"0 0 395.081406 266.374219\" width=\"395.081406pt\" xmlns=\"http://www.w3.org/2000/svg\" xmlns:xlink=\"http://www.w3.org/1999/xlink\">\r\n <defs>\r\n  <style type=\"text/css\">\r\n*{stroke-linecap:butt;stroke-linejoin:round;}\r\n  </style>\r\n </defs>\r\n <g id=\"figure_1\">\r\n  <g id=\"patch_1\">\r\n   <path d=\"M -0 266.374219 \r\nL 395.081406 266.374219 \r\nL 395.081406 0 \r\nL -0 0 \r\nz\r\n\" style=\"fill:#ffffff;\"/>\r\n  </g>\r\n  <g id=\"axes_1\">\r\n   <g id=\"patch_2\">\r\n    <path d=\"M 53.081406 224.64 \r\nL 387.881406 224.64 \r\nL 387.881406 7.2 \r\nL 53.081406 7.2 \r\nz\r\n\" style=\"fill:#eaeaf2;\"/>\r\n   </g>\r\n   <g id=\"matplotlib.axis_1\">\r\n    <g id=\"xtick_1\">\r\n     <g id=\"line2d_1\">\r\n      <path clip-path=\"url(#p59bf6b0347)\" d=\"M 109.975754 224.64 \r\nL 109.975754 7.2 \r\n\" style=\"fill:none;stroke:#ffffff;stroke-linecap:round;\"/>\r\n     </g>\r\n     <g id=\"text_1\">\r\n      <!-- 2 -->\r\n      <defs>\r\n       <path d=\"M 50.34375 8.453125 \r\nL 50.34375 0 \r\nL 3.03125 0 \r\nQ 2.9375 3.171875 4.046875 6.109375 \r\nQ 5.859375 10.9375 9.828125 15.625 \r\nQ 13.8125 20.3125 21.34375 26.46875 \r\nQ 33.015625 36.03125 37.109375 41.625 \r\nQ 41.21875 47.21875 41.21875 52.203125 \r\nQ 41.21875 57.421875 37.46875 61 \r\nQ 33.734375 64.59375 27.734375 64.59375 \r\nQ 21.390625 64.59375 17.578125 60.78125 \r\nQ 13.765625 56.984375 13.71875 50.25 \r\nL 4.6875 51.171875 \r\nQ 5.609375 61.28125 11.65625 66.578125 \r\nQ 17.71875 71.875 27.9375 71.875 \r\nQ 38.234375 71.875 44.234375 66.15625 \r\nQ 50.25 60.453125 50.25 52 \r\nQ 50.25 47.703125 48.484375 43.546875 \r\nQ 46.734375 39.40625 42.65625 34.8125 \r\nQ 38.578125 30.21875 29.109375 22.21875 \r\nQ 21.1875 15.578125 18.9375 13.203125 \r\nQ 16.703125 10.84375 15.234375 8.453125 \r\nz\r\n\" id=\"ArialMT-50\"/>\r\n      </defs>\r\n      <g style=\"fill:#262626;\" transform=\"translate(106.917238 242.013594)scale(0.11 -0.11)\">\r\n       <use xlink:href=\"#ArialMT-50\"/>\r\n      </g>\r\n     </g>\r\n    </g>\r\n    <g id=\"xtick_2\">\r\n     <g id=\"line2d_2\">\r\n      <path clip-path=\"url(#p59bf6b0347)\" d=\"M 183.646189 224.64 \r\nL 183.646189 7.2 \r\n\" style=\"fill:none;stroke:#ffffff;stroke-linecap:round;\"/>\r\n     </g>\r\n     <g id=\"text_2\">\r\n      <!-- 4 -->\r\n      <defs>\r\n       <path d=\"M 32.328125 0 \r\nL 32.328125 17.140625 \r\nL 1.265625 17.140625 \r\nL 1.265625 25.203125 \r\nL 33.9375 71.578125 \r\nL 41.109375 71.578125 \r\nL 41.109375 25.203125 \r\nL 50.78125 25.203125 \r\nL 50.78125 17.140625 \r\nL 41.109375 17.140625 \r\nL 41.109375 0 \r\nz\r\nM 32.328125 25.203125 \r\nL 32.328125 57.46875 \r\nL 9.90625 25.203125 \r\nz\r\n\" id=\"ArialMT-52\"/>\r\n      </defs>\r\n      <g style=\"fill:#262626;\" transform=\"translate(180.587673 242.013594)scale(0.11 -0.11)\">\r\n       <use xlink:href=\"#ArialMT-52\"/>\r\n      </g>\r\n     </g>\r\n    </g>\r\n    <g id=\"xtick_3\">\r\n     <g id=\"line2d_3\">\r\n      <path clip-path=\"url(#p59bf6b0347)\" d=\"M 257.316624 224.64 \r\nL 257.316624 7.2 \r\n\" style=\"fill:none;stroke:#ffffff;stroke-linecap:round;\"/>\r\n     </g>\r\n     <g id=\"text_3\">\r\n      <!-- 6 -->\r\n      <defs>\r\n       <path d=\"M 49.75 54.046875 \r\nL 41.015625 53.375 \r\nQ 39.84375 58.546875 37.703125 60.890625 \r\nQ 34.125 64.65625 28.90625 64.65625 \r\nQ 24.703125 64.65625 21.53125 62.3125 \r\nQ 17.390625 59.28125 14.984375 53.46875 \r\nQ 12.59375 47.65625 12.5 36.921875 \r\nQ 15.671875 41.75 20.265625 44.09375 \r\nQ 24.859375 46.4375 29.890625 46.4375 \r\nQ 38.671875 46.4375 44.84375 39.96875 \r\nQ 51.03125 33.5 51.03125 23.25 \r\nQ 51.03125 16.5 48.125 10.71875 \r\nQ 45.21875 4.9375 40.140625 1.859375 \r\nQ 35.0625 -1.21875 28.609375 -1.21875 \r\nQ 17.625 -1.21875 10.6875 6.859375 \r\nQ 3.765625 14.9375 3.765625 33.5 \r\nQ 3.765625 54.25 11.421875 63.671875 \r\nQ 18.109375 71.875 29.4375 71.875 \r\nQ 37.890625 71.875 43.28125 67.140625 \r\nQ 48.6875 62.40625 49.75 54.046875 \r\nz\r\nM 13.875 23.1875 \r\nQ 13.875 18.65625 15.796875 14.5 \r\nQ 17.71875 10.359375 21.1875 8.171875 \r\nQ 24.65625 6 28.46875 6 \r\nQ 34.03125 6 38.03125 10.484375 \r\nQ 42.046875 14.984375 42.046875 22.703125 \r\nQ 42.046875 30.125 38.078125 34.390625 \r\nQ 34.125 38.671875 28.125 38.671875 \r\nQ 22.171875 38.671875 18.015625 34.390625 \r\nQ 13.875 30.125 13.875 23.1875 \r\nz\r\n\" id=\"ArialMT-54\"/>\r\n      </defs>\r\n      <g style=\"fill:#262626;\" transform=\"translate(254.258108 242.013594)scale(0.11 -0.11)\">\r\n       <use xlink:href=\"#ArialMT-54\"/>\r\n      </g>\r\n     </g>\r\n    </g>\r\n    <g id=\"xtick_4\">\r\n     <g id=\"line2d_4\">\r\n      <path clip-path=\"url(#p59bf6b0347)\" d=\"M 330.987058 224.64 \r\nL 330.987058 7.2 \r\n\" style=\"fill:none;stroke:#ffffff;stroke-linecap:round;\"/>\r\n     </g>\r\n     <g id=\"text_4\">\r\n      <!-- 8 -->\r\n      <defs>\r\n       <path d=\"M 17.671875 38.8125 \r\nQ 12.203125 40.828125 9.5625 44.53125 \r\nQ 6.9375 48.25 6.9375 53.421875 \r\nQ 6.9375 61.234375 12.546875 66.546875 \r\nQ 18.171875 71.875 27.484375 71.875 \r\nQ 36.859375 71.875 42.578125 66.421875 \r\nQ 48.296875 60.984375 48.296875 53.171875 \r\nQ 48.296875 48.1875 45.671875 44.5 \r\nQ 43.0625 40.828125 37.75 38.8125 \r\nQ 44.34375 36.671875 47.78125 31.875 \r\nQ 51.21875 27.09375 51.21875 20.453125 \r\nQ 51.21875 11.28125 44.71875 5.03125 \r\nQ 38.234375 -1.21875 27.640625 -1.21875 \r\nQ 17.046875 -1.21875 10.546875 5.046875 \r\nQ 4.046875 11.328125 4.046875 20.703125 \r\nQ 4.046875 27.6875 7.59375 32.390625 \r\nQ 11.140625 37.109375 17.671875 38.8125 \r\nz\r\nM 15.921875 53.71875 \r\nQ 15.921875 48.640625 19.1875 45.40625 \r\nQ 22.46875 42.1875 27.6875 42.1875 \r\nQ 32.765625 42.1875 36.015625 45.375 \r\nQ 39.265625 48.578125 39.265625 53.21875 \r\nQ 39.265625 58.0625 35.90625 61.359375 \r\nQ 32.5625 64.65625 27.59375 64.65625 \r\nQ 22.5625 64.65625 19.234375 61.421875 \r\nQ 15.921875 58.203125 15.921875 53.71875 \r\nz\r\nM 13.09375 20.65625 \r\nQ 13.09375 16.890625 14.875 13.375 \r\nQ 16.65625 9.859375 20.171875 7.921875 \r\nQ 23.6875 6 27.734375 6 \r\nQ 34.03125 6 38.125 10.046875 \r\nQ 42.234375 14.109375 42.234375 20.359375 \r\nQ 42.234375 26.703125 38.015625 30.859375 \r\nQ 33.796875 35.015625 27.4375 35.015625 \r\nQ 21.234375 35.015625 17.15625 30.90625 \r\nQ 13.09375 26.8125 13.09375 20.65625 \r\nz\r\n\" id=\"ArialMT-56\"/>\r\n      </defs>\r\n      <g style=\"fill:#262626;\" transform=\"translate(327.928543 242.013594)scale(0.11 -0.11)\">\r\n       <use xlink:href=\"#ArialMT-56\"/>\r\n      </g>\r\n     </g>\r\n    </g>\r\n    <g id=\"text_5\">\r\n     <!-- Model order -->\r\n     <defs>\r\n      <path d=\"M 7.421875 0 \r\nL 7.421875 71.578125 \r\nL 21.6875 71.578125 \r\nL 38.625 20.90625 \r\nQ 40.96875 13.8125 42.046875 10.296875 \r\nQ 43.265625 14.203125 45.84375 21.78125 \r\nL 62.984375 71.578125 \r\nL 75.734375 71.578125 \r\nL 75.734375 0 \r\nL 66.609375 0 \r\nL 66.609375 59.90625 \r\nL 45.796875 0 \r\nL 37.25 0 \r\nL 16.546875 60.9375 \r\nL 16.546875 0 \r\nz\r\n\" id=\"ArialMT-77\"/>\r\n      <path d=\"M 3.328125 25.921875 \r\nQ 3.328125 40.328125 11.328125 47.265625 \r\nQ 18.015625 53.03125 27.640625 53.03125 \r\nQ 38.328125 53.03125 45.109375 46.015625 \r\nQ 51.90625 39.015625 51.90625 26.65625 \r\nQ 51.90625 16.65625 48.90625 10.90625 \r\nQ 45.90625 5.171875 40.15625 2 \r\nQ 34.421875 -1.171875 27.640625 -1.171875 \r\nQ 16.75 -1.171875 10.03125 5.8125 \r\nQ 3.328125 12.796875 3.328125 25.921875 \r\nz\r\nM 12.359375 25.921875 \r\nQ 12.359375 15.96875 16.703125 11.015625 \r\nQ 21.046875 6.0625 27.640625 6.0625 \r\nQ 34.1875 6.0625 38.53125 11.03125 \r\nQ 42.875 16.015625 42.875 26.21875 \r\nQ 42.875 35.84375 38.5 40.796875 \r\nQ 34.125 45.75 27.640625 45.75 \r\nQ 21.046875 45.75 16.703125 40.8125 \r\nQ 12.359375 35.890625 12.359375 25.921875 \r\nz\r\n\" id=\"ArialMT-111\"/>\r\n      <path d=\"M 40.234375 0 \r\nL 40.234375 6.546875 \r\nQ 35.296875 -1.171875 25.734375 -1.171875 \r\nQ 19.53125 -1.171875 14.328125 2.25 \r\nQ 9.125 5.671875 6.265625 11.796875 \r\nQ 3.421875 17.921875 3.421875 25.875 \r\nQ 3.421875 33.640625 6 39.96875 \r\nQ 8.59375 46.296875 13.765625 49.65625 \r\nQ 18.953125 53.03125 25.34375 53.03125 \r\nQ 30.03125 53.03125 33.6875 51.046875 \r\nQ 37.359375 49.078125 39.65625 45.90625 \r\nL 39.65625 71.578125 \r\nL 48.390625 71.578125 \r\nL 48.390625 0 \r\nz\r\nM 12.453125 25.875 \r\nQ 12.453125 15.921875 16.640625 10.984375 \r\nQ 20.84375 6.0625 26.5625 6.0625 \r\nQ 32.328125 6.0625 36.34375 10.765625 \r\nQ 40.375 15.484375 40.375 25.140625 \r\nQ 40.375 35.796875 36.265625 40.765625 \r\nQ 32.171875 45.75 26.171875 45.75 \r\nQ 20.3125 45.75 16.375 40.96875 \r\nQ 12.453125 36.1875 12.453125 25.875 \r\nz\r\n\" id=\"ArialMT-100\"/>\r\n      <path d=\"M 42.09375 16.703125 \r\nL 51.171875 15.578125 \r\nQ 49.03125 7.625 43.21875 3.21875 \r\nQ 37.40625 -1.171875 28.375 -1.171875 \r\nQ 17 -1.171875 10.328125 5.828125 \r\nQ 3.65625 12.84375 3.65625 25.484375 \r\nQ 3.65625 38.578125 10.390625 45.796875 \r\nQ 17.140625 53.03125 27.875 53.03125 \r\nQ 38.28125 53.03125 44.875 45.953125 \r\nQ 51.46875 38.875 51.46875 26.03125 \r\nQ 51.46875 25.25 51.421875 23.6875 \r\nL 12.75 23.6875 \r\nQ 13.234375 15.140625 17.578125 10.59375 \r\nQ 21.921875 6.0625 28.421875 6.0625 \r\nQ 33.25 6.0625 36.671875 8.59375 \r\nQ 40.09375 11.140625 42.09375 16.703125 \r\nz\r\nM 13.234375 30.90625 \r\nL 42.1875 30.90625 \r\nQ 41.609375 37.453125 38.875 40.71875 \r\nQ 34.671875 45.796875 27.984375 45.796875 \r\nQ 21.921875 45.796875 17.796875 41.75 \r\nQ 13.671875 37.703125 13.234375 30.90625 \r\nz\r\n\" id=\"ArialMT-101\"/>\r\n      <path d=\"M 6.390625 0 \r\nL 6.390625 71.578125 \r\nL 15.1875 71.578125 \r\nL 15.1875 0 \r\nz\r\n\" id=\"ArialMT-108\"/>\r\n      <path id=\"ArialMT-32\"/>\r\n      <path d=\"M 6.5 0 \r\nL 6.5 51.859375 \r\nL 14.40625 51.859375 \r\nL 14.40625 44 \r\nQ 17.4375 49.515625 20 51.265625 \r\nQ 22.5625 53.03125 25.640625 53.03125 \r\nQ 30.078125 53.03125 34.671875 50.203125 \r\nL 31.640625 42.046875 \r\nQ 28.421875 43.953125 25.203125 43.953125 \r\nQ 22.3125 43.953125 20.015625 42.21875 \r\nQ 17.71875 40.484375 16.75 37.40625 \r\nQ 15.28125 32.71875 15.28125 27.15625 \r\nL 15.28125 0 \r\nz\r\n\" id=\"ArialMT-114\"/>\r\n     </defs>\r\n     <g style=\"fill:#262626;\" transform=\"translate(188.468594 256.789219)scale(0.12 -0.12)\">\r\n      <use xlink:href=\"#ArialMT-77\"/>\r\n      <use x=\"83.300781\" xlink:href=\"#ArialMT-111\"/>\r\n      <use x=\"138.916016\" xlink:href=\"#ArialMT-100\"/>\r\n      <use x=\"194.53125\" xlink:href=\"#ArialMT-101\"/>\r\n      <use x=\"250.146484\" xlink:href=\"#ArialMT-108\"/>\r\n      <use x=\"272.363281\" xlink:href=\"#ArialMT-32\"/>\r\n      <use x=\"300.146484\" xlink:href=\"#ArialMT-111\"/>\r\n      <use x=\"355.761719\" xlink:href=\"#ArialMT-114\"/>\r\n      <use x=\"389.0625\" xlink:href=\"#ArialMT-100\"/>\r\n      <use x=\"444.677734\" xlink:href=\"#ArialMT-101\"/>\r\n      <use x=\"500.292969\" xlink:href=\"#ArialMT-114\"/>\r\n     </g>\r\n    </g>\r\n   </g>\r\n   <g id=\"matplotlib.axis_2\">\r\n    <g id=\"ytick_1\">\r\n     <g id=\"line2d_5\">\r\n      <path clip-path=\"url(#p59bf6b0347)\" d=\"M 53.081406 217.330702 \r\nL 387.881406 217.330702 \r\n\" style=\"fill:none;stroke:#ffffff;stroke-linecap:round;\"/>\r\n     </g>\r\n     <g id=\"text_6\">\r\n      <!-- 0.68 -->\r\n      <defs>\r\n       <path d=\"M 4.15625 35.296875 \r\nQ 4.15625 48 6.765625 55.734375 \r\nQ 9.375 63.484375 14.515625 67.671875 \r\nQ 19.671875 71.875 27.484375 71.875 \r\nQ 33.25 71.875 37.59375 69.546875 \r\nQ 41.9375 67.234375 44.765625 62.859375 \r\nQ 47.609375 58.5 49.21875 52.21875 \r\nQ 50.828125 45.953125 50.828125 35.296875 \r\nQ 50.828125 22.703125 48.234375 14.96875 \r\nQ 45.65625 7.234375 40.5 3 \r\nQ 35.359375 -1.21875 27.484375 -1.21875 \r\nQ 17.140625 -1.21875 11.234375 6.203125 \r\nQ 4.15625 15.140625 4.15625 35.296875 \r\nz\r\nM 13.1875 35.296875 \r\nQ 13.1875 17.671875 17.3125 11.828125 \r\nQ 21.4375 6 27.484375 6 \r\nQ 33.546875 6 37.671875 11.859375 \r\nQ 41.796875 17.71875 41.796875 35.296875 \r\nQ 41.796875 52.984375 37.671875 58.78125 \r\nQ 33.546875 64.59375 27.390625 64.59375 \r\nQ 21.34375 64.59375 17.71875 59.46875 \r\nQ 13.1875 52.9375 13.1875 35.296875 \r\nz\r\n\" id=\"ArialMT-48\"/>\r\n       <path d=\"M 9.078125 0 \r\nL 9.078125 10.015625 \r\nL 19.09375 10.015625 \r\nL 19.09375 0 \r\nz\r\n\" id=\"ArialMT-46\"/>\r\n      </defs>\r\n      <g style=\"fill:#262626;\" transform=\"translate(22.174375 221.267499)scale(0.11 -0.11)\">\r\n       <use xlink:href=\"#ArialMT-48\"/>\r\n       <use x=\"55.615234\" xlink:href=\"#ArialMT-46\"/>\r\n       <use x=\"83.398438\" xlink:href=\"#ArialMT-54\"/>\r\n       <use x=\"139.013672\" xlink:href=\"#ArialMT-56\"/>\r\n      </g>\r\n     </g>\r\n    </g>\r\n    <g id=\"ytick_2\">\r\n     <g id=\"line2d_6\">\r\n      <path clip-path=\"url(#p59bf6b0347)\" d=\"M 53.081406 189.921413 \r\nL 387.881406 189.921413 \r\n\" style=\"fill:none;stroke:#ffffff;stroke-linecap:round;\"/>\r\n     </g>\r\n     <g id=\"text_7\">\r\n      <!-- 0.69 -->\r\n      <defs>\r\n       <path d=\"M 5.46875 16.546875 \r\nL 13.921875 17.328125 \r\nQ 14.984375 11.375 18.015625 8.6875 \r\nQ 21.046875 6 25.78125 6 \r\nQ 29.828125 6 32.875 7.859375 \r\nQ 35.9375 9.71875 37.890625 12.8125 \r\nQ 39.84375 15.921875 41.15625 21.1875 \r\nQ 42.484375 26.46875 42.484375 31.9375 \r\nQ 42.484375 32.515625 42.4375 33.6875 \r\nQ 39.796875 29.5 35.234375 26.875 \r\nQ 30.671875 24.265625 25.34375 24.265625 \r\nQ 16.453125 24.265625 10.296875 30.703125 \r\nQ 4.15625 37.15625 4.15625 47.703125 \r\nQ 4.15625 58.59375 10.578125 65.234375 \r\nQ 17 71.875 26.65625 71.875 \r\nQ 33.640625 71.875 39.421875 68.109375 \r\nQ 45.21875 64.359375 48.21875 57.390625 \r\nQ 51.21875 50.4375 51.21875 37.25 \r\nQ 51.21875 23.53125 48.234375 15.40625 \r\nQ 45.265625 7.28125 39.375 3.03125 \r\nQ 33.5 -1.21875 25.59375 -1.21875 \r\nQ 17.1875 -1.21875 11.859375 3.4375 \r\nQ 6.546875 8.109375 5.46875 16.546875 \r\nz\r\nM 41.453125 48.140625 \r\nQ 41.453125 55.71875 37.421875 60.15625 \r\nQ 33.40625 64.59375 27.734375 64.59375 \r\nQ 21.875 64.59375 17.53125 59.8125 \r\nQ 13.1875 55.03125 13.1875 47.40625 \r\nQ 13.1875 40.578125 17.3125 36.296875 \r\nQ 21.4375 32.03125 27.484375 32.03125 \r\nQ 33.59375 32.03125 37.515625 36.296875 \r\nQ 41.453125 40.578125 41.453125 48.140625 \r\nz\r\n\" id=\"ArialMT-57\"/>\r\n      </defs>\r\n      <g style=\"fill:#262626;\" transform=\"translate(22.174375 193.858209)scale(0.11 -0.11)\">\r\n       <use xlink:href=\"#ArialMT-48\"/>\r\n       <use x=\"55.615234\" xlink:href=\"#ArialMT-46\"/>\r\n       <use x=\"83.398438\" xlink:href=\"#ArialMT-54\"/>\r\n       <use x=\"139.013672\" xlink:href=\"#ArialMT-57\"/>\r\n      </g>\r\n     </g>\r\n    </g>\r\n    <g id=\"ytick_3\">\r\n     <g id=\"line2d_7\">\r\n      <path clip-path=\"url(#p59bf6b0347)\" d=\"M 53.081406 162.512123 \r\nL 387.881406 162.512123 \r\n\" style=\"fill:none;stroke:#ffffff;stroke-linecap:round;\"/>\r\n     </g>\r\n     <g id=\"text_8\">\r\n      <!-- 0.70 -->\r\n      <defs>\r\n       <path d=\"M 4.734375 62.203125 \r\nL 4.734375 70.65625 \r\nL 51.078125 70.65625 \r\nL 51.078125 63.8125 \r\nQ 44.234375 56.546875 37.515625 44.484375 \r\nQ 30.8125 32.421875 27.15625 19.671875 \r\nQ 24.515625 10.6875 23.78125 0 \r\nL 14.75 0 \r\nQ 14.890625 8.453125 18.0625 20.40625 \r\nQ 21.234375 32.375 27.171875 43.484375 \r\nQ 33.109375 54.59375 39.796875 62.203125 \r\nz\r\n\" id=\"ArialMT-55\"/>\r\n      </defs>\r\n      <g style=\"fill:#262626;\" transform=\"translate(22.174375 166.44892)scale(0.11 -0.11)\">\r\n       <use xlink:href=\"#ArialMT-48\"/>\r\n       <use x=\"55.615234\" xlink:href=\"#ArialMT-46\"/>\r\n       <use x=\"83.398438\" xlink:href=\"#ArialMT-55\"/>\r\n       <use x=\"139.013672\" xlink:href=\"#ArialMT-48\"/>\r\n      </g>\r\n     </g>\r\n    </g>\r\n    <g id=\"ytick_4\">\r\n     <g id=\"line2d_8\">\r\n      <path clip-path=\"url(#p59bf6b0347)\" d=\"M 53.081406 135.102834 \r\nL 387.881406 135.102834 \r\n\" style=\"fill:none;stroke:#ffffff;stroke-linecap:round;\"/>\r\n     </g>\r\n     <g id=\"text_9\">\r\n      <!-- 0.71 -->\r\n      <defs>\r\n       <path d=\"M 37.25 0 \r\nL 28.46875 0 \r\nL 28.46875 56 \r\nQ 25.296875 52.984375 20.140625 49.953125 \r\nQ 14.984375 46.921875 10.890625 45.40625 \r\nL 10.890625 53.90625 \r\nQ 18.265625 57.375 23.78125 62.296875 \r\nQ 29.296875 67.234375 31.59375 71.875 \r\nL 37.25 71.875 \r\nz\r\n\" id=\"ArialMT-49\"/>\r\n      </defs>\r\n      <g style=\"fill:#262626;\" transform=\"translate(22.174375 139.039631)scale(0.11 -0.11)\">\r\n       <use xlink:href=\"#ArialMT-48\"/>\r\n       <use x=\"55.615234\" xlink:href=\"#ArialMT-46\"/>\r\n       <use x=\"83.398438\" xlink:href=\"#ArialMT-55\"/>\r\n       <use x=\"139.013672\" xlink:href=\"#ArialMT-49\"/>\r\n      </g>\r\n     </g>\r\n    </g>\r\n    <g id=\"ytick_5\">\r\n     <g id=\"line2d_9\">\r\n      <path clip-path=\"url(#p59bf6b0347)\" d=\"M 53.081406 107.693545 \r\nL 387.881406 107.693545 \r\n\" style=\"fill:none;stroke:#ffffff;stroke-linecap:round;\"/>\r\n     </g>\r\n     <g id=\"text_10\">\r\n      <!-- 0.72 -->\r\n      <g style=\"fill:#262626;\" transform=\"translate(22.174375 111.630342)scale(0.11 -0.11)\">\r\n       <use xlink:href=\"#ArialMT-48\"/>\r\n       <use x=\"55.615234\" xlink:href=\"#ArialMT-46\"/>\r\n       <use x=\"83.398438\" xlink:href=\"#ArialMT-55\"/>\r\n       <use x=\"139.013672\" xlink:href=\"#ArialMT-50\"/>\r\n      </g>\r\n     </g>\r\n    </g>\r\n    <g id=\"ytick_6\">\r\n     <g id=\"line2d_10\">\r\n      <path clip-path=\"url(#p59bf6b0347)\" d=\"M 53.081406 80.284256 \r\nL 387.881406 80.284256 \r\n\" style=\"fill:none;stroke:#ffffff;stroke-linecap:round;\"/>\r\n     </g>\r\n     <g id=\"text_11\">\r\n      <!-- 0.73 -->\r\n      <defs>\r\n       <path d=\"M 4.203125 18.890625 \r\nL 12.984375 20.0625 \r\nQ 14.5 12.59375 18.140625 9.296875 \r\nQ 21.78125 6 27 6 \r\nQ 33.203125 6 37.46875 10.296875 \r\nQ 41.75 14.59375 41.75 20.953125 \r\nQ 41.75 27 37.796875 30.921875 \r\nQ 33.84375 34.859375 27.734375 34.859375 \r\nQ 25.25 34.859375 21.53125 33.890625 \r\nL 22.515625 41.609375 \r\nQ 23.390625 41.5 23.921875 41.5 \r\nQ 29.546875 41.5 34.03125 44.421875 \r\nQ 38.53125 47.359375 38.53125 53.46875 \r\nQ 38.53125 58.296875 35.25 61.46875 \r\nQ 31.984375 64.65625 26.8125 64.65625 \r\nQ 21.6875 64.65625 18.265625 61.421875 \r\nQ 14.84375 58.203125 13.875 51.765625 \r\nL 5.078125 53.328125 \r\nQ 6.6875 62.15625 12.390625 67.015625 \r\nQ 18.109375 71.875 26.609375 71.875 \r\nQ 32.46875 71.875 37.390625 69.359375 \r\nQ 42.328125 66.84375 44.9375 62.5 \r\nQ 47.5625 58.15625 47.5625 53.265625 \r\nQ 47.5625 48.640625 45.0625 44.828125 \r\nQ 42.578125 41.015625 37.703125 38.765625 \r\nQ 44.046875 37.3125 47.5625 32.6875 \r\nQ 51.078125 28.078125 51.078125 21.140625 \r\nQ 51.078125 11.765625 44.234375 5.25 \r\nQ 37.40625 -1.265625 26.953125 -1.265625 \r\nQ 17.53125 -1.265625 11.296875 4.34375 \r\nQ 5.078125 9.96875 4.203125 18.890625 \r\nz\r\n\" id=\"ArialMT-51\"/>\r\n      </defs>\r\n      <g style=\"fill:#262626;\" transform=\"translate(22.174375 84.221053)scale(0.11 -0.11)\">\r\n       <use xlink:href=\"#ArialMT-48\"/>\r\n       <use x=\"55.615234\" xlink:href=\"#ArialMT-46\"/>\r\n       <use x=\"83.398438\" xlink:href=\"#ArialMT-55\"/>\r\n       <use x=\"139.013672\" xlink:href=\"#ArialMT-51\"/>\r\n      </g>\r\n     </g>\r\n    </g>\r\n    <g id=\"ytick_7\">\r\n     <g id=\"line2d_11\">\r\n      <path clip-path=\"url(#p59bf6b0347)\" d=\"M 53.081406 52.874967 \r\nL 387.881406 52.874967 \r\n\" style=\"fill:none;stroke:#ffffff;stroke-linecap:round;\"/>\r\n     </g>\r\n     <g id=\"text_12\">\r\n      <!-- 0.74 -->\r\n      <g style=\"fill:#262626;\" transform=\"translate(22.174375 56.811763)scale(0.11 -0.11)\">\r\n       <use xlink:href=\"#ArialMT-48\"/>\r\n       <use x=\"55.615234\" xlink:href=\"#ArialMT-46\"/>\r\n       <use x=\"83.398438\" xlink:href=\"#ArialMT-55\"/>\r\n       <use x=\"139.013672\" xlink:href=\"#ArialMT-52\"/>\r\n      </g>\r\n     </g>\r\n    </g>\r\n    <g id=\"ytick_8\">\r\n     <g id=\"line2d_12\">\r\n      <path clip-path=\"url(#p59bf6b0347)\" d=\"M 53.081406 25.465677 \r\nL 387.881406 25.465677 \r\n\" style=\"fill:none;stroke:#ffffff;stroke-linecap:round;\"/>\r\n     </g>\r\n     <g id=\"text_13\">\r\n      <!-- 0.75 -->\r\n      <defs>\r\n       <path d=\"M 4.15625 18.75 \r\nL 13.375 19.53125 \r\nQ 14.40625 12.796875 18.140625 9.390625 \r\nQ 21.875 6 27.15625 6 \r\nQ 33.5 6 37.890625 10.78125 \r\nQ 42.28125 15.578125 42.28125 23.484375 \r\nQ 42.28125 31 38.0625 35.34375 \r\nQ 33.84375 39.703125 27 39.703125 \r\nQ 22.75 39.703125 19.328125 37.765625 \r\nQ 15.921875 35.84375 13.96875 32.765625 \r\nL 5.71875 33.84375 \r\nL 12.640625 70.609375 \r\nL 48.25 70.609375 \r\nL 48.25 62.203125 \r\nL 19.671875 62.203125 \r\nL 15.828125 42.96875 \r\nQ 22.265625 47.46875 29.34375 47.46875 \r\nQ 38.71875 47.46875 45.15625 40.96875 \r\nQ 51.609375 34.46875 51.609375 24.265625 \r\nQ 51.609375 14.546875 45.953125 7.46875 \r\nQ 39.0625 -1.21875 27.15625 -1.21875 \r\nQ 17.390625 -1.21875 11.203125 4.25 \r\nQ 5.03125 9.71875 4.15625 18.75 \r\nz\r\n\" id=\"ArialMT-53\"/>\r\n      </defs>\r\n      <g style=\"fill:#262626;\" transform=\"translate(22.174375 29.402474)scale(0.11 -0.11)\">\r\n       <use xlink:href=\"#ArialMT-48\"/>\r\n       <use x=\"55.615234\" xlink:href=\"#ArialMT-46\"/>\r\n       <use x=\"83.398438\" xlink:href=\"#ArialMT-55\"/>\r\n       <use x=\"139.013672\" xlink:href=\"#ArialMT-53\"/>\r\n      </g>\r\n     </g>\r\n    </g>\r\n    <g id=\"text_14\">\r\n     <!-- K-fold R2 -->\r\n     <defs>\r\n      <path d=\"M 7.328125 0 \r\nL 7.328125 71.578125 \r\nL 16.796875 71.578125 \r\nL 16.796875 36.078125 \r\nL 52.34375 71.578125 \r\nL 65.1875 71.578125 \r\nL 35.15625 42.578125 \r\nL 66.5 0 \r\nL 54 0 \r\nL 28.515625 36.234375 \r\nL 16.796875 24.8125 \r\nL 16.796875 0 \r\nz\r\n\" id=\"ArialMT-75\"/>\r\n      <path d=\"M 3.171875 21.484375 \r\nL 3.171875 30.328125 \r\nL 30.171875 30.328125 \r\nL 30.171875 21.484375 \r\nz\r\n\" id=\"ArialMT-45\"/>\r\n      <path d=\"M 8.6875 0 \r\nL 8.6875 45.015625 \r\nL 0.921875 45.015625 \r\nL 0.921875 51.859375 \r\nL 8.6875 51.859375 \r\nL 8.6875 57.375 \r\nQ 8.6875 62.59375 9.625 65.140625 \r\nQ 10.890625 68.5625 14.078125 70.671875 \r\nQ 17.28125 72.796875 23.046875 72.796875 \r\nQ 26.765625 72.796875 31.25 71.921875 \r\nL 29.9375 64.265625 \r\nQ 27.203125 64.75 24.75 64.75 \r\nQ 20.75 64.75 19.09375 63.03125 \r\nQ 17.4375 61.328125 17.4375 56.640625 \r\nL 17.4375 51.859375 \r\nL 27.546875 51.859375 \r\nL 27.546875 45.015625 \r\nL 17.4375 45.015625 \r\nL 17.4375 0 \r\nz\r\n\" id=\"ArialMT-102\"/>\r\n      <path d=\"M 7.859375 0 \r\nL 7.859375 71.578125 \r\nL 39.59375 71.578125 \r\nQ 49.171875 71.578125 54.140625 69.640625 \r\nQ 59.125 67.71875 62.109375 62.828125 \r\nQ 65.09375 57.953125 65.09375 52.046875 \r\nQ 65.09375 44.4375 60.15625 39.203125 \r\nQ 55.21875 33.984375 44.921875 32.5625 \r\nQ 48.6875 30.765625 50.640625 29 \r\nQ 54.78125 25.203125 58.5 19.484375 \r\nL 70.953125 0 \r\nL 59.03125 0 \r\nL 49.5625 14.890625 \r\nQ 45.40625 21.34375 42.71875 24.75 \r\nQ 40.046875 28.171875 37.921875 29.53125 \r\nQ 35.796875 30.90625 33.59375 31.453125 \r\nQ 31.984375 31.78125 28.328125 31.78125 \r\nL 17.328125 31.78125 \r\nL 17.328125 0 \r\nz\r\nM 17.328125 39.984375 \r\nL 37.703125 39.984375 \r\nQ 44.1875 39.984375 47.84375 41.328125 \r\nQ 51.515625 42.671875 53.421875 45.625 \r\nQ 55.328125 48.578125 55.328125 52.046875 \r\nQ 55.328125 57.125 51.640625 60.390625 \r\nQ 47.953125 63.671875 39.984375 63.671875 \r\nL 17.328125 63.671875 \r\nz\r\n\" id=\"ArialMT-82\"/>\r\n     </defs>\r\n     <g style=\"fill:#262626;\" transform=\"translate(15.789375 140.929687)rotate(-90)scale(0.12 -0.12)\">\r\n      <use xlink:href=\"#ArialMT-75\"/>\r\n      <use x=\"66.699219\" xlink:href=\"#ArialMT-45\"/>\r\n      <use x=\"100\" xlink:href=\"#ArialMT-102\"/>\r\n      <use x=\"127.783203\" xlink:href=\"#ArialMT-111\"/>\r\n      <use x=\"183.398438\" xlink:href=\"#ArialMT-108\"/>\r\n      <use x=\"205.615234\" xlink:href=\"#ArialMT-100\"/>\r\n      <use x=\"261.230469\" xlink:href=\"#ArialMT-32\"/>\r\n      <use x=\"289.013672\" xlink:href=\"#ArialMT-82\"/>\r\n      <use x=\"361.230469\" xlink:href=\"#ArialMT-50\"/>\r\n     </g>\r\n    </g>\r\n   </g>\r\n   <g id=\"PathCollection_1\">\r\n    <defs>\r\n     <path d=\"M 0 5 \r\nC 1.326016 5 2.597899 4.473168 3.535534 3.535534 \r\nC 4.473168 2.597899 5 1.326016 5 0 \r\nC 5 -1.326016 4.473168 -2.597899 3.535534 -3.535534 \r\nC 2.597899 -4.473168 1.326016 -5 0 -5 \r\nC -1.326016 -5 -2.597899 -4.473168 -3.535534 -3.535534 \r\nC -4.473168 -2.597899 -5 -1.326016 -5 0 \r\nC -5 1.326016 -4.473168 2.597899 -3.535534 3.535534 \r\nC -2.597899 4.473168 -1.326016 5 0 5 \r\nz\r\n\" id=\"C0_0_dcfe9fe4a2\"/>\r\n    </defs>\r\n    <g clip-path=\"url(#p59bf6b0347)\">\r\n     <use style=\"fill:#4c72b0;stroke:#ffffff;stroke-width:0.75;\" x=\"73.140537\" xlink:href=\"#C0_0_dcfe9fe4a2\" y=\"207.779942\"/>\r\n    </g>\r\n    <g clip-path=\"url(#p59bf6b0347)\">\r\n     <use style=\"fill:#4c72b0;stroke:#ffffff;stroke-width:0.75;\" x=\"109.975754\" xlink:href=\"#C0_0_dcfe9fe4a2\" y=\"209.997127\"/>\r\n    </g>\r\n    <g clip-path=\"url(#p59bf6b0347)\">\r\n     <use style=\"fill:#4c72b0;stroke:#ffffff;stroke-width:0.75;\" x=\"146.810971\" xlink:href=\"#C0_0_dcfe9fe4a2\" y=\"26.852086\"/>\r\n    </g>\r\n    <g clip-path=\"url(#p59bf6b0347)\">\r\n     <use style=\"fill:#dd8452;stroke:#ffffff;stroke-width:0.75;\" x=\"183.646189\" xlink:href=\"#C0_0_dcfe9fe4a2\" y=\"21.842873\"/>\r\n    </g>\r\n    <g clip-path=\"url(#p59bf6b0347)\">\r\n     <use style=\"fill:#4c72b0;stroke:#ffffff;stroke-width:0.75;\" x=\"220.481406\" xlink:href=\"#C0_0_dcfe9fe4a2\" y=\"25.027396\"/>\r\n    </g>\r\n    <g clip-path=\"url(#p59bf6b0347)\">\r\n     <use style=\"fill:#4c72b0;stroke:#ffffff;stroke-width:0.75;\" x=\"257.316624\" xlink:href=\"#C0_0_dcfe9fe4a2\" y=\"26.607757\"/>\r\n    </g>\r\n    <g clip-path=\"url(#p59bf6b0347)\">\r\n     <use style=\"fill:#4c72b0;stroke:#ffffff;stroke-width:0.75;\" x=\"294.151841\" xlink:href=\"#C0_0_dcfe9fe4a2\" y=\"26.33355\"/>\r\n    </g>\r\n    <g clip-path=\"url(#p59bf6b0347)\">\r\n     <use style=\"fill:#4c72b0;stroke:#ffffff;stroke-width:0.75;\" x=\"330.987058\" xlink:href=\"#C0_0_dcfe9fe4a2\" y=\"30.084594\"/>\r\n    </g>\r\n    <g clip-path=\"url(#p59bf6b0347)\">\r\n     <use style=\"fill:#4c72b0;stroke:#ffffff;stroke-width:0.75;\" x=\"367.822276\" xlink:href=\"#C0_0_dcfe9fe4a2\" y=\"22.757864\"/>\r\n    </g>\r\n   </g>\r\n   <g id=\"line2d_13\">\r\n    <path clip-path=\"url(#p59bf6b0347)\" d=\"M 73.140537 207.779942 \r\nL 109.975754 209.997127 \r\nL 146.810971 26.852086 \r\nL 183.646189 21.842873 \r\nL 220.481406 25.027396 \r\nL 257.316624 26.607757 \r\nL 294.151841 26.33355 \r\nL 330.987058 30.084594 \r\nL 367.822276 22.757864 \r\n\" style=\"fill:none;stroke:#4c72b0;stroke-linecap:round;stroke-width:1.5;\"/>\r\n   </g>\r\n   <g id=\"patch_3\">\r\n    <path d=\"M 53.081406 224.64 \r\nL 53.081406 7.2 \r\n\" style=\"fill:none;stroke:#ffffff;stroke-linecap:square;stroke-linejoin:miter;stroke-width:1.25;\"/>\r\n   </g>\r\n   <g id=\"patch_4\">\r\n    <path d=\"M 387.881406 224.64 \r\nL 387.881406 7.2 \r\n\" style=\"fill:none;stroke:#ffffff;stroke-linecap:square;stroke-linejoin:miter;stroke-width:1.25;\"/>\r\n   </g>\r\n   <g id=\"patch_5\">\r\n    <path d=\"M 53.081406 224.64 \r\nL 387.881406 224.64 \r\n\" style=\"fill:none;stroke:#ffffff;stroke-linecap:square;stroke-linejoin:miter;stroke-width:1.25;\"/>\r\n   </g>\r\n   <g id=\"patch_6\">\r\n    <path d=\"M 53.081406 7.2 \r\nL 387.881406 7.2 \r\n\" style=\"fill:none;stroke:#ffffff;stroke-linecap:square;stroke-linejoin:miter;stroke-width:1.25;\"/>\r\n   </g>\r\n  </g>\r\n </g>\r\n <defs>\r\n  <clipPath id=\"p59bf6b0347\">\r\n   <rect height=\"217.44\" width=\"334.8\" x=\"53.081406\" y=\"7.2\"/>\r\n  </clipPath>\r\n </defs>\r\n</svg>\r\n",
            "image/png": "[encoded data removed]"
          },
          "metadata": {}
        }
      ]
    },
    {
      "cell_type": "markdown",
      "metadata": {
        "id": "E4BFSlSflw0Q"
      },
      "source": [
        "### Model selection using 1-SE “rule”"
      ],
      "id": "E4BFSlSflw0Q"
    },
    {
      "cell_type": "markdown",
      "metadata": {
        "id": "E-EbEzZLlw0Q"
      },
      "source": [
        "When using the minimum K-fold CV error for model selection, we sometimes\n",
        "will still select an overly complex model <sup>\\[2\\]</sup>.\n",
        "\n",
        "As an alternative, we can use the “one standard error rule”\n",
        "<sup>\\[3\\]</sup>. According to this “rule”, we choose the least complex\n",
        "model whose error is no more than one standard error above the error of\n",
        "the best model - i.e. the simplest model whose performance is comparable\n",
        "to the best model.\n",
        "\n",
        "<small>\\[2\\] See [Cawley & Talbot (J of Machine Learning Research,\n",
        "2010)](http://www.jmlr.org/papers/volume11/cawley10a/cawley10a.pdf) for\n",
        "more on this.</small>\n",
        "\n",
        "<small>\\[3\\] See Chapter 7 of [Elements of Statistical\n",
        "Learning](https://web.stanford.edu/~hastie/Papers/ESLII.pdf) </small>"
      ],
      "id": "E-EbEzZLlw0Q"
    },
    {
      "cell_type": "markdown",
      "metadata": {
        "id": "AFQncHWulw0Q"
      },
      "source": [
        "We apply this rule as follows:\n",
        "\n",
        "-   Find the MSE for each fold for each model candidate\n",
        "-   For each model candidate, compute the mean and standard error of the\n",
        "    MSE over the $K$ folds. We will compute the standard error as\n",
        "    $$\\frac{\\sigma_{\\text{MSE}}}{\\sqrt{K-1}}$$ where\n",
        "    $\\sigma_{\\text{MSE}}$ is the standard deviation of the MSE over the\n",
        "    $K$ folds.\n",
        "-   Find the model with the smallest mean MSE (across the $K$ folds).\n",
        "    Compute the *target* as mean MSE + SE for this model.\n",
        "-   Select the least complex model whose mean MSE is below the target.\n",
        "\n",
        "This works for any metric that is a “lower is better” metric. If you are\n",
        "using a “higher is better” metric, such as R2, for example, you would\n",
        "modify the last two steps:\n",
        "\n",
        "-   Find the model with the **largest** mean R2 (across the $K$ folds).\n",
        "    Compute the **mean R2 - SE of R2** for this model. Call this\n",
        "    quantity the *target*.\n",
        "-   Select the least complex model whose mean R2 is **above** the\n",
        "    target."
      ],
      "id": "AFQncHWulw0Q"
    },
    {
      "cell_type": "code",
      "metadata": {
        "id": "dUsBA11ylw0Q"
      },
      "source": [
        "idx_min = np.argmin(mse_val.mean(axis=1))\n",
        "target = mse_val[idx_min,:].mean() + mse_val[idx_min,:].std()/np.sqrt(nfold-1)\n",
        "# np.where returns indices of values where condition is satisfied\n",
        "idx_one_se = np.where(mse_val.mean(axis=1) < target)\n",
        "d_one_se = np.min(dtest_list[idx_one_se])\n",
        "d_one_se"
      ],
      "id": "dUsBA11ylw0Q",
      "execution_count": null,
      "outputs": []
    },
    {
      "cell_type": "code",
      "metadata": {
        "id": "oww3Chr4lw0Q"
      },
      "source": [
        "plt.errorbar(x=dtest_list, y=mse_val.mean(axis=1), yerr=mse_val.std(axis=1)/np.sqrt(nfold-1));\n",
        "plt.hlines(y=target, xmin=np.min(dtest_list), xmax=np.max(dtest_list), ls='dotted')\n",
        "sns.scatterplot(x=dtest_list, y=mse_val.mean(axis=1), hue=dtest_list==d_one_se, s=100, legend=False);\n",
        "\n",
        "plt.xlabel(\"Model order\");\n",
        "plt.ylabel(\"K-fold MSE\");"
      ],
      "id": "oww3Chr4lw0Q",
      "execution_count": null,
      "outputs": []
    },
    {
      "cell_type": "code",
      "metadata": {
        "id": "mE8LQNBmlw0Q"
      },
      "source": [
        "idx_max = np.argmax(r2_val.mean(axis=1))\n",
        "target_r2 = r2_val[idx_max,:].mean() - r2_val[idx_max,:].std()/np.sqrt(nfold-1)\n",
        "# np.where returns indices of values where condition is satisfied\n",
        "idx_one_se_r2 = np.where(r2_val.mean(axis=1) > target_r2)\n",
        "d_one_se_r2 = np.min(dtest_list[idx_one_se_r2])\n",
        "d_one_se_r2"
      ],
      "id": "mE8LQNBmlw0Q",
      "execution_count": null,
      "outputs": []
    },
    {
      "cell_type": "code",
      "metadata": {
        "id": "i8QL_G4Clw0R"
      },
      "source": [
        "plt.errorbar(x=dtest_list, y=r2_val.mean(axis=1), yerr=r2_val.std(axis=1)/np.sqrt(nfold-1));\n",
        "plt.hlines(y=target_r2, xmin=np.min(dtest_list), xmax=np.max(dtest_list), ls='dotted')\n",
        "sns.scatterplot(x=dtest_list, y=r2_val.mean(axis=1), hue=dtest_list==d_one_se_r2, s=100, legend=False);\n",
        "\n",
        "plt.xlabel(\"Model order\");\n",
        "plt.ylabel(\"K-fold R2\");"
      ],
      "id": "i8QL_G4Clw0R",
      "execution_count": null,
      "outputs": []
    }
  ]
}